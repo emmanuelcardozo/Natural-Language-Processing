{
 "cells": [
  {
   "cell_type": "markdown",
   "metadata": {
    "id": "kBLpTr7plguX"
   },
   "source": [
    "<img src=\"https://github.com/hernancontigiani/ceia_memorias_especializacion/raw/master/Figures/logoFIUBA.jpg\" width=\"500\" align=\"center\">\n",
    "\n",
    "\n",
    "# Procesamiento de lenguaje natural\n",
    "## Sentiment analysis con Embeddings + LSTM"
   ]
  },
  {
   "cell_type": "markdown",
   "metadata": {},
   "source": [
    "### Alumno: Emmanuel Cardozo"
   ]
  },
  {
   "cell_type": "markdown",
   "metadata": {
    "id": "9W6nuajhlqZD"
   },
   "source": [
    "### Objetivo\n",
    "El objetivo es utilizar las críticas de compradores de ropa para que el sistema determine la evaluación del comprador y su crítica (cuantas estrellas le asigna al producto)."
   ]
  },
  {
   "cell_type": "code",
   "execution_count": 1,
   "metadata": {
    "id": "i6zvzv3qZ6xS"
   },
   "outputs": [],
   "source": [
    "!pip install --upgrade --no-cache-dir gdown --quiet"
   ]
  },
  {
   "cell_type": "code",
   "execution_count": 2,
   "metadata": {
    "id": "hCpOVzJdl8_p"
   },
   "outputs": [],
   "source": [
    "import numpy as np\n",
    "import random\n",
    "import io\n",
    "import pickle\n",
    "import pandas as pd\n",
    "\n",
    "import matplotlib.pyplot as plt\n",
    "import seaborn as sns\n",
    "\n",
    "from tensorflow import keras\n",
    "from tensorflow.keras import layers\n",
    "\n",
    "from keras.utils.np_utils import to_categorical\n",
    "from keras_preprocessing.sequence import pad_sequences\n",
    "from keras.models import Sequential\n",
    "from keras.layers import Dense\n",
    "from keras.layers import LSTM\n",
    "from keras.layers import Embedding"
   ]
  },
  {
   "cell_type": "markdown",
   "metadata": {
    "id": "8UPeRkrAmbF3"
   },
   "source": [
    "### Datos\n",
    "Utilizaremos como dataset críticas de compradores de ropa (eCommerce) los cuales puntuaron a cada prenda con un puntaje de 1 a 5 estrellas.\\\n",
    "Referencia del dataset: [LINK](https://www.kaggle.com/nicapotato/womens-ecommerce-clothing-reviews/version/1)"
   ]
  },
  {
   "cell_type": "code",
   "execution_count": 3,
   "metadata": {
    "id": "C7jLvTU3lSyL"
   },
   "outputs": [
    {
     "name": "stdout",
     "output_type": "stream",
     "text": [
      "El dataset ya se encuentra descargado\n"
     ]
    }
   ],
   "source": [
    "# Descargar la carpeta de dataset\n",
    "import os\n",
    "import gdown\n",
    "if os.access('clothing_ecommerce_reviews.csv', os.F_OK) is False:\n",
    "    url = 'https://drive.google.com/uc?id=1k2Dz4oY5uxI3JEaT6m-L2T2HvLkECYIP'\n",
    "    output = 'clothing_ecommerce_reviews.csv'\n",
    "    gdown.download(url, output, quiet=False)\n",
    "else:\n",
    "    print(\"El dataset ya se encuentra descargado\")"
   ]
  },
  {
   "cell_type": "code",
   "execution_count": 4,
   "metadata": {
    "id": "o-SV1P3dnD1J"
   },
   "outputs": [
    {
     "data": {
      "text/html": [
       "<div>\n",
       "<style scoped>\n",
       "    .dataframe tbody tr th:only-of-type {\n",
       "        vertical-align: middle;\n",
       "    }\n",
       "\n",
       "    .dataframe tbody tr th {\n",
       "        vertical-align: top;\n",
       "    }\n",
       "\n",
       "    .dataframe thead th {\n",
       "        text-align: right;\n",
       "    }\n",
       "</style>\n",
       "<table border=\"1\" class=\"dataframe\">\n",
       "  <thead>\n",
       "    <tr style=\"text-align: right;\">\n",
       "      <th></th>\n",
       "      <th>Clothing ID</th>\n",
       "      <th>Age</th>\n",
       "      <th>Title</th>\n",
       "      <th>Review Text</th>\n",
       "      <th>Rating</th>\n",
       "      <th>Recommended IND</th>\n",
       "      <th>Positive Feedback Count</th>\n",
       "      <th>Division Name</th>\n",
       "      <th>Department Name</th>\n",
       "      <th>Class Name</th>\n",
       "    </tr>\n",
       "  </thead>\n",
       "  <tbody>\n",
       "    <tr>\n",
       "      <th>0</th>\n",
       "      <td>767</td>\n",
       "      <td>33</td>\n",
       "      <td>NaN</td>\n",
       "      <td>Absolutely wonderful - silky and sexy and comf...</td>\n",
       "      <td>4</td>\n",
       "      <td>1</td>\n",
       "      <td>0</td>\n",
       "      <td>Initmates</td>\n",
       "      <td>Intimate</td>\n",
       "      <td>Intimates</td>\n",
       "    </tr>\n",
       "    <tr>\n",
       "      <th>1</th>\n",
       "      <td>1080</td>\n",
       "      <td>34</td>\n",
       "      <td>NaN</td>\n",
       "      <td>Love this dress!  it's sooo pretty.  i happene...</td>\n",
       "      <td>5</td>\n",
       "      <td>1</td>\n",
       "      <td>4</td>\n",
       "      <td>General</td>\n",
       "      <td>Dresses</td>\n",
       "      <td>Dresses</td>\n",
       "    </tr>\n",
       "    <tr>\n",
       "      <th>2</th>\n",
       "      <td>1077</td>\n",
       "      <td>60</td>\n",
       "      <td>Some major design flaws</td>\n",
       "      <td>I had such high hopes for this dress and reall...</td>\n",
       "      <td>3</td>\n",
       "      <td>0</td>\n",
       "      <td>0</td>\n",
       "      <td>General</td>\n",
       "      <td>Dresses</td>\n",
       "      <td>Dresses</td>\n",
       "    </tr>\n",
       "    <tr>\n",
       "      <th>3</th>\n",
       "      <td>1049</td>\n",
       "      <td>50</td>\n",
       "      <td>My favorite buy!</td>\n",
       "      <td>I love, love, love this jumpsuit. it's fun, fl...</td>\n",
       "      <td>5</td>\n",
       "      <td>1</td>\n",
       "      <td>0</td>\n",
       "      <td>General Petite</td>\n",
       "      <td>Bottoms</td>\n",
       "      <td>Pants</td>\n",
       "    </tr>\n",
       "    <tr>\n",
       "      <th>4</th>\n",
       "      <td>847</td>\n",
       "      <td>47</td>\n",
       "      <td>Flattering shirt</td>\n",
       "      <td>This shirt is very flattering to all due to th...</td>\n",
       "      <td>5</td>\n",
       "      <td>1</td>\n",
       "      <td>6</td>\n",
       "      <td>General</td>\n",
       "      <td>Tops</td>\n",
       "      <td>Blouses</td>\n",
       "    </tr>\n",
       "  </tbody>\n",
       "</table>\n",
       "</div>"
      ],
      "text/plain": [
       "   Clothing ID  Age                    Title  \\\n",
       "0          767   33                      NaN   \n",
       "1         1080   34                      NaN   \n",
       "2         1077   60  Some major design flaws   \n",
       "3         1049   50         My favorite buy!   \n",
       "4          847   47         Flattering shirt   \n",
       "\n",
       "                                         Review Text  Rating  Recommended IND  \\\n",
       "0  Absolutely wonderful - silky and sexy and comf...       4                1   \n",
       "1  Love this dress!  it's sooo pretty.  i happene...       5                1   \n",
       "2  I had such high hopes for this dress and reall...       3                0   \n",
       "3  I love, love, love this jumpsuit. it's fun, fl...       5                1   \n",
       "4  This shirt is very flattering to all due to th...       5                1   \n",
       "\n",
       "   Positive Feedback Count   Division Name Department Name Class Name  \n",
       "0                        0       Initmates        Intimate  Intimates  \n",
       "1                        4         General         Dresses    Dresses  \n",
       "2                        0         General         Dresses    Dresses  \n",
       "3                        0  General Petite         Bottoms      Pants  \n",
       "4                        6         General            Tops    Blouses  "
      ]
     },
     "execution_count": 4,
     "metadata": {},
     "output_type": "execute_result"
    }
   ],
   "source": [
    "# Armar el dataset\n",
    "df = pd.read_csv('clothing_ecommerce_reviews.csv')\n",
    "df.drop(columns = ['Unnamed: 0'], inplace = True)\n",
    "df.head()"
   ]
  },
  {
   "cell_type": "markdown",
   "metadata": {
    "id": "q-OwSePKm-FK"
   },
   "source": [
    "### 1 - Limpieza de datos\n",
    "Alumno:\n",
    "- Del dataset unicamente utilizar las columnas \"Review Text\" y \"Rating.\n",
    "- Tranformar el rating 1-5 a una escala numérica de 0 a 4.\n",
    "\n"
   ]
  },
  {
   "cell_type": "code",
   "execution_count": 5,
   "metadata": {
    "id": "-hc7-AmYnPC3"
   },
   "outputs": [
    {
     "data": {
      "text/html": [
       "<div>\n",
       "<style scoped>\n",
       "    .dataframe tbody tr th:only-of-type {\n",
       "        vertical-align: middle;\n",
       "    }\n",
       "\n",
       "    .dataframe tbody tr th {\n",
       "        vertical-align: top;\n",
       "    }\n",
       "\n",
       "    .dataframe thead th {\n",
       "        text-align: right;\n",
       "    }\n",
       "</style>\n",
       "<table border=\"1\" class=\"dataframe\">\n",
       "  <thead>\n",
       "    <tr style=\"text-align: right;\">\n",
       "      <th></th>\n",
       "      <th>Review Text</th>\n",
       "      <th>Rating</th>\n",
       "    </tr>\n",
       "  </thead>\n",
       "  <tbody>\n",
       "    <tr>\n",
       "      <th>0</th>\n",
       "      <td>Absolutely wonderful - silky and sexy and comf...</td>\n",
       "      <td>3</td>\n",
       "    </tr>\n",
       "    <tr>\n",
       "      <th>1</th>\n",
       "      <td>Love this dress!  it's sooo pretty.  i happene...</td>\n",
       "      <td>4</td>\n",
       "    </tr>\n",
       "    <tr>\n",
       "      <th>2</th>\n",
       "      <td>I had such high hopes for this dress and reall...</td>\n",
       "      <td>2</td>\n",
       "    </tr>\n",
       "    <tr>\n",
       "      <th>3</th>\n",
       "      <td>I love, love, love this jumpsuit. it's fun, fl...</td>\n",
       "      <td>4</td>\n",
       "    </tr>\n",
       "    <tr>\n",
       "      <th>4</th>\n",
       "      <td>This shirt is very flattering to all due to th...</td>\n",
       "      <td>4</td>\n",
       "    </tr>\n",
       "  </tbody>\n",
       "</table>\n",
       "</div>"
      ],
      "text/plain": [
       "                                         Review Text  Rating\n",
       "0  Absolutely wonderful - silky and sexy and comf...       3\n",
       "1  Love this dress!  it's sooo pretty.  i happene...       4\n",
       "2  I had such high hopes for this dress and reall...       2\n",
       "3  I love, love, love this jumpsuit. it's fun, fl...       4\n",
       "4  This shirt is very flattering to all due to th...       4"
      ]
     },
     "execution_count": 5,
     "metadata": {},
     "output_type": "execute_result"
    }
   ],
   "source": [
    "df_reviews = df.loc[:, ['Review Text', 'Rating']].dropna()\n",
    "df_reviews['Rating'] = df_reviews['Rating'] - 1\n",
    "df_reviews.head()"
   ]
  },
  {
   "cell_type": "code",
   "execution_count": 6,
   "metadata": {
    "id": "sZtvASVOn3ty"
   },
   "outputs": [
    {
     "data": {
      "image/png": "[encoded data removed]",
      "text/plain": [
       "<Figure size 432x288 with 1 Axes>"
      ]
     },
     "metadata": {
      "needs_background": "light"
     },
     "output_type": "display_data"
    },
    {
     "data": {
      "text/plain": [
       "{0: 821, 1: 1549, 2: 2823, 3: 4908, 4: 12540}"
      ]
     },
     "execution_count": 6,
     "metadata": {},
     "output_type": "execute_result"
    }
   ],
   "source": [
    "# Alumno: Observar como está distribuido el dataset respecto a la columna Rating\n",
    "# es decir, observar que tan balanceado se encuentra respecot a cada clase\n",
    "\n",
    "sns.countplot(data=df_reviews, x=\"Rating\")\n",
    "plt.show()\n",
    "\n",
    "unique, counts = np.unique(df_reviews[\"Rating\"], return_counts=True)\n",
    "dict(zip(unique, counts))"
   ]
  },
  {
   "cell_type": "markdown",
   "metadata": {},
   "source": [
    "Notamos que las clases se encuentran fuertemente desbalanceadas"
   ]
  },
  {
   "cell_type": "code",
   "execution_count": 56,
   "metadata": {
    "id": "gVJ_RVi4o1h3"
   },
   "outputs": [
    {
     "data": {
      "text/plain": [
       "array(['Absolutely wonderful - silky and sexy and comfortable',\n",
       "       'Love this dress!  it\\'s sooo pretty.  i happened to find it in a store, and i\\'m glad i did bc i never would have ordered it online bc it\\'s petite.  i bought a petite and am 5\\'8\".  i love the length on me- hits just a little below the knee.  would definitely be a true midi on someone who is truly petite.',\n",
       "       'I had such high hopes for this dress and really wanted it to work for me. i initially ordered the petite small (my usual size) but i found this to be outrageously small. so small in fact that i could not zip it up! i reordered it in petite medium, which was just ok. overall, the top half was comfortable and fit nicely, but the bottom half had a very tight under layer and several somewhat cheap (net) over layers. imo, a major design flaw was the net over layer sewn directly into the zipper - it c',\n",
       "       \"I love, love, love this jumpsuit. it's fun, flirty, and fabulous! every time i wear it, i get nothing but great compliments!\",\n",
       "       'This shirt is very flattering to all due to the adjustable front tie. it is the perfect length to wear with leggings and it is sleeveless so it pairs well with any cardigan. love this shirt!!!',\n",
       "       'I love tracy reese dresses, but this one is not for the very petite. i am just under 5 feet tall and usually wear a 0p in this brand. this dress was very pretty out of the package but its a lot of dress. the skirt is long and very full so it overwhelmed my small frame. not a stranger to alterations, shortening and narrowing the skirt would take away from the embellishment of the garment. i love the color and the idea of the style but it just did not work on me. i returned this dress.',\n",
       "       'I aded this in my basket at hte last mintue to see what it would look like in person. (store pick up). i went with teh darkler color only because i am so pale :-) hte color is really gorgeous, and turns out it mathced everythiing i was trying on with it prefectly. it is a little baggy on me and hte xs is hte msallet size (bummer, no petite). i decided to jkeep it though, because as i said, it matvehd everything. my ejans, pants, and the 3 skirts i waas trying on (of which i ]kept all ) oops.'],\n",
       "      dtype=object)"
      ]
     },
     "execution_count": 56,
     "metadata": {},
     "output_type": "execute_result"
    }
   ],
   "source": [
    "# Alumno: tomar la columna de las review y almacenarlo todo en un vector numpy de reviews\n",
    "\n",
    "reviews = df_reviews[\"Review Text\"].to_numpy()\n",
    "reviews[:7]"
   ]
  },
  {
   "cell_type": "code",
   "execution_count": 8,
   "metadata": {
    "id": "4nT5Un_co65Q"
   },
   "outputs": [
    {
     "name": "stdout",
     "output_type": "stream",
     "text": [
      "Son 22641 reviews\n"
     ]
    }
   ],
   "source": [
    "# Alumno: Cuantas reviews (rows) hay para evaluar?\n",
    "\n",
    "print(f\"Son {reviews.shape[0]} reviews\")"
   ]
  },
  {
   "cell_type": "code",
   "execution_count": 9,
   "metadata": {
    "id": "HP5uN9tqpHu_"
   },
   "outputs": [],
   "source": [
    "# Alumno: Concatenar todas las reviews para armar el corpus\n",
    "\n",
    "corpus = \" \".join(reviews)"
   ]
  },
  {
   "cell_type": "code",
   "execution_count": 10,
   "metadata": {
    "id": "FEzmePgdpf74"
   },
   "outputs": [
    {
     "name": "stdout",
     "output_type": "stream",
     "text": [
      "La longitud del corpus es de 7011643 caracteres\n"
     ]
    }
   ],
   "source": [
    "# Alumno: ¿Cuál es la longitud de ese corpus?\n",
    "\n",
    "print(f\"La longitud del corpus es de {len(corpus)} caracteres\")"
   ]
  },
  {
   "cell_type": "code",
   "execution_count": 11,
   "metadata": {
    "id": "MYeJLdDmpvOe"
   },
   "outputs": [],
   "source": [
    "# Alumno: Utilizar \"text_to_word_sequence\" para separar las palabras en tokens\n",
    "# recordar que text_to_word_sequence automaticamente quita los signos de puntuacion y pasa el texto a lowercase\n",
    "\n",
    "from keras.preprocessing.text import text_to_word_sequence\n",
    "\n",
    "tokens = text_to_word_sequence(corpus)"
   ]
  },
  {
   "cell_type": "code",
   "execution_count": 12,
   "metadata": {
    "id": "M6L-fnWAp_lA"
   },
   "outputs": [
    {
     "data": {
      "text/plain": [
       "['absolutely',\n",
       " 'wonderful',\n",
       " 'silky',\n",
       " 'and',\n",
       " 'sexy',\n",
       " 'and',\n",
       " 'comfortable',\n",
       " 'love',\n",
       " 'this',\n",
       " 'dress',\n",
       " \"it's\",\n",
       " 'sooo',\n",
       " 'pretty',\n",
       " 'i',\n",
       " 'happened',\n",
       " 'to',\n",
       " 'find',\n",
       " 'it',\n",
       " 'in',\n",
       " 'a']"
      ]
     },
     "execution_count": 12,
     "metadata": {},
     "output_type": "execute_result"
    }
   ],
   "source": [
    "# Alumno: Dar un vistazo a los primeros 20 tokens/palabras\n",
    "\n",
    "tokens[:20]"
   ]
  },
  {
   "cell_type": "code",
   "execution_count": 57,
   "metadata": {
    "id": "-8QgwwMUqG0d"
   },
   "outputs": [
    {
     "name": "stdout",
     "output_type": "stream",
     "text": [
      "La cantidad de tokens/palabras que tiene el corpus es de: 1372203\n"
     ]
    }
   ],
   "source": [
    "# Alumno: ¿Cuántos tokens/palabras hay?\n",
    "\n",
    "print(f\"La cantidad de tokens/palabras que tiene el corpus es de: {len(tokens)}\")"
   ]
  },
  {
   "cell_type": "code",
   "execution_count": 14,
   "metadata": {
    "id": "TFukNZdOsZ8_"
   },
   "outputs": [],
   "source": [
    "# Alumno: Tokenizar las palabras con el Tokenizer de Keras\n",
    "# Definir una máxima cantidad de palabras a utilizar:\n",
    "# num_words --> the maximum number of words to keep, based on word frequency.\n",
    "# Only the most common num_words-1 words will be kept.\n",
    "from keras.preprocessing.text import Tokenizer\n",
    "num_words = 3000\n",
    "vocab_size = num_words\n",
    "\n",
    "tok = Tokenizer(num_words=vocab_size)\n",
    "tok.fit_on_texts(tokens)"
   ]
  },
  {
   "cell_type": "code",
   "execution_count": 58,
   "metadata": {
    "id": "JnR1tlqZy94X"
   },
   "outputs": [
    {
     "name": "stdout",
     "output_type": "stream",
     "text": [
      "El vocabulario contiene 14847 palabras. En el entrenamiento se usaran las 3000 mas frecuentes.\n"
     ]
    }
   ],
   "source": [
    "# Alumno: Obtener el diccionario de palabra (word) a índice\n",
    "# y observar la cantidad total del vocabulario\n",
    "\n",
    "word_index = tok.word_index\n",
    "\n",
    "print(\n",
    "    f\"El vocabulario contiene {len(word_index)} palabras. En el entrenamiento se usaran las {vocab_size} mas frecuentes.\"\n",
    ")"
   ]
  },
  {
   "cell_type": "code",
   "execution_count": 16,
   "metadata": {
    "id": "AvWzzSretQXf"
   },
   "outputs": [
    {
     "data": {
      "text/plain": [
       "[253, 532, 917, 3, 662, 3, 68]"
      ]
     },
     "execution_count": 16,
     "metadata": {},
     "output_type": "execute_result"
    }
   ],
   "source": [
    "# Alumno: Convertir las palabras/tokens a números\n",
    "\n",
    "sequences = tok.texts_to_sequences(reviews)\n",
    "sequences[0]"
   ]
  },
  {
   "cell_type": "code",
   "execution_count": 17,
   "metadata": {
    "id": "za73M5SRtbrP"
   },
   "outputs": [
    {
     "name": "stdout",
     "output_type": "stream",
     "text": [
      "La oracion más larga tiene 115 caracteres\n"
     ]
    }
   ],
   "source": [
    "# Alumno: Determinar cual es la oración más larga\n",
    "\n",
    "max_len = len(max(sequences, key=len))\n",
    "print(f\"La oracion más larga tiene {max_len} caracteres\")"
   ]
  },
  {
   "cell_type": "code",
   "execution_count": 18,
   "metadata": {
    "id": "oCkO9Wc9tls1"
   },
   "outputs": [
    {
     "data": {
      "text/plain": [
       "array([   0,    0,    0,    0,    0,    0,    0,    0,    0,    0,    0,\n",
       "          0,    0,    0,    0,    0,    0,    0,    0,    0,    0,    0,\n",
       "          0,    0,    0,    0,    0,    0,    0,    0,    0,    0,    0,\n",
       "          0,    0,    0,    0,    0,    0,    0,    0,    0,    0,    0,\n",
       "          0,    0,    0,    0,    0,    0,    0,    0,    0,   21,    7,\n",
       "         18,   33, 1713,   99,    2, 1322,    8,  221,    5,    9,    4,\n",
       "        106,    3,   36,  314,    2,  131, 1243,    2,  429,   41,   24,\n",
       "         52,    5,  136, 1243,   33,   95,    2,   72,    4,   95,    3,\n",
       "         38,  501,    2,   21,    1,   86,   11,   31,  416,   39,    4,\n",
       "         53,  454,    1,  392,   41,  155,   29,    4,  130, 1372,   11,\n",
       "        438,  439,    6,  772,   95])"
      ]
     },
     "execution_count": 18,
     "metadata": {},
     "output_type": "execute_result"
    }
   ],
   "source": [
    "# Alumno: Realizar padding de las sentencias al mismo tamaño\n",
    "# tomando de referencia la máxima sentencia\n",
    "from keras_preprocessing.sequence import pad_sequences\n",
    "maxlen = 115\n",
    "\n",
    "X = pad_sequences(sequences, padding=\"pre\", maxlen=max_len)\n",
    "X[1]"
   ]
  },
  {
   "cell_type": "code",
   "execution_count": 19,
   "metadata": {
    "id": "kGHHabVdt_aa"
   },
   "outputs": [
    {
     "name": "stdout",
     "output_type": "stream",
     "text": [
      "Dimensiones de la variable input: (22641, 115)\n"
     ]
    }
   ],
   "source": [
    "# Alumno: Observar las dimensiones de la variable input\n",
    "\n",
    "print(f\"Dimensiones de la variable input: {X.shape}\")"
   ]
  },
  {
   "cell_type": "code",
   "execution_count": 20,
   "metadata": {
    "id": "llVM-tzQo9_F"
   },
   "outputs": [
    {
     "name": "stdout",
     "output_type": "stream",
     "text": [
      "(22641, 5)\n"
     ]
    },
    {
     "data": {
      "text/plain": [
       "array([[0., 0., 0., 1., 0.],\n",
       "       [0., 0., 0., 0., 1.],\n",
       "       [0., 0., 1., 0., 0.],\n",
       "       [0., 0., 0., 0., 1.],\n",
       "       [0., 0., 0., 0., 1.]], dtype=float32)"
      ]
     },
     "execution_count": 20,
     "metadata": {},
     "output_type": "execute_result"
    }
   ],
   "source": [
    "# Alumno tomar la columna rating y alcemacenarla en una variable \"y\" transformada a oneHotEncoding\n",
    "# Su shape debe ser equivalente la cantidad de rows del corpus y a la cantidad\n",
    "# de clases que se deseen predecir (en este ejemplo son 5)\n",
    "\n",
    "y = df_reviews[\"Rating\"].to_numpy()\n",
    "\n",
    "y = to_categorical(y)\n",
    "print(y.shape)\n",
    "y[:5]"
   ]
  },
  {
   "cell_type": "code",
   "execution_count": 59,
   "metadata": {
    "id": "Rmz9A6n4uK4V"
   },
   "outputs": [
    {
     "name": "stdout",
     "output_type": "stream",
     "text": [
      "X_train shape: (18112, 115)\n",
      "y_train shape: (18112, 5)\n",
      "X_test shape: (4529, 115)\n",
      "y_test shape: (4529, 5)\n"
     ]
    }
   ],
   "source": [
    "# Alumno: Dividir los datos en train y test\n",
    "from sklearn.model_selection import train_test_split\n",
    "\n",
    "X_train, X_test, y_train, y_test = train_test_split(\n",
    "    X, y, test_size=0.2, random_state=42\n",
    ")\n",
    "\n",
    "print(f\"X_train shape: {X_train.shape}\")\n",
    "print(f\"y_train shape: {y_train.shape}\")\n",
    "print(f\"X_test shape: {X_test.shape}\")\n",
    "print(f\"y_test shape: {y_test.shape}\")"
   ]
  },
  {
   "cell_type": "code",
   "execution_count": 60,
   "metadata": {
    "id": "EcDPlhEouQ9E"
   },
   "outputs": [
    {
     "name": "stdout",
     "output_type": "stream",
     "text": [
      "Dimensión de entrada: 115\n",
      "Dimensión de salida: 5\n"
     ]
    }
   ],
   "source": [
    "# Alumno: determinar la dimensiones de entrada y salida\n",
    "\n",
    "in_dim = X_train.shape[1]\n",
    "out_dim = y_train.shape[1]\n",
    "\n",
    "print(f\"Dimensión de entrada: {in_dim}\")\n",
    "print(f\"Dimensión de salida: {out_dim}\")"
   ]
  },
  {
   "cell_type": "markdown",
   "metadata": {
    "id": "NpbQHExL6OTu"
   },
   "source": [
    "### 2 - Entrenar el modelo con Embeddings + LSTM"
   ]
  },
  {
   "cell_type": "code",
   "execution_count": 61,
   "metadata": {
    "id": "NUkuWBsM6cx3"
   },
   "outputs": [
    {
     "name": "stdout",
     "output_type": "stream",
     "text": [
      "Model: \"sequential_1\"\n",
      "_________________________________________________________________\n",
      " Layer (type)                Output Shape              Param #   \n",
      "=================================================================\n",
      " embedding_1 (Embedding)     (None, 115, 50)           150050    \n",
      "                                                                 \n",
      " lstm_2 (LSTM)               (None, 115, 64)           29440     \n",
      "                                                                 \n",
      " dropout_2 (Dropout)         (None, 115, 64)           0         \n",
      "                                                                 \n",
      " lstm_3 (LSTM)               (None, 128)               98816     \n",
      "                                                                 \n",
      " dense_2 (Dense)             (None, 64)                8256      \n",
      "                                                                 \n",
      " dropout_3 (Dropout)         (None, 64)                0         \n",
      "                                                                 \n",
      " dense_3 (Dense)             (None, 5)                 325       \n",
      "                                                                 \n",
      "=================================================================\n",
      "Total params: 286,887\n",
      "Trainable params: 286,887\n",
      "Non-trainable params: 0\n",
      "_________________________________________________________________\n"
     ]
    }
   ],
   "source": [
    "# Alumno: Entrene su modelo con LSTM entrenando sus propios embeddings\n",
    "# o utilizando embeddings pre-entrenados.\n",
    "from keras.layers import LSTM\n",
    "from keras.layers import Embedding\n",
    "from keras.layers import Dropout\n",
    "\n",
    "model = Sequential()\n",
    "model.add(Embedding(input_dim=vocab_size + 1, output_dim=50, input_length=in_dim))\n",
    "model.add(LSTM(64, return_sequences=True))\n",
    "model.add(Dropout(0.3))\n",
    "model.add(LSTM(128))\n",
    "model.add(Dense(64, activation=\"relu\"))\n",
    "model.add(Dropout(0.3))\n",
    "model.add(Dense(out_dim, activation=\"softmax\"))\n",
    "model.compile(optimizer=\"adam\", loss=\"categorical_crossentropy\", metrics=[\"accuracy\"])\n",
    "\n",
    "model.summary()"
   ]
  },
  {
   "cell_type": "code",
   "execution_count": 24,
   "metadata": {},
   "outputs": [
    {
     "name": "stdout",
     "output_type": "stream",
     "text": [
      "Epoch 1/100\n",
      "8/8 [==============================] - 55s 5s/step - loss: 1.5318 - accuracy: 0.5256 - val_loss: 1.2866 - val_accuracy: 0.5468\n",
      "Epoch 2/100\n",
      "8/8 [==============================] - 36s 4s/step - loss: 1.2528 - accuracy: 0.5532 - val_loss: 1.2375 - val_accuracy: 0.5468\n",
      "Epoch 3/100\n",
      "8/8 [==============================] - 36s 5s/step - loss: 1.2108 - accuracy: 0.5529 - val_loss: 1.2015 - val_accuracy: 0.5468\n",
      "Epoch 4/100\n",
      "8/8 [==============================] - 37s 5s/step - loss: 1.1703 - accuracy: 0.5530 - val_loss: 1.1391 - val_accuracy: 0.5468\n",
      "Epoch 5/100\n",
      "8/8 [==============================] - 38s 5s/step - loss: 1.0711 - accuracy: 0.5571 - val_loss: 1.0421 - val_accuracy: 0.5774\n",
      "Epoch 6/100\n",
      "8/8 [==============================] - 40s 5s/step - loss: 0.9879 - accuracy: 0.5987 - val_loss: 1.0092 - val_accuracy: 0.5882\n",
      "Epoch 7/100\n",
      "8/8 [==============================] - 41s 5s/step - loss: 0.9468 - accuracy: 0.6068 - val_loss: 0.9753 - val_accuracy: 0.6028\n",
      "Epoch 8/100\n",
      "8/8 [==============================] - 42s 5s/step - loss: 0.9042 - accuracy: 0.6195 - val_loss: 0.9503 - val_accuracy: 0.6078\n",
      "Epoch 9/100\n",
      "8/8 [==============================] - 42s 5s/step - loss: 0.8820 - accuracy: 0.6259 - val_loss: 0.9618 - val_accuracy: 0.6105\n",
      "Epoch 10/100\n",
      "8/8 [==============================] - 42s 5s/step - loss: 0.8668 - accuracy: 0.6290 - val_loss: 0.9407 - val_accuracy: 0.6139\n",
      "Epoch 11/100\n",
      "8/8 [==============================] - 43s 5s/step - loss: 0.8465 - accuracy: 0.6379 - val_loss: 0.9488 - val_accuracy: 0.6050\n",
      "Epoch 12/100\n",
      "8/8 [==============================] - 45s 5s/step - loss: 0.8291 - accuracy: 0.6399 - val_loss: 0.9688 - val_accuracy: 0.6152\n",
      "Epoch 13/100\n",
      "8/8 [==============================] - 43s 5s/step - loss: 0.8168 - accuracy: 0.6497 - val_loss: 0.9441 - val_accuracy: 0.6105\n",
      "Epoch 14/100\n",
      "8/8 [==============================] - 43s 5s/step - loss: 0.8135 - accuracy: 0.6470 - val_loss: 0.9528 - val_accuracy: 0.6064\n",
      "Epoch 15/100\n",
      "8/8 [==============================] - 45s 6s/step - loss: 0.8025 - accuracy: 0.6527 - val_loss: 0.9620 - val_accuracy: 0.6191\n",
      "Epoch 16/100\n",
      "8/8 [==============================] - 43s 5s/step - loss: 0.7860 - accuracy: 0.6595 - val_loss: 0.9718 - val_accuracy: 0.6097\n",
      "Epoch 17/100\n",
      "8/8 [==============================] - 44s 5s/step - loss: 0.7796 - accuracy: 0.6653 - val_loss: 0.9802 - val_accuracy: 0.5857\n",
      "Epoch 18/100\n",
      "8/8 [==============================] - 44s 6s/step - loss: 0.7876 - accuracy: 0.6606 - val_loss: 1.0022 - val_accuracy: 0.6163\n",
      "Epoch 19/100\n",
      "8/8 [==============================] - 44s 5s/step - loss: 0.7777 - accuracy: 0.6642 - val_loss: 1.0096 - val_accuracy: 0.6150\n",
      "Epoch 20/100\n",
      "8/8 [==============================] - 42s 5s/step - loss: 0.7632 - accuracy: 0.6713 - val_loss: 0.9852 - val_accuracy: 0.6042\n",
      "Epoch 21/100\n",
      "8/8 [==============================] - 43s 5s/step - loss: 0.7597 - accuracy: 0.6744 - val_loss: 1.0185 - val_accuracy: 0.6064\n",
      "Epoch 22/100\n",
      "8/8 [==============================] - 46s 6s/step - loss: 0.7569 - accuracy: 0.6773 - val_loss: 0.9980 - val_accuracy: 0.5813\n",
      "Epoch 23/100\n",
      "8/8 [==============================] - 44s 6s/step - loss: 0.7616 - accuracy: 0.6694 - val_loss: 1.0057 - val_accuracy: 0.6045\n",
      "Epoch 24/100\n",
      "8/8 [==============================] - 45s 6s/step - loss: 0.7470 - accuracy: 0.6745 - val_loss: 1.0076 - val_accuracy: 0.6161\n",
      "Epoch 25/100\n",
      "8/8 [==============================] - 44s 5s/step - loss: 0.7343 - accuracy: 0.6858 - val_loss: 1.0100 - val_accuracy: 0.6006\n",
      "Epoch 26/100\n",
      "8/8 [==============================] - 44s 5s/step - loss: 0.7162 - accuracy: 0.6965 - val_loss: 1.0360 - val_accuracy: 0.6111\n",
      "Epoch 27/100\n",
      "8/8 [==============================] - 43s 5s/step - loss: 0.7070 - accuracy: 0.6988 - val_loss: 0.9958 - val_accuracy: 0.6056\n",
      "Epoch 28/100\n",
      "8/8 [==============================] - 43s 5s/step - loss: 0.7041 - accuracy: 0.7035 - val_loss: 1.0568 - val_accuracy: 0.6122\n",
      "Epoch 29/100\n",
      "8/8 [==============================] - 44s 5s/step - loss: 0.6907 - accuracy: 0.7130 - val_loss: 1.0581 - val_accuracy: 0.6122\n",
      "Epoch 30/100\n",
      "8/8 [==============================] - 44s 5s/step - loss: 0.6824 - accuracy: 0.7139 - val_loss: 1.0398 - val_accuracy: 0.5987\n",
      "Epoch 31/100\n",
      "8/8 [==============================] - 44s 5s/step - loss: 0.6833 - accuracy: 0.7185 - val_loss: 1.0526 - val_accuracy: 0.6158\n",
      "Epoch 32/100\n",
      "8/8 [==============================] - 44s 5s/step - loss: 0.6620 - accuracy: 0.7232 - val_loss: 1.0735 - val_accuracy: 0.5876\n",
      "Epoch 33/100\n",
      "8/8 [==============================] - 43s 5s/step - loss: 0.6591 - accuracy: 0.7284 - val_loss: 1.0492 - val_accuracy: 0.6056\n",
      "Epoch 34/100\n",
      "8/8 [==============================] - 44s 5s/step - loss: 0.6506 - accuracy: 0.7348 - val_loss: 1.1114 - val_accuracy: 0.6161\n",
      "Epoch 35/100\n",
      "8/8 [==============================] - 43s 5s/step - loss: 0.6462 - accuracy: 0.7338 - val_loss: 1.0818 - val_accuracy: 0.6116\n",
      "Epoch 36/100\n",
      "8/8 [==============================] - 44s 5s/step - loss: 0.6256 - accuracy: 0.7439 - val_loss: 1.0987 - val_accuracy: 0.5943\n",
      "Epoch 37/100\n",
      "8/8 [==============================] - 43s 5s/step - loss: 0.6291 - accuracy: 0.7411 - val_loss: 1.1597 - val_accuracy: 0.6053\n",
      "Epoch 38/100\n",
      "8/8 [==============================] - 43s 5s/step - loss: 0.6255 - accuracy: 0.7473 - val_loss: 1.1134 - val_accuracy: 0.5929\n",
      "Epoch 39/100\n",
      "8/8 [==============================] - 43s 5s/step - loss: 0.6111 - accuracy: 0.7546 - val_loss: 1.1287 - val_accuracy: 0.6070\n",
      "Epoch 40/100\n",
      "8/8 [==============================] - 43s 5s/step - loss: 0.6024 - accuracy: 0.7574 - val_loss: 1.1850 - val_accuracy: 0.6047\n",
      "Epoch 41/100\n",
      "8/8 [==============================] - 43s 5s/step - loss: 0.5920 - accuracy: 0.7625 - val_loss: 1.2104 - val_accuracy: 0.5890\n",
      "Epoch 42/100\n",
      "8/8 [==============================] - 44s 5s/step - loss: 0.5776 - accuracy: 0.7747 - val_loss: 1.1870 - val_accuracy: 0.5951\n",
      "Epoch 43/100\n",
      "8/8 [==============================] - 43s 5s/step - loss: 0.5690 - accuracy: 0.7738 - val_loss: 1.2102 - val_accuracy: 0.5987\n",
      "Epoch 44/100\n",
      "8/8 [==============================] - 43s 5s/step - loss: 0.5612 - accuracy: 0.7802 - val_loss: 1.2556 - val_accuracy: 0.5948\n",
      "Epoch 45/100\n",
      "8/8 [==============================] - 44s 5s/step - loss: 0.5549 - accuracy: 0.7796 - val_loss: 1.2880 - val_accuracy: 0.5628\n",
      "Epoch 46/100\n",
      "8/8 [==============================] - 43s 5s/step - loss: 0.5717 - accuracy: 0.7706 - val_loss: 1.2663 - val_accuracy: 0.6092\n",
      "Epoch 47/100\n",
      "8/8 [==============================] - 43s 5s/step - loss: 0.5375 - accuracy: 0.7886 - val_loss: 1.3752 - val_accuracy: 0.5921\n",
      "Epoch 48/100\n",
      "8/8 [==============================] - 44s 5s/step - loss: 0.5522 - accuracy: 0.7791 - val_loss: 1.2477 - val_accuracy: 0.5987\n",
      "Epoch 49/100\n",
      "8/8 [==============================] - 45s 6s/step - loss: 0.5247 - accuracy: 0.7956 - val_loss: 1.3543 - val_accuracy: 0.5675\n",
      "Epoch 50/100\n",
      "8/8 [==============================] - 45s 6s/step - loss: 0.5292 - accuracy: 0.7932 - val_loss: 1.3288 - val_accuracy: 0.5918\n",
      "Epoch 51/100\n",
      "8/8 [==============================] - 44s 5s/step - loss: 0.5130 - accuracy: 0.8052 - val_loss: 1.3999 - val_accuracy: 0.5981\n",
      "Epoch 52/100\n",
      "8/8 [==============================] - 44s 5s/step - loss: 0.5027 - accuracy: 0.8018 - val_loss: 1.4046 - val_accuracy: 0.5879\n",
      "Epoch 53/100\n",
      "8/8 [==============================] - 44s 5s/step - loss: 0.4857 - accuracy: 0.8163 - val_loss: 1.4615 - val_accuracy: 0.5783\n",
      "Epoch 54/100\n",
      "8/8 [==============================] - 43s 5s/step - loss: 0.4881 - accuracy: 0.8134 - val_loss: 1.4507 - val_accuracy: 0.5967\n",
      "Epoch 55/100\n",
      "8/8 [==============================] - 43s 5s/step - loss: 0.4769 - accuracy: 0.8183 - val_loss: 1.5001 - val_accuracy: 0.5849\n",
      "Epoch 56/100\n",
      "8/8 [==============================] - 43s 5s/step - loss: 0.4675 - accuracy: 0.8246 - val_loss: 1.5745 - val_accuracy: 0.5827\n",
      "Epoch 57/100\n",
      "8/8 [==============================] - 45s 6s/step - loss: 0.4653 - accuracy: 0.8264 - val_loss: 1.5018 - val_accuracy: 0.5827\n",
      "Epoch 58/100\n",
      "8/8 [==============================] - 43s 5s/step - loss: 0.4505 - accuracy: 0.8338 - val_loss: 1.7117 - val_accuracy: 0.5865\n",
      "Epoch 59/100\n",
      "8/8 [==============================] - 44s 5s/step - loss: 0.4392 - accuracy: 0.8387 - val_loss: 1.6820 - val_accuracy: 0.5747\n",
      "Epoch 60/100\n",
      "8/8 [==============================] - 45s 6s/step - loss: 0.4407 - accuracy: 0.8340 - val_loss: 1.7582 - val_accuracy: 0.5813\n",
      "Epoch 61/100\n",
      "8/8 [==============================] - 43s 5s/step - loss: 0.4247 - accuracy: 0.8437 - val_loss: 1.6619 - val_accuracy: 0.5882\n",
      "Epoch 62/100\n",
      "8/8 [==============================] - 43s 5s/step - loss: 0.4281 - accuracy: 0.8413 - val_loss: 1.8015 - val_accuracy: 0.5992\n",
      "Epoch 63/100\n",
      "8/8 [==============================] - 43s 5s/step - loss: 0.5002 - accuracy: 0.8037 - val_loss: 1.4761 - val_accuracy: 0.5609\n",
      "Epoch 64/100\n",
      "8/8 [==============================] - 42s 5s/step - loss: 0.4776 - accuracy: 0.8143 - val_loss: 1.6323 - val_accuracy: 0.5904\n",
      "Epoch 65/100\n",
      "8/8 [==============================] - 43s 5s/step - loss: 0.4390 - accuracy: 0.8361 - val_loss: 1.6861 - val_accuracy: 0.5606\n",
      "Epoch 66/100\n",
      "8/8 [==============================] - 43s 5s/step - loss: 0.4359 - accuracy: 0.8370 - val_loss: 1.6889 - val_accuracy: 0.5829\n",
      "Epoch 67/100\n",
      "8/8 [==============================] - 44s 6s/step - loss: 0.4181 - accuracy: 0.8459 - val_loss: 1.7077 - val_accuracy: 0.5749\n",
      "Epoch 68/100\n",
      "8/8 [==============================] - 43s 5s/step - loss: 0.3945 - accuracy: 0.8573 - val_loss: 1.8150 - val_accuracy: 0.5821\n",
      "Epoch 69/100\n",
      "8/8 [==============================] - 43s 5s/step - loss: 0.3855 - accuracy: 0.8583 - val_loss: 1.8909 - val_accuracy: 0.5642\n",
      "Epoch 70/100\n",
      "8/8 [==============================] - 41s 5s/step - loss: 0.3838 - accuracy: 0.8609 - val_loss: 1.8685 - val_accuracy: 0.5802\n",
      "Epoch 71/100\n",
      "8/8 [==============================] - 41s 5s/step - loss: 0.3977 - accuracy: 0.8522 - val_loss: 1.9040 - val_accuracy: 0.5716\n",
      "Epoch 72/100\n",
      "8/8 [==============================] - 42s 5s/step - loss: 0.3820 - accuracy: 0.8600 - val_loss: 1.9761 - val_accuracy: 0.5771\n",
      "Epoch 73/100\n",
      "8/8 [==============================] - 41s 5s/step - loss: 0.3682 - accuracy: 0.8667 - val_loss: 2.0136 - val_accuracy: 0.5672\n",
      "Epoch 74/100\n",
      "8/8 [==============================] - 44s 5s/step - loss: 0.3590 - accuracy: 0.8700 - val_loss: 2.0003 - val_accuracy: 0.5727\n",
      "Epoch 75/100\n",
      "8/8 [==============================] - 42s 5s/step - loss: 0.3499 - accuracy: 0.8773 - val_loss: 2.1677 - val_accuracy: 0.5738\n",
      "Epoch 76/100\n",
      "8/8 [==============================] - 42s 5s/step - loss: 0.3360 - accuracy: 0.8833 - val_loss: 2.1432 - val_accuracy: 0.5631\n",
      "Epoch 77/100\n",
      "8/8 [==============================] - 43s 5s/step - loss: 0.3399 - accuracy: 0.8816 - val_loss: 2.1115 - val_accuracy: 0.5531\n",
      "Epoch 78/100\n",
      "8/8 [==============================] - 43s 5s/step - loss: 0.3419 - accuracy: 0.8795 - val_loss: 2.2660 - val_accuracy: 0.5592\n",
      "Epoch 79/100\n",
      "8/8 [==============================] - 42s 5s/step - loss: 0.3494 - accuracy: 0.8733 - val_loss: 2.1759 - val_accuracy: 0.5813\n",
      "Epoch 80/100\n",
      "8/8 [==============================] - 42s 5s/step - loss: 0.3589 - accuracy: 0.8704 - val_loss: 2.3305 - val_accuracy: 0.5587\n",
      "Epoch 81/100\n",
      "8/8 [==============================] - 43s 5s/step - loss: 0.3322 - accuracy: 0.8823 - val_loss: 2.1639 - val_accuracy: 0.5769\n",
      "Epoch 82/100\n",
      "8/8 [==============================] - 43s 5s/step - loss: 0.3260 - accuracy: 0.8850 - val_loss: 2.3325 - val_accuracy: 0.5733\n",
      "Epoch 83/100\n",
      "8/8 [==============================] - 43s 5s/step - loss: 0.3128 - accuracy: 0.8910 - val_loss: 2.2876 - val_accuracy: 0.5680\n",
      "Epoch 84/100\n",
      "8/8 [==============================] - 43s 5s/step - loss: 0.3149 - accuracy: 0.8896 - val_loss: 2.3981 - val_accuracy: 0.5656\n",
      "Epoch 85/100\n",
      "8/8 [==============================] - 42s 5s/step - loss: 0.2926 - accuracy: 0.8983 - val_loss: 2.4599 - val_accuracy: 0.5730\n",
      "Epoch 86/100\n",
      "8/8 [==============================] - 41s 5s/step - loss: 0.3057 - accuracy: 0.8930 - val_loss: 2.2482 - val_accuracy: 0.5763\n",
      "Epoch 87/100\n",
      "8/8 [==============================] - 41s 5s/step - loss: 0.2978 - accuracy: 0.8984 - val_loss: 2.5270 - val_accuracy: 0.5727\n",
      "Epoch 88/100\n",
      "8/8 [==============================] - 42s 5s/step - loss: 0.2900 - accuracy: 0.8984 - val_loss: 2.5982 - val_accuracy: 0.5515\n",
      "Epoch 89/100\n",
      "8/8 [==============================] - 43s 5s/step - loss: 0.2894 - accuracy: 0.8984 - val_loss: 2.4362 - val_accuracy: 0.5595\n",
      "Epoch 90/100\n",
      "8/8 [==============================] - 43s 5s/step - loss: 0.2786 - accuracy: 0.9025 - val_loss: 2.5714 - val_accuracy: 0.5788\n",
      "Epoch 91/100\n",
      "8/8 [==============================] - 42s 5s/step - loss: 0.2696 - accuracy: 0.9086 - val_loss: 2.6702 - val_accuracy: 0.5570\n",
      "Epoch 92/100\n",
      "8/8 [==============================] - 42s 5s/step - loss: 0.2478 - accuracy: 0.9162 - val_loss: 2.6559 - val_accuracy: 0.5832\n",
      "Epoch 93/100\n",
      "8/8 [==============================] - 43s 5s/step - loss: 0.2793 - accuracy: 0.9008 - val_loss: 2.7181 - val_accuracy: 0.5705\n",
      "Epoch 94/100\n",
      "8/8 [==============================] - 42s 5s/step - loss: 0.2548 - accuracy: 0.9121 - val_loss: 2.7642 - val_accuracy: 0.5603\n",
      "Epoch 95/100\n",
      "8/8 [==============================] - 43s 5s/step - loss: 0.2665 - accuracy: 0.9060 - val_loss: 2.7217 - val_accuracy: 0.5758\n",
      "Epoch 96/100\n",
      "8/8 [==============================] - 42s 5s/step - loss: 0.2857 - accuracy: 0.9003 - val_loss: 2.7193 - val_accuracy: 0.5603\n",
      "Epoch 97/100\n",
      "8/8 [==============================] - 43s 5s/step - loss: 0.2703 - accuracy: 0.9059 - val_loss: 2.6796 - val_accuracy: 0.5600\n",
      "Epoch 98/100\n",
      "8/8 [==============================] - 41s 5s/step - loss: 0.2478 - accuracy: 0.9134 - val_loss: 2.7376 - val_accuracy: 0.5669\n",
      "Epoch 99/100\n",
      "8/8 [==============================] - 41s 5s/step - loss: 0.2406 - accuracy: 0.9184 - val_loss: 2.7238 - val_accuracy: 0.5603\n",
      "Epoch 100/100\n",
      "8/8 [==============================] - 41s 5s/step - loss: 0.2360 - accuracy: 0.9185 - val_loss: 2.9721 - val_accuracy: 0.5760\n"
     ]
    }
   ],
   "source": [
    "hist = model.fit(X_train, y_train, epochs=100, validation_split=0.2, batch_size=2048)"
   ]
  },
  {
   "cell_type": "code",
   "execution_count": 26,
   "metadata": {},
   "outputs": [
    {
     "data": {
      "image/png": "[encoded data removed]",
      "text/plain": [
       "<Figure size 432x288 with 1 Axes>"
      ]
     },
     "metadata": {
      "needs_background": "light"
     },
     "output_type": "display_data"
    }
   ],
   "source": [
    "epoch_count = range(1, len(hist.history[\"accuracy\"]) + 1)\n",
    "sns.lineplot(x=epoch_count, y=hist.history[\"accuracy\"], label=\"train\")\n",
    "sns.lineplot(x=epoch_count, y=hist.history[\"val_accuracy\"], label=\"valid\")\n",
    "plt.show()"
   ]
  },
  {
   "cell_type": "markdown",
   "metadata": {},
   "source": [
    "Se produjo durante el entrenamiento un claro overfitting. Se probaron distintas combinaciones de cantidad de capas y aumento y disminución de dropout, llegando a resultados similares en todos los casos."
   ]
  },
  {
   "cell_type": "code",
   "execution_count": 72,
   "metadata": {},
   "outputs": [
    {
     "name": "stdout",
     "output_type": "stream",
     "text": [
      "142/142 [==============================] - 6s 45ms/step - loss: 1.6105 - accuracy: 0.1153\n"
     ]
    },
    {
     "data": {
      "text/plain": [
       "[1.6105350255966187, 0.11525723338127136]"
      ]
     },
     "execution_count": 72,
     "metadata": {},
     "output_type": "execute_result"
    }
   ],
   "source": [
    "model.evaluate(X_test, y_test)"
   ]
  },
  {
   "cell_type": "code",
   "execution_count": 85,
   "metadata": {},
   "outputs": [],
   "source": [
    "reverse_word_map = {v: x for x, v in word_index.items()}\n",
    "reverse_word_map[0] = \"\"\n",
    "\n",
    "def get_example(idx):\n",
    "    review_tokens = [reverse_word_map[word] for word in X_test[idx]]\n",
    "    review = \" \".join(review_tokens).lstrip()\n",
    "    pred = model.predict(X_test[idx].reshape(1, -1))\n",
    "\n",
    "    print(f\"Review text: {review}\")\n",
    "    print(f\"\\nPrediction: {np.argmax(pred) + 1}\")\n",
    "    print(f\"Real rating: {np.argmax(y_test[idx]) + 1}\")"
   ]
  },
  {
   "cell_type": "code",
   "execution_count": 86,
   "metadata": {},
   "outputs": [
    {
     "name": "stdout",
     "output_type": "stream",
     "text": [
      "1/1 [==============================] - 0s 29ms/step\n",
      "Review text: i purchased this top in the wine color and found it to be cute and comfortable the sleeves are not tight which is nice but it is very short and moving your arms away from our sides make this shirt look a little bit like a tent the color is pretty and the button detail is nice overall good purchase but i'm glad i got it on sale\n",
      "\n",
      "Prediction: 3\n",
      "Real rating: 4\n"
     ]
    }
   ],
   "source": [
    "get_example(66)"
   ]
  },
  {
   "cell_type": "code",
   "execution_count": 87,
   "metadata": {},
   "outputs": [
    {
     "name": "stdout",
     "output_type": "stream",
     "text": [
      "1/1 [==============================] - 0s 36ms/step\n",
      "Review text: i waited six weeks for this dress to arrive and was so disappointed loved the skirt part of it but the top which i guess i didn't see in photo was pleated as well made my bust look huge and it out on sides would have been a wonderful summer dress flowing and cool\n",
      "\n",
      "Prediction: 3\n",
      "Real rating: 2\n"
     ]
    }
   ],
   "source": [
    "get_example(48)"
   ]
  },
  {
   "cell_type": "code",
   "execution_count": 88,
   "metadata": {},
   "outputs": [
    {
     "name": "stdout",
     "output_type": "stream",
     "text": [
      "1/1 [==============================] - 0s 31ms/step\n",
      "Review text: i actually love the fit of this t the photo of the model does make it look more of a straight fit but i love that it has more of a flared shape the armholes are high enough that it covers that bit of arm i hate it swings out enough that it looks a little dressy and a little more special than your basic t and it drapes nicely even over my curvy shape\n",
      "\n",
      "Prediction: 3\n",
      "Real rating: 5\n"
     ]
    }
   ],
   "source": [
    "get_example(982)"
   ]
  },
  {
   "cell_type": "code",
   "execution_count": 89,
   "metadata": {},
   "outputs": [
    {
     "name": "stdout",
     "output_type": "stream",
     "text": [
      "1/1 [==============================] - 0s 30ms/step\n",
      "Review: i bought this dress to wear to work in my second the shape is perfect to accommodate a baby bump while still flattering the top definitely recommend for any pregnant women trying to avoid true maternity clothes\n",
      "\n",
      "Pred: 4\n",
      "Truth: 4\n"
     ]
    }
   ],
   "source": [
    "get_example_from_test(1821)"
   ]
  },
  {
   "cell_type": "code",
   "execution_count": 90,
   "metadata": {},
   "outputs": [
    {
     "name": "stdout",
     "output_type": "stream",
     "text": [
      "1/1 [==============================] - 0s 31ms/step\n",
      "Review text: this dress is really beautiful in person it comes with a strap clingy cotton slip underneath it runs at least 2 sizes large i tried my usual size 6 and needed to go down to a zero\n",
      "\n",
      "Prediction: 3\n",
      "Real rating: 5\n"
     ]
    }
   ],
   "source": [
    "get_example(397)"
   ]
  },
  {
   "cell_type": "code",
   "execution_count": 91,
   "metadata": {},
   "outputs": [
    {
     "name": "stdout",
     "output_type": "stream",
     "text": [
      "1/1 [==============================] - 0s 30ms/step\n",
      " the quality and color are greatk a chance on this jumpsuit i am post baby six weeks and although i on slimming down more i would say that it is flattering even at my current size and it will only get better \n",
      "\n",
      "Prediction: 4\n",
      "Real rating: 5\n"
     ]
    }
   ],
   "source": [
    "get_example(478)"
   ]
  },
  {
   "cell_type": "markdown",
   "metadata": {},
   "source": [
    "Los resultados se acercan bastante a los ratings otorgados por los compradores, aunque claramente no son precisos. Se podría volver a entrenar el dataset balanceando las clases de salida haciendo un undersampling para tener una mejor performance del modelo propuesto."
   ]
  },
  {
   "cell_type": "code",
   "execution_count": null,
   "metadata": {},
   "outputs": [],
   "source": []
  }
 ],
 "metadata": {
  "accelerator": "GPU",
  "colab": {
   "authorship_tag": "ABX9TyPDU98WqI1eIPhnZ3eGFqqe",
   "collapsed_sections": [],
   "name": "5d - clothing_ecommerce_reviews.ipynb",
   "provenance": []
  },
  "kernelspec": {
   "display_name": "Python 3 (ipykernel)",
   "language": "python",
   "name": "python3"
  },
  "language_info": {
   "codemirror_mode": {
    "name": "ipython",
    "version": 3
   },
   "file_extension": ".py",
   "mimetype": "text/x-python",
   "name": "python",
   "nbconvert_exporter": "python",
   "pygments_lexer": "ipython3",
   "version": "3.10.4"
  }
 },
 "nbformat": 4,
 "nbformat_minor": 1
}
