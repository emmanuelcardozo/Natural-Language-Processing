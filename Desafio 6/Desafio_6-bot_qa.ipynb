{
 "cells": [
  {
   "cell_type": "markdown",
   "metadata": {},
   "source": [
    "<img src=\"https://github.com/hernancontigiani/ceia_memorias_especializacion/raw/master/Figures/logoFIUBA.jpg\" width=\"500\" align=\"right\">\n",
    "\n",
    "\n",
    "# Procesamiento de lenguaje natural\n",
    "\n",
    "\n",
    "## TP6\n",
    "\n",
    "### Alumno: Emmanuel Cardozo"
   ]
  },
  {
   "cell_type": "markdown",
   "metadata": {},
   "source": [
    "Ejercicio\n",
    "Construir QA Bot basado en el ejemplo del traductor pero con un dataset QA.\n",
    "\n",
    "Recomendaciones:\n",
    "- MAX_VOCAB_SIZE = 8000\n",
    "- max_length ~ 10\n",
    "- Embeddings 300 Fasttext\n",
    "- n_units = 128\n",
    "- LSTM Dropout 0.2\n",
    "- Epochs 30~50\n",
    "\n",
    "Preguntas interesantes:\n",
    "- Do you read?\n",
    "- Do you have any pet?\n",
    "- Where are you from?\n",
    "\n",
    "__IMPORTANTE__: Recuerde para la entrega del ejercicio debe quedar registrado en el colab las preguntas y las respuestas del BOT para que podamos evaluar el desempeño final.\n",
    "\n",
    "[LINK](http://convai.io/data/)"
   ]
  },
  {
   "cell_type": "code",
   "execution_count": 1,
   "metadata": {},
   "outputs": [],
   "source": [
    "!pip install --upgrade --no-cache-dir gdown --quiet"
   ]
  },
  {
   "cell_type": "code",
   "execution_count": 2,
   "metadata": {
    "id": "cq3YXak9sGHd"
   },
   "outputs": [],
   "source": [
    "import re\n",
    "\n",
    "import numpy as np\n",
    "import pandas as pd\n",
    "\n",
    "import keras\n",
    "from keras.preprocessing.text import one_hot\n",
    "from keras_preprocessing.sequence import pad_sequences\n",
    "from keras.models import Sequential\n",
    "from keras.layers.core import Activation, Dropout, Dense\n",
    "from keras.layers import Flatten, LSTM, SimpleRNN\n",
    "from keras.models import Model\n",
    "from keras.layers import Embedding\n",
    "from sklearn.model_selection import train_test_split\n",
    "from keras.preprocessing.text import Tokenizer\n",
    "from keras.layers import Input\n",
    "from tensorflow.keras.layers import Concatenate\n",
    "from keras.layers import Bidirectional"
   ]
  },
  {
   "cell_type": "markdown",
   "metadata": {},
   "source": [
    "### 1 - Datos\n",
    "\n",
    "Se descarga la carpeta del dataset"
   ]
  },
  {
   "cell_type": "code",
   "execution_count": 3,
   "metadata": {},
   "outputs": [
    {
     "name": "stdout",
     "output_type": "stream",
     "text": [
      "El dataset ya se encuentra descargado\n"
     ]
    }
   ],
   "source": [
    "# Descargar la carpeta de dataset\n",
    "import os\n",
    "import gdown\n",
    "import sys\n",
    "if os.access('data_volunteers.json', os.F_OK) is False:\n",
    "    url = 'https://drive.google.com/uc?id=1QPYxMTBSGNmbyGhknznuO3YWLBOJnhUQ&export=download'\n",
    "    output = 'data_volunteers.json'\n",
    "    gdown.download(url, output, quiet=False)\n",
    "else:\n",
    "    print(\"El dataset ya se encuentra descargado\")"
   ]
  },
  {
   "cell_type": "code",
   "execution_count": 4,
   "metadata": {},
   "outputs": [],
   "source": [
    "# dataset_file\n",
    "import json\n",
    "\n",
    "text_file = \"data_volunteers.json\"\n",
    "with open(text_file) as f:\n",
    "    data = json.load(f)"
   ]
  },
  {
   "cell_type": "code",
   "execution_count": 5,
   "metadata": {},
   "outputs": [
    {
     "data": {
      "text/plain": [
       "dict_keys(['dialog', 'start_time', 'end_time', 'bot_profile', 'user_profile', 'eval_score', 'profile_match', 'participant1_id', 'participant2_id'])"
      ]
     },
     "execution_count": 5,
     "metadata": {},
     "output_type": "execute_result"
    }
   ],
   "source": [
    "# Observar los campos disponibles en cada linea del dataset\n",
    "data[0].keys()"
   ]
  },
  {
   "cell_type": "code",
   "execution_count": 6,
   "metadata": {},
   "outputs": [
    {
     "name": "stdout",
     "output_type": "stream",
     "text": [
      "Cantidad de rows utilizadas: 6033\n"
     ]
    }
   ],
   "source": [
    "chat_in = []\n",
    "chat_out = []\n",
    "\n",
    "input_sentences = []\n",
    "output_sentences = []\n",
    "output_sentences_inputs = []\n",
    "max_len = 30\n",
    "\n",
    "def clean_text(txt):\n",
    "    txt = txt.lower()    \n",
    "    txt.replace(\"\\'d\", \" had\")\n",
    "    txt.replace(\"\\'s\", \" is\")\n",
    "    txt.replace(\"\\'m\", \" am\")\n",
    "    txt.replace(\"don't\", \"do not\")\n",
    "    txt = re.sub(r'\\W+', ' ', txt)\n",
    "    \n",
    "    return txt\n",
    "\n",
    "for line in data:\n",
    "    for i in range(len(line['dialog'])-1):\n",
    "        chat_in = clean_text(line['dialog'][i]['text'])\n",
    "        chat_out = clean_text(line['dialog'][i+1]['text'])\n",
    "\n",
    "        if len(chat_in) >= max_len or len(chat_out) >= max_len:\n",
    "            continue\n",
    "\n",
    "        input_sentence, output = chat_in, chat_out\n",
    "        \n",
    "        # output sentence (decoder_output) tiene <eos>\n",
    "        output_sentence = output + ' <eos>'\n",
    "        # output sentence input (decoder_input) tiene <sos>\n",
    "        output_sentence_input = '<sos> ' + output\n",
    "\n",
    "        input_sentences.append(input_sentence)\n",
    "        output_sentences.append(output_sentence)\n",
    "        output_sentences_inputs.append(output_sentence_input)\n",
    "\n",
    "print(\"Cantidad de rows utilizadas:\", len(input_sentences))"
   ]
  },
  {
   "cell_type": "code",
   "execution_count": 7,
   "metadata": {},
   "outputs": [
    {
     "data": {
      "text/plain": [
       "('hi how are you ', 'not bad and you  <eos>', '<sos> not bad and you ')"
      ]
     },
     "execution_count": 7,
     "metadata": {},
     "output_type": "execute_result"
    }
   ],
   "source": [
    "input_sentences[1], output_sentences[1], output_sentences_inputs[1]"
   ]
  },
  {
   "cell_type": "markdown",
   "metadata": {
    "id": "8P-ynUNP5xp6"
   },
   "source": [
    "### 2 - Preprocesamiento\n",
    "\n",
    "Se realiza el preprocesamiento necesario para obtener:\n",
    "\n",
    "- word2idx_inputs, max_input_len\n",
    "- word2idx_outputs, max_out_len, num_words_output\n",
    "- encoder_input_sequences, decoder_output_sequences, decoder_targets"
   ]
  },
  {
   "cell_type": "code",
   "execution_count": 8,
   "metadata": {},
   "outputs": [],
   "source": [
    "# Defino el tamaño máximo del vocabulario\n",
    "MAX_VOCAB_SIZE = 8000"
   ]
  },
  {
   "cell_type": "code",
   "execution_count": 9,
   "metadata": {},
   "outputs": [
    {
     "name": "stdout",
     "output_type": "stream",
     "text": [
      "Palabras en el vocabulario de palabras de entrada: 1799\n",
      "Palabras en el vocabulario de palabras de salida: 1806\n",
      "Palabras en el vocabulario: 2157\n",
      "Sentencia de entrada más larga: 9\n",
      "Sentencia de salida más larga: 10\n"
     ]
    }
   ],
   "source": [
    "input_tokenizer = Tokenizer(num_words=MAX_VOCAB_SIZE)\n",
    "input_tokenizer.fit_on_texts(input_sentences)\n",
    "word2idx_inputs = input_tokenizer.word_index\n",
    "print(\"Palabras en el vocabulario de palabras de entrada:\", len(word2idx_inputs))\n",
    "\n",
    "\n",
    "output_tokenizer = Tokenizer(num_words=MAX_VOCAB_SIZE,filters='!\"#$%&()*+,-./:;=¿?@[\\\\]^_`{|}~\\t\\n')\n",
    "#Agrego <sos> y <eos> a los textos del tokenizador.\n",
    "output_tokenizer.fit_on_texts([\"<sos>\", \"<eos>\"] + output_sentences)\n",
    "word2idx_outputs = output_tokenizer.word_index\n",
    "print(\"Palabras en el vocabulario de palabras de salida:\", len(word2idx_outputs))\n",
    "\n",
    "tokenizer = Tokenizer(\n",
    "    num_words=MAX_VOCAB_SIZE, filters='!\"#$%&()*+,-./:;=?@[\\\\]^_`{|}~\\t\\n'\n",
    ")  # Se omiten los simbolos \"<\" y \">\" para que no afectar los delimintadores \"<sos>\" y \"<eos>\"\n",
    "tokenizer.fit_on_texts([\"<sos>\", \"<eos>\"] + input_sentences + output_sentences)\n",
    "\n",
    "input_integer_seq = tokenizer.texts_to_sequences(input_sentences)\n",
    "output_integer_seq = tokenizer.texts_to_sequences(output_sentences)\n",
    "\n",
    "output_input_integer_seq = tokenizer.texts_to_sequences(output_sentences_inputs)\n",
    "\n",
    "word2idx = tokenizer.word_index\n",
    "print(\"Palabras en el vocabulario:\", len(word2idx))\n",
    "\n",
    "max_input_len = max(len(sen) for sen in input_integer_seq)\n",
    "print(\"Sentencia de entrada más larga:\", max_input_len)\n",
    "\n",
    "max_out_len = max(len(sen) for sen in output_integer_seq)\n",
    "print(\"Sentencia de salida más larga:\", max_out_len)\n",
    "\n",
    "num_words_output = min(\n",
    "    len(word2idx) + 1, MAX_VOCAB_SIZE\n",
    ")  # Se suma 1 por el primer <sos>"
   ]
  },
  {
   "cell_type": "code",
   "execution_count": 10,
   "metadata": {},
   "outputs": [
    {
     "name": "stdout",
     "output_type": "stream",
     "text": [
      "Cantidad de rows del dataset: 6033\n",
      "encoder_input_sequences shape: (6033, 9)\n",
      "decoder_input_sequences shape: (6033, 10)\n"
     ]
    }
   ],
   "source": [
    "encoder_input_sequences = pad_sequences(input_integer_seq, maxlen=max_input_len)\n",
    "decoder_input_sequences = pad_sequences(\n",
    "    output_input_integer_seq, maxlen=max_out_len, padding=\"post\"\n",
    ")\n",
    "\n",
    "print(\"Cantidad de rows del dataset:\", len(input_integer_seq))\n",
    "print(\"encoder_input_sequences shape:\", encoder_input_sequences.shape)\n",
    "print(\"decoder_input_sequences shape:\", decoder_input_sequences.shape)"
   ]
  },
  {
   "cell_type": "code",
   "execution_count": 11,
   "metadata": {},
   "outputs": [],
   "source": [
    "from keras.utils.np_utils import to_categorical"
   ]
  },
  {
   "cell_type": "code",
   "execution_count": 12,
   "metadata": {},
   "outputs": [
    {
     "data": {
      "text/plain": [
       "(6033, 10, 2158)"
      ]
     },
     "execution_count": 12,
     "metadata": {},
     "output_type": "execute_result"
    }
   ],
   "source": [
    "decoder_output_sequences = pad_sequences(\n",
    "    output_integer_seq, maxlen=max_out_len, padding=\"post\"\n",
    ")\n",
    "decoder_targets = to_categorical(decoder_output_sequences, num_classes=num_words_output)\n",
    "decoder_targets.shape"
   ]
  },
  {
   "cell_type": "markdown",
   "metadata": {
    "id": "_CJIsLBbj6rg"
   },
   "source": [
    "### 3 - Preparar los embeddings\n",
    "Utilizar los embeddings de Glove o FastText para transformar los tokens de entrada en vectores.\n"
   ]
  },
  {
   "cell_type": "markdown",
   "metadata": {},
   "source": [
    "Nos declinamos por Glove"
   ]
  },
  {
   "cell_type": "code",
   "execution_count": 13,
   "metadata": {},
   "outputs": [],
   "source": [
    "base_path = base_path = R\"C:\\Users\\Emmanuel\\Desktop\\Desafio 6\""
   ]
  },
  {
   "cell_type": "code",
   "execution_count": 14,
   "metadata": {},
   "outputs": [
    {
     "name": "stdout",
     "output_type": "stream",
     "text": [
      "Los embeddings gloveembedding.pkl ya están descargados\n"
     ]
    }
   ],
   "source": [
    "embeddings_path = os.path.join(base_path, \"gloveembedding.pkl\")\n",
    "\n",
    "if os.access(embeddings_path, os.F_OK) is False:\n",
    "    url = \"https://drive.google.com/uc?id=1wlDBOrxPq2-3htQ6ryVo7K1XnzLcfh4r&export=download\"\n",
    "    gdown.download(url, embeddings_path, quiet=False)\n",
    "else:\n",
    "    print(\"Los embeddings gloveembedding.pkl ya están descargados\")"
   ]
  },
  {
   "cell_type": "code",
   "execution_count": 15,
   "metadata": {},
   "outputs": [],
   "source": [
    "import logging\n",
    "import os\n",
    "from pathlib import Path\n",
    "from io import StringIO\n",
    "import pickle\n",
    "\n",
    "class WordsEmbeddings(object):\n",
    "    logger = logging.getLogger(__name__)\n",
    "\n",
    "    def __init__(self):\n",
    "        # load the embeddings\n",
    "        words_embedding_pkl = Path(self.PKL_PATH)\n",
    "        if not words_embedding_pkl.is_file():\n",
    "            words_embedding_txt = Path(self.WORD_TO_VEC_MODEL_TXT_PATH)\n",
    "            assert words_embedding_txt.is_file(), 'Words embedding not available'\n",
    "            embeddings = self.convert_model_to_pickle()\n",
    "        else:\n",
    "            embeddings = self.load_model_from_pickle()\n",
    "        self.embeddings = embeddings\n",
    "        # build the vocabulary hashmap\n",
    "        index = np.arange(self.embeddings.shape[0])\n",
    "        # Dicctionarios para traducir de embedding a IDX de la palabra\n",
    "        self.word2idx = dict(zip(self.embeddings['word'], index))\n",
    "        self.idx2word = dict(zip(index, self.embeddings['word']))\n",
    "\n",
    "    def get_words_embeddings(self, words):\n",
    "        words_idxs = self.words2idxs(words)\n",
    "        return self.embeddings[words_idxs]['embedding']\n",
    "\n",
    "    def words2idxs(self, words):\n",
    "        return np.array([self.word2idx.get(word, -1) for word in words])\n",
    "\n",
    "    def idxs2words(self, idxs):\n",
    "        return np.array([self.idx2word.get(idx, '-1') for idx in idxs])\n",
    "\n",
    "    def load_model_from_pickle(self):\n",
    "        self.logger.debug(\n",
    "            'loading words embeddings from pickle {}'.format(\n",
    "                self.PKL_PATH\n",
    "            )\n",
    "        )\n",
    "        max_bytes = 2**28 - 1 # 256MB\n",
    "        bytes_in = bytearray(0)\n",
    "        input_size = os.path.getsize(self.PKL_PATH)\n",
    "        with open(self.PKL_PATH, 'rb') as f_in:\n",
    "            for _ in range(0, input_size, max_bytes):\n",
    "                bytes_in += f_in.read(max_bytes)\n",
    "        embeddings = pickle.loads(bytes_in)\n",
    "        self.logger.debug('words embeddings loaded')\n",
    "        return embeddings\n",
    "\n",
    "    def convert_model_to_pickle(self):\n",
    "        # create a numpy strctured array:\n",
    "        # word     embedding\n",
    "        # U50      np.float32[]\n",
    "        # word_1   a, b, c\n",
    "        # word_2   d, e, f\n",
    "        # ...\n",
    "        # word_n   g, h, i\n",
    "        self.logger.debug(\n",
    "            'converting and loading words embeddings from text file {}'.format(\n",
    "                self.WORD_TO_VEC_MODEL_TXT_PATH\n",
    "            )\n",
    "        )\n",
    "        structure = [('word', np.dtype('U' + str(self.WORD_MAX_SIZE))),\n",
    "                     ('embedding', np.float32, (self.N_FEATURES,))]\n",
    "        structure = np.dtype(structure)\n",
    "        # load numpy array from disk using a generator\n",
    "        with open(self.WORD_TO_VEC_MODEL_TXT_PATH, encoding=\"utf8\") as words_embeddings_txt:\n",
    "            embeddings_gen = (\n",
    "                (line.split()[0], line.split()[1:]) for line in words_embeddings_txt\n",
    "                if len(line.split()[1:]) == self.N_FEATURES\n",
    "            )\n",
    "            embeddings = np.fromiter(embeddings_gen, structure)\n",
    "        # add a null embedding\n",
    "        null_embedding = np.array(\n",
    "            [('null_embedding', np.zeros((self.N_FEATURES,), dtype=np.float32))],\n",
    "            dtype=structure\n",
    "        )\n",
    "        embeddings = np.concatenate([embeddings, null_embedding])\n",
    "        # dump numpy array to disk using pickle\n",
    "        max_bytes = 2**28 - 1 # # 256MB\n",
    "        bytes_out = pickle.dumps(embeddings, protocol=pickle.HIGHEST_PROTOCOL)\n",
    "        with open(self.PKL_PATH, 'wb') as f_out:\n",
    "            for idx in range(0, len(bytes_out), max_bytes):\n",
    "                f_out.write(bytes_out[idx:idx+max_bytes])\n",
    "        self.logger.debug('words embeddings loaded')\n",
    "        return embeddings\n",
    "\n",
    "\n",
    "class GloveEmbeddings(WordsEmbeddings):\n",
    "    WORD_TO_VEC_MODEL_TXT_PATH = 'glove.twitter.27B.50d.txt'\n",
    "    PKL_PATH = 'gloveembedding.pkl'\n",
    "    N_FEATURES = 50\n",
    "    WORD_MAX_SIZE = 60\n",
    "\n",
    "class FasttextEmbeddings(WordsEmbeddings):\n",
    "    WORD_TO_VEC_MODEL_TXT_PATH = 'cc.en.300.vec'\n",
    "    PKL_PATH = 'fasttext.pkl'\n",
    "    N_FEATURES = 300\n",
    "    WORD_MAX_SIZE = 60"
   ]
  },
  {
   "cell_type": "code",
   "execution_count": 16,
   "metadata": {},
   "outputs": [],
   "source": [
    "model_embeddings = GloveEmbeddings()"
   ]
  },
  {
   "cell_type": "markdown",
   "metadata": {},
   "source": [
    "Matriz de embedding para las secuencias en inglés."
   ]
  },
  {
   "cell_type": "code",
   "execution_count": 17,
   "metadata": {},
   "outputs": [
    {
     "name": "stdout",
     "output_type": "stream",
     "text": [
      "preparing embedding matrix...\n",
      "number of null word embeddings: 44\n"
     ]
    }
   ],
   "source": [
    "print(\"preparing embedding matrix...\")\n",
    "embed_dim = model_embeddings.N_FEATURES\n",
    "words_not_found = []\n",
    "\n",
    "nb_words = min(MAX_VOCAB_SIZE, len(word2idx))  # vocab_size\n",
    "embedding_matrix = np.zeros((nb_words, embed_dim))\n",
    "for word, i in word2idx.items():\n",
    "    if i >= nb_words:\n",
    "        continue\n",
    "    embedding_vector = model_embeddings.get_words_embeddings(word)[0]\n",
    "    if (embedding_vector is not None) and len(embedding_vector) > 0:\n",
    "\n",
    "        embedding_matrix[i] = embedding_vector\n",
    "    else:\n",
    "        # words not found in embedding index will be all-zeros.\n",
    "        words_not_found.append(word)\n",
    "\n",
    "print(\"number of null word embeddings:\", np.sum(np.sum(embedding_matrix, axis=1) == 0))"
   ]
  },
  {
   "cell_type": "markdown",
   "metadata": {},
   "source": [
    "Dimensión de los embeddings de la secuencia en ingles"
   ]
  },
  {
   "cell_type": "code",
   "execution_count": 18,
   "metadata": {},
   "outputs": [
    {
     "data": {
      "text/plain": [
       "(2157, 50)"
      ]
     },
     "execution_count": 18,
     "metadata": {},
     "output_type": "execute_result"
    }
   ],
   "source": [
    "embedding_matrix.shape"
   ]
  },
  {
   "cell_type": "markdown",
   "metadata": {
    "id": "3vKbhjtIwPgM"
   },
   "source": [
    "### 4 - Entrenar el modelo\n",
    "Entrenar un modelo basado en el esquema encoder-decoder utilizando los datos generados en los puntos anteriores. Utilce como referencias los ejemplos vistos en clase."
   ]
  },
  {
   "cell_type": "code",
   "execution_count": 19,
   "metadata": {},
   "outputs": [
    {
     "name": "stdout",
     "output_type": "stream",
     "text": [
      "Model: \"model\"\n",
      "__________________________________________________________________________________________________\n",
      " Layer (type)                   Output Shape         Param #     Connected to                     \n",
      "==================================================================================================\n",
      " input_1 (InputLayer)           [(None, 9)]          0           []                               \n",
      "                                                                                                  \n",
      " input_2 (InputLayer)           [(None, 10)]         0           []                               \n",
      "                                                                                                  \n",
      " embedding (Embedding)          (None, 9, 50)        107850      ['input_1[0][0]']                \n",
      "                                                                                                  \n",
      " embedding_1 (Embedding)        (None, 10, 256)      552448      ['input_2[0][0]']                \n",
      "                                                                                                  \n",
      " lstm (LSTM)                    [(None, 256),        314368      ['embedding[0][0]']              \n",
      "                                 (None, 256),                                                     \n",
      "                                 (None, 256)]                                                     \n",
      "                                                                                                  \n",
      " lstm_1 (LSTM)                  [(None, 10, 256),    525312      ['embedding_1[0][0]',            \n",
      "                                 (None, 256),                     'lstm[0][1]',                   \n",
      "                                 (None, 256)]                     'lstm[0][2]']                   \n",
      "                                                                                                  \n",
      " dense (Dense)                  (None, 10, 2158)     554606      ['lstm_1[0][0]']                 \n",
      "                                                                                                  \n",
      "==================================================================================================\n",
      "Total params: 2,054,584\n",
      "Trainable params: 1,946,734\n",
      "Non-trainable params: 107,850\n",
      "__________________________________________________________________________________________________\n"
     ]
    }
   ],
   "source": [
    "n_units = 256\n",
    "\n",
    "encoder_inputs = Input(shape=(max_input_len))\n",
    "\n",
    "encoder_embedding_layer = Embedding(\n",
    "    input_dim=nb_words,  # definido en el Tokenizador\n",
    "    output_dim=embed_dim,  # dimensión de los embeddings utilizados\n",
    "    input_length=max_input_len,  # máxima sentencia de entrada\n",
    "    weights=[embedding_matrix],  # matrix de embeddings\n",
    "    trainable=False,\n",
    ")\n",
    "\n",
    "encoder_inputs_x = encoder_embedding_layer(encoder_inputs)\n",
    "\n",
    "encoder = LSTM(n_units, return_state=True)\n",
    "encoder_outputs, state_h, state_c = encoder(encoder_inputs_x)\n",
    "encoder_states = [state_h, state_c]\n",
    "\n",
    "# define training decoder\n",
    "decoder_inputs = Input(shape=(max_out_len))\n",
    "decoder_embedding_layer = Embedding(\n",
    "    input_dim=num_words_output, output_dim=n_units, input_length=max_out_len\n",
    ")\n",
    "decoder_inputs_x = decoder_embedding_layer(decoder_inputs)\n",
    "\n",
    "decoder_lstm = LSTM(n_units, return_sequences=True, return_state=True)\n",
    "decoder_outputs, _, _ = decoder_lstm(decoder_inputs_x, initial_state=encoder_states)\n",
    "\n",
    "# Dense\n",
    "decoder_dense = Dense(num_words_output, activation=\"softmax\")\n",
    "decoder_outputs = decoder_dense(decoder_outputs)\n",
    "model = Model([encoder_inputs, decoder_inputs], decoder_outputs)\n",
    "\n",
    "model.compile(loss=\"categorical_crossentropy\", optimizer=\"Adam\", metrics=[\"accuracy\"])\n",
    "model.summary()"
   ]
  },
  {
   "cell_type": "code",
   "execution_count": 20,
   "metadata": {},
   "outputs": [
    {
     "data": {
      "image/png": "[encoded data removed]",
      "text/plain": [
       "<IPython.core.display.Image object>"
      ]
     },
     "execution_count": 20,
     "metadata": {},
     "output_type": "execute_result"
    }
   ],
   "source": [
    "# Modelo completo (encoder+decoder) para poder entrenar\n",
    "from keras.utils.vis_utils import plot_model\n",
    "plot_model(model, to_file='model_plot.png', show_shapes=True, show_layer_names=True)"
   ]
  },
  {
   "cell_type": "code",
   "execution_count": 21,
   "metadata": {},
   "outputs": [
    {
     "data": {
      "image/png": "[encoded data removed]",
      "text/plain": [
       "<IPython.core.display.Image object>"
      ]
     },
     "execution_count": 21,
     "metadata": {},
     "output_type": "execute_result"
    }
   ],
   "source": [
    "# Modelo solo encoder\n",
    "\n",
    "# define inference encoder\n",
    "encoder_model = Model(encoder_inputs, encoder_states)\n",
    "\n",
    "from keras.utils.vis_utils import plot_model\n",
    "plot_model(encoder_model, to_file='encoder_plot.png', show_shapes=True, show_layer_names=True)"
   ]
  },
  {
   "cell_type": "code",
   "execution_count": 22,
   "metadata": {},
   "outputs": [
    {
     "data": {
      "image/png": "[encoded data removed]",
      "text/plain": [
       "<IPython.core.display.Image object>"
      ]
     },
     "execution_count": 22,
     "metadata": {},
     "output_type": "execute_result"
    }
   ],
   "source": [
    "# Modelo solo decoder (para realizar inferencia)\n",
    "decoder_state_input_h = Input(shape=(n_units,))\n",
    "decoder_state_input_c = Input(shape=(n_units,))\n",
    "decoder_states_inputs = [decoder_state_input_h, decoder_state_input_c]\n",
    "\n",
    "# En cada predicción habrá una sola palabra de entrada al decoder,\n",
    "# que es la realimentación de la palabra anterior\n",
    "# por lo que hay que modificar el input shape de la layer de Embedding\n",
    "decoder_inputs_single = Input(shape=(1,))\n",
    "decoder_inputs_single_x = decoder_embedding_layer(decoder_inputs_single)\n",
    "\n",
    "decoder_outputs, state_h, state_c = decoder_lstm(\n",
    "    decoder_inputs_single_x, initial_state=decoder_states_inputs\n",
    ")\n",
    "decoder_states = [state_h, state_c]\n",
    "decoder_outputs = decoder_dense(decoder_outputs)\n",
    "decoder_model = Model(\n",
    "    [decoder_inputs_single] + decoder_states_inputs, [decoder_outputs] + decoder_states\n",
    ")\n",
    "\n",
    "plot_model(decoder_model, to_file=\"decoder_plot.png\", show_shapes=True, show_layer_names=True)"
   ]
  },
  {
   "cell_type": "markdown",
   "metadata": {},
   "source": [
    "Entrenamos el modelo encoder_decoder"
   ]
  },
  {
   "cell_type": "code",
   "execution_count": 23,
   "metadata": {},
   "outputs": [
    {
     "name": "stdout",
     "output_type": "stream",
     "text": [
      "Epoch 1/50\n",
      "151/151 [==============================] - 32s 168ms/step - loss: 2.6697 - accuracy: 0.5646 - val_loss: 2.1384 - val_accuracy: 0.6506\n",
      "Epoch 2/50\n",
      "151/151 [==============================] - 15s 99ms/step - loss: 1.8053 - accuracy: 0.6843 - val_loss: 1.8717 - val_accuracy: 0.6915\n",
      "Epoch 3/50\n",
      "151/151 [==============================] - 15s 101ms/step - loss: 1.5501 - accuracy: 0.7231 - val_loss: 1.7691 - val_accuracy: 0.7075\n",
      "Epoch 4/50\n",
      "151/151 [==============================] - 16s 106ms/step - loss: 1.4286 - accuracy: 0.7375 - val_loss: 1.7144 - val_accuracy: 0.7130\n",
      "Epoch 5/50\n",
      "151/151 [==============================] - 15s 102ms/step - loss: 1.3496 - accuracy: 0.7431 - val_loss: 1.6843 - val_accuracy: 0.7206\n",
      "Epoch 6/50\n",
      "151/151 [==============================] - 16s 103ms/step - loss: 1.2890 - accuracy: 0.7490 - val_loss: 1.6575 - val_accuracy: 0.7246\n",
      "Epoch 7/50\n",
      "151/151 [==============================] - 16s 106ms/step - loss: 1.2388 - accuracy: 0.7542 - val_loss: 1.6424 - val_accuracy: 0.7253\n",
      "Epoch 8/50\n",
      "151/151 [==============================] - 17s 112ms/step - loss: 1.1959 - accuracy: 0.7584 - val_loss: 1.6377 - val_accuracy: 0.7268\n",
      "Epoch 9/50\n",
      "151/151 [==============================] - 17s 112ms/step - loss: 1.1561 - accuracy: 0.7610 - val_loss: 1.6322 - val_accuracy: 0.7319\n",
      "Epoch 10/50\n",
      "151/151 [==============================] - 18s 117ms/step - loss: 1.1202 - accuracy: 0.7662 - val_loss: 1.6294 - val_accuracy: 0.7312\n",
      "Epoch 11/50\n",
      "151/151 [==============================] - 17s 110ms/step - loss: 1.0875 - accuracy: 0.7711 - val_loss: 1.6293 - val_accuracy: 0.7341\n",
      "Epoch 12/50\n",
      "151/151 [==============================] - 16s 107ms/step - loss: 1.0564 - accuracy: 0.7750 - val_loss: 1.6342 - val_accuracy: 0.7337\n",
      "Epoch 13/50\n",
      "151/151 [==============================] - 16s 108ms/step - loss: 1.0269 - accuracy: 0.7774 - val_loss: 1.6337 - val_accuracy: 0.7349\n",
      "Epoch 14/50\n",
      "151/151 [==============================] - 17s 111ms/step - loss: 1.0002 - accuracy: 0.7826 - val_loss: 1.6374 - val_accuracy: 0.7354\n",
      "Epoch 15/50\n",
      "151/151 [==============================] - 17s 111ms/step - loss: 0.9741 - accuracy: 0.7861 - val_loss: 1.6424 - val_accuracy: 0.7342\n",
      "Epoch 16/50\n",
      "151/151 [==============================] - 16s 109ms/step - loss: 0.9500 - accuracy: 0.7889 - val_loss: 1.6491 - val_accuracy: 0.7386\n",
      "Epoch 17/50\n",
      "151/151 [==============================] - 17s 113ms/step - loss: 0.9273 - accuracy: 0.7930 - val_loss: 1.6551 - val_accuracy: 0.7367\n",
      "Epoch 18/50\n",
      "151/151 [==============================] - 17s 110ms/step - loss: 0.9055 - accuracy: 0.7978 - val_loss: 1.6586 - val_accuracy: 0.7370\n",
      "Epoch 19/50\n",
      "151/151 [==============================] - 17s 111ms/step - loss: 0.8857 - accuracy: 0.8004 - val_loss: 1.6658 - val_accuracy: 0.7369\n",
      "Epoch 20/50\n",
      "151/151 [==============================] - 17s 111ms/step - loss: 0.8660 - accuracy: 0.8044 - val_loss: 1.6727 - val_accuracy: 0.7377\n",
      "Epoch 21/50\n",
      "151/151 [==============================] - 17s 114ms/step - loss: 0.8497 - accuracy: 0.8053 - val_loss: 1.6779 - val_accuracy: 0.7359\n",
      "Epoch 22/50\n",
      "151/151 [==============================] - 18s 118ms/step - loss: 0.8318 - accuracy: 0.8091 - val_loss: 1.6896 - val_accuracy: 0.7367\n",
      "Epoch 23/50\n",
      "151/151 [==============================] - 17s 112ms/step - loss: 0.8155 - accuracy: 0.8121 - val_loss: 1.7034 - val_accuracy: 0.7399\n",
      "Epoch 24/50\n",
      "151/151 [==============================] - 17s 115ms/step - loss: 0.8014 - accuracy: 0.8139 - val_loss: 1.7019 - val_accuracy: 0.7350\n",
      "Epoch 25/50\n",
      "151/151 [==============================] - 20s 134ms/step - loss: 0.7868 - accuracy: 0.8161 - val_loss: 1.7145 - val_accuracy: 0.7345\n",
      "Epoch 26/50\n",
      "151/151 [==============================] - 17s 114ms/step - loss: 0.7732 - accuracy: 0.8187 - val_loss: 1.7221 - val_accuracy: 0.7352\n",
      "Epoch 27/50\n",
      "151/151 [==============================] - 17s 112ms/step - loss: 0.7595 - accuracy: 0.8212 - val_loss: 1.7327 - val_accuracy: 0.7361\n",
      "Epoch 28/50\n",
      "151/151 [==============================] - 18s 120ms/step - loss: 0.7472 - accuracy: 0.8236 - val_loss: 1.7400 - val_accuracy: 0.7346\n",
      "Epoch 29/50\n",
      "151/151 [==============================] - 18s 121ms/step - loss: 0.7347 - accuracy: 0.8256 - val_loss: 1.7516 - val_accuracy: 0.7337\n",
      "Epoch 30/50\n",
      "151/151 [==============================] - 17s 114ms/step - loss: 0.7232 - accuracy: 0.8272 - val_loss: 1.7581 - val_accuracy: 0.7349\n",
      "Epoch 31/50\n",
      "151/151 [==============================] - 19s 126ms/step - loss: 0.7110 - accuracy: 0.8300 - val_loss: 1.7648 - val_accuracy: 0.7370\n",
      "Epoch 32/50\n",
      "151/151 [==============================] - 17s 115ms/step - loss: 0.7004 - accuracy: 0.8324 - val_loss: 1.7785 - val_accuracy: 0.7358\n",
      "Epoch 33/50\n",
      "151/151 [==============================] - 17s 114ms/step - loss: 0.6893 - accuracy: 0.8341 - val_loss: 1.7897 - val_accuracy: 0.7353\n",
      "Epoch 34/50\n",
      "151/151 [==============================] - 17s 113ms/step - loss: 0.6784 - accuracy: 0.8362 - val_loss: 1.8027 - val_accuracy: 0.7368\n",
      "Epoch 35/50\n",
      "151/151 [==============================] - 17s 115ms/step - loss: 0.6684 - accuracy: 0.8387 - val_loss: 1.8152 - val_accuracy: 0.7362\n",
      "Epoch 36/50\n",
      "151/151 [==============================] - 17s 113ms/step - loss: 0.6586 - accuracy: 0.8404 - val_loss: 1.8263 - val_accuracy: 0.7364\n",
      "Epoch 37/50\n",
      "151/151 [==============================] - 17s 111ms/step - loss: 0.6494 - accuracy: 0.8415 - val_loss: 1.8314 - val_accuracy: 0.7341\n",
      "Epoch 38/50\n",
      "151/151 [==============================] - 17s 115ms/step - loss: 0.6387 - accuracy: 0.8441 - val_loss: 1.8416 - val_accuracy: 0.7331\n",
      "Epoch 39/50\n",
      "151/151 [==============================] - 18s 117ms/step - loss: 0.6285 - accuracy: 0.8452 - val_loss: 1.8542 - val_accuracy: 0.7329\n",
      "Epoch 40/50\n",
      "151/151 [==============================] - 18s 118ms/step - loss: 0.6188 - accuracy: 0.8469 - val_loss: 1.8624 - val_accuracy: 0.7354\n",
      "Epoch 41/50\n",
      "151/151 [==============================] - 17s 113ms/step - loss: 0.6104 - accuracy: 0.8485 - val_loss: 1.8729 - val_accuracy: 0.7326\n",
      "Epoch 42/50\n",
      "151/151 [==============================] - 17s 114ms/step - loss: 0.6021 - accuracy: 0.8499 - val_loss: 1.8848 - val_accuracy: 0.7321\n",
      "Epoch 43/50\n",
      "151/151 [==============================] - 17s 113ms/step - loss: 0.5923 - accuracy: 0.8517 - val_loss: 1.9004 - val_accuracy: 0.7311\n",
      "Epoch 44/50\n",
      "151/151 [==============================] - 17s 115ms/step - loss: 0.5844 - accuracy: 0.8529 - val_loss: 1.9015 - val_accuracy: 0.7365\n",
      "Epoch 45/50\n",
      "151/151 [==============================] - 17s 113ms/step - loss: 0.5744 - accuracy: 0.8542 - val_loss: 1.9129 - val_accuracy: 0.7341\n",
      "Epoch 46/50\n",
      "151/151 [==============================] - 17s 113ms/step - loss: 0.5659 - accuracy: 0.8558 - val_loss: 1.9293 - val_accuracy: 0.7343\n",
      "Epoch 47/50\n",
      "151/151 [==============================] - 17s 114ms/step - loss: 0.5580 - accuracy: 0.8568 - val_loss: 1.9390 - val_accuracy: 0.7342\n",
      "Epoch 48/50\n",
      "151/151 [==============================] - 17s 115ms/step - loss: 0.5491 - accuracy: 0.8599 - val_loss: 1.9467 - val_accuracy: 0.7321\n",
      "Epoch 49/50\n",
      "151/151 [==============================] - 17s 112ms/step - loss: 0.5413 - accuracy: 0.8602 - val_loss: 1.9566 - val_accuracy: 0.7330\n",
      "Epoch 50/50\n",
      "151/151 [==============================] - 17s 113ms/step - loss: 0.5324 - accuracy: 0.8622 - val_loss: 1.9693 - val_accuracy: 0.7320\n"
     ]
    }
   ],
   "source": [
    "hist = model.fit(\n",
    "    [encoder_input_sequences, decoder_input_sequences],\n",
    "    decoder_targets,\n",
    "    epochs=50,\n",
    "    validation_split=0.2,\n",
    ")"
   ]
  },
  {
   "cell_type": "code",
   "execution_count": 24,
   "metadata": {},
   "outputs": [],
   "source": [
    "import matplotlib.pyplot as plt\n",
    "import seaborn as sns"
   ]
  },
  {
   "cell_type": "code",
   "execution_count": 25,
   "metadata": {},
   "outputs": [
    {
     "data": {
      "image/png": "[encoded data removed]",
      "text/plain": [
       "<Figure size 864x432 with 1 Axes>"
      ]
     },
     "metadata": {
      "needs_background": "light"
     },
     "output_type": "display_data"
    }
   ],
   "source": [
    "epoch_count = range(1, len(hist.history[\"accuracy\"]) + 1)\n",
    "plt.figure(figsize=(12, 6))\n",
    "sns.lineplot(x=epoch_count, y=hist.history[\"accuracy\"], label=\"Train\")\n",
    "sns.lineplot(x=epoch_count, y=hist.history[\"val_accuracy\"], label=\"Validation\")\n",
    "plt.title(\"Accuracy por epoch\")\n",
    "plt.xlabel(\"Epoch\")\n",
    "plt.ylabel(\"Accuracy\")\n",
    "plt.show()"
   ]
  },
  {
   "cell_type": "markdown",
   "metadata": {
    "id": "Zbwn0ekDy_s2"
   },
   "source": [
    "### 5 - Inferencia\n",
    "Experimentar el funcionamiento de su modelo. Recuerde que debe realizar la inferencia de los modelos por separado de encoder y decoder.\n",
    "\n",
    "Definimos una funcion que dado un texto de entrada haga el preprocesamiento necesario y alimente el modelo para obtener una respuesta."
   ]
  },
  {
   "cell_type": "code",
   "execution_count": 26,
   "metadata": {},
   "outputs": [],
   "source": [
    "# Conversor de indice a palabra:\n",
    "idx2word = {v: k for k, v in word2idx.items()}\n",
    "\n",
    "def get_resp(input_text):\n",
    "    integer_seq = tokenizer.texts_to_sequences([input_text])[0]\n",
    "    input_seq = pad_sequences([integer_seq], maxlen=max_input_len)\n",
    "\n",
    "    # Se transforma la sequencia de entrada a los stados \"h\" y \"c\" de la LSTM\n",
    "    # para enviar la primera vez al decoder\"\n",
    "    states_value = encoder_model.predict(input_seq)\n",
    "\n",
    "    # Se inicializa la secuencia de entrada al decoder como \"<sos>\"\n",
    "    target_seq = np.zeros((1, 1))\n",
    "    target_seq[0, 0] = word2idx[\"<sos>\"]\n",
    "\n",
    "    # Se obtiene el indice que finaliza la inferencia\n",
    "    eos = word2idx[\"<eos>\"]\n",
    "\n",
    "    output_sentence = []\n",
    "    for _ in range(max_out_len):\n",
    "        # Predicción del próximo elemento\n",
    "        output_tokens, h, c = decoder_model.predict([target_seq] + states_value)\n",
    "        idx = np.argmax(output_tokens[0, 0, :])\n",
    "\n",
    "        # Si es \"end of sentece <eos>\" se acaba\n",
    "        if eos == idx:\n",
    "            break\n",
    "\n",
    "        # Transformar idx a palabra\n",
    "        word = \"\"\n",
    "        if idx > 0:\n",
    "            word = idx2word[idx]\n",
    "            output_sentence.append(word)\n",
    "\n",
    "        # Actualizar los estados dada la ultima prediccion\n",
    "        states_value = [h, c]\n",
    "\n",
    "        # Actualizar secuencia de entrada con la salida (realimentacion)\n",
    "        target_seq[0, 0] = idx\n",
    "\n",
    "    return \" \".join(output_sentence)"
   ]
  },
  {
   "cell_type": "code",
   "execution_count": 27,
   "metadata": {},
   "outputs": [],
   "source": [
    "def chat(input_text):\n",
    "    response = get_resp(input_text)\n",
    "\n",
    "    print(\"Input:\", input_text)\n",
    "    print(\"Response:\", response)"
   ]
  },
  {
   "cell_type": "code",
   "execution_count": 28,
   "metadata": {},
   "outputs": [
    {
     "name": "stdout",
     "output_type": "stream",
     "text": [
      "1/1 [==============================] - 0s 478ms/step\n",
      "1/1 [==============================] - 0s 361ms/step\n",
      "1/1 [==============================] - 0s 21ms/step\n",
      "1/1 [==============================] - 0s 21ms/step\n",
      "1/1 [==============================] - 0s 20ms/step\n",
      "1/1 [==============================] - 0s 22ms/step\n",
      "1/1 [==============================] - 0s 22ms/step\n",
      "1/1 [==============================] - 0s 22ms/step\n",
      "1/1 [==============================] - 0s 23ms/step\n",
      "Input: Do you read?\n",
      "Response: i am not sure what you mean\n",
      "\n",
      "\n",
      "1/1 [==============================] - 0s 20ms/step\n",
      "1/1 [==============================] - 0s 21ms/step\n",
      "1/1 [==============================] - 0s 21ms/step\n",
      "Input: Do you have any pet?\n",
      "Response: no\n",
      "\n",
      "\n",
      "1/1 [==============================] - 0s 22ms/step\n",
      "1/1 [==============================] - 0s 22ms/step\n",
      "1/1 [==============================] - 0s 22ms/step\n",
      "1/1 [==============================] - 0s 21ms/step\n",
      "1/1 [==============================] - 0s 21ms/step\n",
      "1/1 [==============================] - 0s 28ms/step\n",
      "1/1 [==============================] - 0s 22ms/step\n",
      "1/1 [==============================] - 0s 22ms/step\n",
      "Input: Where are you from?\n",
      "Response: i am from the united states\n",
      "\n",
      "\n",
      "1/1 [==============================] - 0s 24ms/step\n",
      "1/1 [==============================] - 0s 25ms/step\n",
      "1/1 [==============================] - 0s 24ms/step\n",
      "1/1 [==============================] - 0s 21ms/step\n",
      "1/1 [==============================] - 0s 21ms/step\n",
      "1/1 [==============================] - 0s 22ms/step\n",
      "1/1 [==============================] - 0s 23ms/step\n",
      "1/1 [==============================] - 0s 20ms/step\n",
      "Input: How old are you?\n",
      "Response: i am 32 i am 32\n",
      "\n",
      "\n",
      "1/1 [==============================] - 0s 20ms/step\n",
      "1/1 [==============================] - 0s 22ms/step\n",
      "1/1 [==============================] - 0s 23ms/step\n",
      "1/1 [==============================] - 0s 23ms/step\n",
      "1/1 [==============================] - 0s 27ms/step\n",
      "1/1 [==============================] - 0s 30ms/step\n",
      "1/1 [==============================] - 0s 22ms/step\n",
      "1/1 [==============================] - 0s 21ms/step\n",
      "1/1 [==============================] - 0s 21ms/step\n",
      "Input: How are you?\n",
      "Response: i am doing well how are you\n",
      "\n",
      "\n",
      "1/1 [==============================] - 0s 19ms/step\n",
      "1/1 [==============================] - 0s 22ms/step\n",
      "1/1 [==============================] - 0s 21ms/step\n",
      "1/1 [==============================] - 0s 26ms/step\n",
      "1/1 [==============================] - 0s 25ms/step\n",
      "1/1 [==============================] - 0s 24ms/step\n",
      "1/1 [==============================] - 0s 21ms/step\n",
      "Input: What do you like to eat\n",
      "Response: i like to read books\n",
      "\n",
      "\n",
      "1/1 [==============================] - 0s 20ms/step\n",
      "1/1 [==============================] - 0s 21ms/step\n",
      "1/1 [==============================] - 0s 21ms/step\n",
      "1/1 [==============================] - 0s 22ms/step\n",
      "1/1 [==============================] - 0s 23ms/step\n",
      "1/1 [==============================] - 0s 22ms/step\n",
      "1/1 [==============================] - 0s 21ms/step\n",
      "1/1 [==============================] - 0s 23ms/step\n",
      "Input: What do you like?\n",
      "Response: i like to play video games\n",
      "\n",
      "\n",
      "1/1 [==============================] - 0s 20ms/step\n",
      "1/1 [==============================] - 0s 22ms/step\n",
      "1/1 [==============================] - 0s 20ms/step\n",
      "1/1 [==============================] - 0s 21ms/step\n",
      "1/1 [==============================] - 0s 22ms/step\n",
      "1/1 [==============================] - 0s 26ms/step\n",
      "1/1 [==============================] - 0s 25ms/step\n",
      "1/1 [==============================] - 0s 26ms/step\n",
      "Input: Which sports do you like?\n",
      "Response: i like to play video games\n",
      "\n",
      "\n",
      "1/1 [==============================] - 0s 23ms/step\n",
      "1/1 [==============================] - 0s 22ms/step\n",
      "1/1 [==============================] - 0s 20ms/step\n",
      "1/1 [==============================] - 0s 22ms/step\n",
      "1/1 [==============================] - 0s 27ms/step\n",
      "1/1 [==============================] - 0s 25ms/step\n",
      "1/1 [==============================] - 0s 24ms/step\n",
      "1/1 [==============================] - 0s 24ms/step\n",
      "1/1 [==============================] - 0s 22ms/step\n",
      "Input: Do you know Argentina?\n",
      "Response: i am not sure what you mean\n",
      "\n",
      "\n"
     ]
    }
   ],
   "source": [
    "questions = [\n",
    "    \"Do you read?\",\n",
    "    \"Do you have any pet?\",\n",
    "    \"Where are you from?\",\n",
    "    \"How old are you?\",\n",
    "    \"How are you?\",\n",
    "    \"What do you like to eat\",\n",
    "    \"What do you like?\",\n",
    "    \"Which sports do you like?\",\n",
    "    \"Do you know Argentina?\",\n",
    "]\n",
    "\n",
    "for question in questions:\n",
    "    chat(question)\n",
    "    print(\"\\n\")"
   ]
  },
  {
   "cell_type": "code",
   "execution_count": null,
   "metadata": {},
   "outputs": [
    {
     "name": "stdout",
     "output_type": "stream",
     "text": [
      "What do you like to eat?\n",
      "1/1 [==============================] - 0s 20ms/step\n",
      "1/1 [==============================] - 0s 20ms/step\n",
      "1/1 [==============================] - 0s 21ms/step\n",
      "1/1 [==============================] - 0s 21ms/step\n",
      "1/1 [==============================] - 0s 21ms/step\n",
      "1/1 [==============================] - 0s 21ms/step\n",
      "1/1 [==============================] - 0s 21ms/step\n",
      "Input: What do you like to eat?\n",
      "Response: i like to read books\n",
      "How old are you?\n",
      "1/1 [==============================] - 0s 19ms/step\n",
      "1/1 [==============================] - 0s 22ms/step\n",
      "1/1 [==============================] - 0s 21ms/step\n",
      "1/1 [==============================] - 0s 21ms/step\n",
      "1/1 [==============================] - 0s 22ms/step\n",
      "1/1 [==============================] - 0s 22ms/step\n",
      "1/1 [==============================] - 0s 32ms/step\n",
      "1/1 [==============================] - 0s 21ms/step\n",
      "Input: How old are you?\n",
      "Response: i am 32 i am 32\n",
      "Do you know America?\n",
      "1/1 [==============================] - 0s 20ms/step\n",
      "1/1 [==============================] - 0s 22ms/step\n",
      "1/1 [==============================] - 0s 22ms/step\n",
      "Input: Do you know America?\n",
      "Response: yes\n"
     ]
    }
   ],
   "source": [
    "import time\n",
    "\n",
    "user_input = None\n",
    "\n",
    "while user_input != \"\":\n",
    "    user_input = input()\n",
    "    if user_input != \"\":\n",
    "        chat(user_input)\n",
    "        time.sleep(1)"
   ]
  },
  {
   "cell_type": "markdown",
   "metadata": {},
   "source": [
    "El bot funciona de manera aceptable para los datos de entrenamiento y la arquitectura sencilla utilizada. \n",
    "\n",
    "Si bien no se consiguieron respuestas coherentes en todos los casos, muchas de ellas si lo fueron. Con un mayor dataset de entrenamiento, probablemente se hubiesen conseguido una mejor performance."
   ]
  },
  {
   "cell_type": "code",
   "execution_count": null,
   "metadata": {},
   "outputs": [],
   "source": []
  }
 ],
 "metadata": {
  "accelerator": "GPU",
  "colab": {
   "collapsed_sections": [],
   "name": "6d - bot_qa.ipynb",
   "provenance": []
  },
  "kernelspec": {
   "display_name": "Python 3 (ipykernel)",
   "language": "python",
   "name": "python3"
  },
  "language_info": {
   "codemirror_mode": {
    "name": "ipython",
    "version": 3
   },
   "file_extension": ".py",
   "mimetype": "text/x-python",
   "name": "python",
   "nbconvert_exporter": "python",
   "pygments_lexer": "ipython3",
   "version": "3.10.4"
  },
  "vscode": {
   "interpreter": {
    "hash": "916dbcbb3f70747c44a77c7bcd40155683ae19c65e1c03b4aa3499c5328201f1"
   }
  }
 },
 "nbformat": 4,
 "nbformat_minor": 1
}
