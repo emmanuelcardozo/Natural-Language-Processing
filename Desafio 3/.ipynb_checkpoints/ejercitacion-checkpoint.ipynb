{
 "cells": [
  {
   "cell_type": "markdown",
   "metadata": {},
   "source": [
    "<img src=\"https://github.com/hernancontigiani/ceia_memorias_especializacion/raw/master/Figures/logoFIUBA.jpg\" width=\"500\" align=\"right\">\n",
    "\n",
    "\n",
    "# Procesamiento de lenguaje natural\n",
    "\n",
    "\n",
    "## TP3\n",
    "\n",
    "### Alumno: Emmanuel Cardozo"
   ]
  },
  {
   "cell_type": "markdown",
   "metadata": {},
   "source": [
    "En este notebook se utilizará Gensim para crear nuestros propios embeddings basado en un corpus extraido del libro \"Guía del autoestopista galáctico\"."
   ]
  },
  {
   "cell_type": "code",
   "execution_count": 32,
   "metadata": {},
   "outputs": [
    {
     "name": "stdout",
     "output_type": "stream",
     "text": [
      "The lab_black extension is already loaded. To reload it, use:\n",
      "  %reload_ext lab_black\n"
     ]
    }
   ],
   "source": [
    "%load_ext lab_black\n",
    "\n",
    "from gensim.models import Word2Vec\n",
    "from gensim.models.callbacks import CallbackAny2Vec\n",
    "from keras.preprocessing.text import text_to_word_sequence\n",
    "from sklearn.manifold import TSNE\n",
    "import bs4 as bs\n",
    "import html\n",
    "import numpy as np\n",
    "import plotly.express as px\n",
    "import re\n",
    "import urllib.request"
   ]
  },
  {
   "cell_type": "markdown",
   "metadata": {},
   "source": [
    "Como corpus utilizaremos, al igual que en la ejercitación de la clase 2, el texto del libro \"Guía del autoestopista galáctico\". El mismo se puede encontrar en el siguiente [link](\"https://archive.org/stream/TheultimateHitchhikersGuide/The%20Hitchhiker%27s%20Guide%20To%20The%20Galaxy_djvu.txt\").\n",
    "\n",
    "Luego se extrae la parte donde se encuentra el texto a procesar y se remueven caracteres especiales y símbolos html."
   ]
  },
  {
   "cell_type": "code",
   "execution_count": 2,
   "metadata": {},
   "outputs": [],
   "source": [
    "def get_html_article(url):\n",
    "    raw_html = urllib.request.urlopen(url)\n",
    "    raw_html = raw_html.read()\n",
    "    return bs.BeautifulSoup(raw_html, \"html.parser\")\n",
    "\n",
    "\n",
    "def extract_text_from_html(html, startDelimiter, endDelimiter):\n",
    "    txt = str(html)\n",
    "    start = txt.find(startDelimiter) + len(startDelimiter)\n",
    "    end = txt.find(endDelimiter)\n",
    "    return txt[start:end]\n",
    "\n",
    "\n",
    "def preprocess_article(article):\n",
    "    # Remover caracteres especiales\n",
    "    filtered_string = re.sub(r\"\\[[0-9]*\\]\", \" \", article)\n",
    "    filtered_string = re.sub(r\"\\s+\", \" \", filtered_string)\n",
    "    # Convertir simbolos especiales html. Ejemplo: &amp; -> &\n",
    "    filtered_string = html.unescape(filtered_string)\n",
    "    return filtered_string.lower()\n",
    "\n",
    "\n",
    "html_article = get_html_article(\n",
    "    \"https://archive.org/stream/TheultimateHitchhikersGuide/The%20Hitchhiker%27s%20Guide%20To%20The%20Galaxy_djvu.txt\"\n",
    ")\n",
    "article = extract_text_from_html(html_article, \"<pre>\", \"</pre>\")\n",
    "article = preprocess_article(article)"
   ]
  },
  {
   "cell_type": "markdown",
   "metadata": {},
   "source": [
    "Se separa el dataset por '.' para obtener diferentes oraciones y se los tokeniza utilizando la función *text_to_word_sequence* de keras."
   ]
  },
  {
   "cell_type": "code",
   "execution_count": 3,
   "metadata": {},
   "outputs": [
    {
     "data": {
      "text/plain": [
       "['we', 'are', 'talking', 'of', 'a', 'mild', 'inability', 'to', 'stand', 'up']"
      ]
     },
     "execution_count": 3,
     "metadata": {},
     "output_type": "execute_result"
    }
   ],
   "source": [
    "sentence_tokens = [text_to_word_sequence(row) for row in article.split(\".\")]\n",
    "sentence_tokens[5]"
   ]
  },
  {
   "cell_type": "markdown",
   "metadata": {},
   "source": [
    "Definimos una clase callback para informar el loss por epoch."
   ]
  },
  {
   "cell_type": "code",
   "execution_count": 4,
   "metadata": {},
   "outputs": [],
   "source": [
    "class callback(CallbackAny2Vec):\n",
    "    \"\"\"\n",
    "    Callback to print loss after each epoch\n",
    "    \"\"\"\n",
    "\n",
    "    def __init__(self):\n",
    "        self.epoch = 0\n",
    "        self.loss_previous_step = 0\n",
    "\n",
    "    def on_epoch_end(self, model):\n",
    "        loss = model.get_latest_training_loss()\n",
    "        print(f\"Loss after epoch {self.epoch}: {loss - self.loss_previous_step}\")\n",
    "        self.epoch += 1\n",
    "        self.loss_previous_step = loss"
   ]
  },
  {
   "cell_type": "markdown",
   "metadata": {},
   "source": [
    "Se genera el modelo utilizando *Word2Vec* y luego se cosntruye el vocabulario. Se probaron distintas combinaciones de hiperparámetros hasta encontrar un conjunto que birnda buenos resultados."
   ]
  },
  {
   "cell_type": "code",
   "execution_count": 5,
   "metadata": {},
   "outputs": [
    {
     "name": "stdout",
     "output_type": "stream",
     "text": [
      "Cantidad de docs en el corpus: 20723\n",
      "Cantidad de words distintas en el corpus: 2966\n"
     ]
    }
   ],
   "source": [
    "skipgram_model = Word2Vec(\n",
    "    min_count=8,\n",
    "    window=2,\n",
    "    size=300,\n",
    "    negative=20,\n",
    "    workers=6,\n",
    "    sg=1,  # skipgram\n",
    ")\n",
    "\n",
    "skipgram_model.build_vocab(sentence_tokens)\n",
    "\n",
    "print(\"Cantidad de docs en el corpus:\", skipgram_model.corpus_count)\n",
    "print(\"Cantidad de words distintas en el corpus:\", len(skipgram_model.wv.vocab))"
   ]
  },
  {
   "cell_type": "markdown",
   "metadata": {},
   "source": [
    "Se entrena el modelo en 300 epochs."
   ]
  },
  {
   "cell_type": "code",
   "execution_count": 6,
   "metadata": {},
   "outputs": [
    {
     "name": "stdout",
     "output_type": "stream",
     "text": [
      "Loss after epoch 0: 395961.09375\n",
      "Loss after epoch 1: 248198.34375\n",
      "Loss after epoch 2: 303334.0\n",
      "Loss after epoch 3: 279829.8125\n",
      "Loss after epoch 4: 265694.0\n",
      "Loss after epoch 5: 261703.25\n",
      "Loss after epoch 6: 260186.25\n",
      "Loss after epoch 7: 244003.25\n",
      "Loss after epoch 8: 232466.75\n",
      "Loss after epoch 9: 188749.25\n",
      "Loss after epoch 10: 232034.75\n",
      "Loss after epoch 11: 228277.5\n",
      "Loss after epoch 12: 229440.75\n",
      "Loss after epoch 13: 225494.75\n",
      "Loss after epoch 14: 224475.75\n",
      "Loss after epoch 15: 224934.0\n",
      "Loss after epoch 16: 219369.5\n",
      "Loss after epoch 17: 207388.0\n",
      "Loss after epoch 18: 209248.5\n",
      "Loss after epoch 19: 204721.5\n",
      "Loss after epoch 20: 202648.5\n",
      "Loss after epoch 21: 200992.5\n",
      "Loss after epoch 22: 205671.5\n",
      "Loss after epoch 23: 198852.0\n",
      "Loss after epoch 24: 200381.5\n",
      "Loss after epoch 25: 198017.5\n",
      "Loss after epoch 26: 200366.0\n",
      "Loss after epoch 27: 203223.0\n",
      "Loss after epoch 28: 200675.0\n",
      "Loss after epoch 29: 203076.5\n",
      "Loss after epoch 30: 199016.0\n",
      "Loss after epoch 31: 198526.5\n",
      "Loss after epoch 32: 200482.0\n",
      "Loss after epoch 33: 198675.5\n",
      "Loss after epoch 34: 157947.0\n",
      "Loss after epoch 35: 160122.0\n",
      "Loss after epoch 36: 201598.5\n",
      "Loss after epoch 37: 195653.5\n",
      "Loss after epoch 38: 147618.0\n",
      "Loss after epoch 39: 186158.0\n",
      "Loss after epoch 40: 182214.0\n",
      "Loss after epoch 41: 151476.0\n",
      "Loss after epoch 42: 149691.0\n",
      "Loss after epoch 43: 183173.0\n",
      "Loss after epoch 44: 186354.0\n",
      "Loss after epoch 45: 183213.0\n",
      "Loss after epoch 46: 183884.0\n",
      "Loss after epoch 47: 182272.0\n",
      "Loss after epoch 48: 180334.0\n",
      "Loss after epoch 49: 183108.0\n",
      "Loss after epoch 50: 182918.0\n",
      "Loss after epoch 51: 180536.0\n",
      "Loss after epoch 52: 183331.0\n",
      "Loss after epoch 53: 184566.0\n",
      "Loss after epoch 54: 183205.0\n",
      "Loss after epoch 55: 181520.0\n",
      "Loss after epoch 56: 181275.0\n",
      "Loss after epoch 57: 183054.0\n",
      "Loss after epoch 58: 184505.0\n",
      "Loss after epoch 59: 183478.0\n",
      "Loss after epoch 60: 182760.0\n",
      "Loss after epoch 61: 180344.0\n",
      "Loss after epoch 62: 184197.0\n",
      "Loss after epoch 63: 179031.0\n",
      "Loss after epoch 64: 182810.0\n",
      "Loss after epoch 65: 182091.0\n",
      "Loss after epoch 66: 180462.0\n",
      "Loss after epoch 67: 182026.0\n",
      "Loss after epoch 68: 182190.0\n",
      "Loss after epoch 69: 181214.0\n",
      "Loss after epoch 70: 183364.0\n",
      "Loss after epoch 71: 180823.0\n",
      "Loss after epoch 72: 181383.0\n",
      "Loss after epoch 73: 179717.0\n",
      "Loss after epoch 74: 179323.0\n",
      "Loss after epoch 75: 180793.0\n",
      "Loss after epoch 76: 181049.0\n",
      "Loss after epoch 77: 180925.0\n",
      "Loss after epoch 78: 180728.0\n",
      "Loss after epoch 79: 180475.0\n",
      "Loss after epoch 80: 179995.0\n",
      "Loss after epoch 81: 177987.0\n",
      "Loss after epoch 82: 180101.0\n",
      "Loss after epoch 83: 180249.0\n",
      "Loss after epoch 84: 177810.0\n",
      "Loss after epoch 85: 169302.0\n",
      "Loss after epoch 86: 170250.0\n",
      "Loss after epoch 87: 167048.0\n",
      "Loss after epoch 88: 168284.0\n",
      "Loss after epoch 89: 170092.0\n",
      "Loss after epoch 90: 166440.0\n",
      "Loss after epoch 91: 167858.0\n",
      "Loss after epoch 92: 167236.0\n",
      "Loss after epoch 93: 167858.0\n",
      "Loss after epoch 94: 169154.0\n",
      "Loss after epoch 95: 168096.0\n",
      "Loss after epoch 96: 165554.0\n",
      "Loss after epoch 97: 166062.0\n",
      "Loss after epoch 98: 165816.0\n",
      "Loss after epoch 99: 166298.0\n",
      "Loss after epoch 100: 166594.0\n",
      "Loss after epoch 101: 169130.0\n",
      "Loss after epoch 102: 165522.0\n",
      "Loss after epoch 103: 168952.0\n",
      "Loss after epoch 104: 167310.0\n",
      "Loss after epoch 105: 166532.0\n",
      "Loss after epoch 106: 166726.0\n",
      "Loss after epoch 107: 167170.0\n",
      "Loss after epoch 108: 163386.0\n",
      "Loss after epoch 109: 168704.0\n",
      "Loss after epoch 110: 167714.0\n",
      "Loss after epoch 111: 166114.0\n",
      "Loss after epoch 112: 165806.0\n",
      "Loss after epoch 113: 164398.0\n",
      "Loss after epoch 114: 167842.0\n",
      "Loss after epoch 115: 165774.0\n",
      "Loss after epoch 116: 164680.0\n",
      "Loss after epoch 117: 166742.0\n",
      "Loss after epoch 118: 165064.0\n",
      "Loss after epoch 119: 164292.0\n",
      "Loss after epoch 120: 164882.0\n",
      "Loss after epoch 121: 165488.0\n",
      "Loss after epoch 122: 165400.0\n",
      "Loss after epoch 123: 164116.0\n",
      "Loss after epoch 124: 168184.0\n",
      "Loss after epoch 125: 164952.0\n",
      "Loss after epoch 126: 165754.0\n",
      "Loss after epoch 127: 163348.0\n",
      "Loss after epoch 128: 163806.0\n",
      "Loss after epoch 129: 166814.0\n",
      "Loss after epoch 130: 163284.0\n",
      "Loss after epoch 131: 164180.0\n",
      "Loss after epoch 132: 164436.0\n",
      "Loss after epoch 133: 165204.0\n",
      "Loss after epoch 134: 164978.0\n",
      "Loss after epoch 135: 165248.0\n",
      "Loss after epoch 136: 133530.0\n",
      "Loss after epoch 137: 163248.0\n",
      "Loss after epoch 138: 166434.0\n",
      "Loss after epoch 139: 165862.0\n",
      "Loss after epoch 140: 167170.0\n",
      "Loss after epoch 141: 165812.0\n",
      "Loss after epoch 142: 197096.0\n",
      "Loss after epoch 143: 163978.0\n",
      "Loss after epoch 144: 165394.0\n",
      "Loss after epoch 145: 163142.0\n",
      "Loss after epoch 146: 164402.0\n",
      "Loss after epoch 147: 163000.0\n",
      "Loss after epoch 148: 161018.0\n",
      "Loss after epoch 149: 162076.0\n",
      "Loss after epoch 150: 166084.0\n",
      "Loss after epoch 151: 131044.0\n",
      "Loss after epoch 152: 133230.0\n",
      "Loss after epoch 153: 163768.0\n",
      "Loss after epoch 154: 160460.0\n",
      "Loss after epoch 155: 162898.0\n",
      "Loss after epoch 156: 162062.0\n",
      "Loss after epoch 157: 161228.0\n",
      "Loss after epoch 158: 163680.0\n",
      "Loss after epoch 159: 163318.0\n",
      "Loss after epoch 160: 163538.0\n",
      "Loss after epoch 161: 192252.0\n",
      "Loss after epoch 162: 163524.0\n",
      "Loss after epoch 163: 165570.0\n",
      "Loss after epoch 164: 162618.0\n",
      "Loss after epoch 165: 161998.0\n",
      "Loss after epoch 166: 160014.0\n",
      "Loss after epoch 167: 161298.0\n",
      "Loss after epoch 168: 162996.0\n",
      "Loss after epoch 169: 162592.0\n",
      "Loss after epoch 170: 159538.0\n",
      "Loss after epoch 171: 159772.0\n",
      "Loss after epoch 172: 161766.0\n",
      "Loss after epoch 173: 162870.0\n",
      "Loss after epoch 174: 160536.0\n",
      "Loss after epoch 175: 161426.0\n",
      "Loss after epoch 176: 163738.0\n",
      "Loss after epoch 177: 163420.0\n",
      "Loss after epoch 178: 158756.0\n",
      "Loss after epoch 179: 160592.0\n",
      "Loss after epoch 180: 159510.0\n",
      "Loss after epoch 181: 159966.0\n",
      "Loss after epoch 182: 160620.0\n",
      "Loss after epoch 183: 159736.0\n",
      "Loss after epoch 184: 158676.0\n",
      "Loss after epoch 185: 160160.0\n",
      "Loss after epoch 186: 157092.0\n",
      "Loss after epoch 187: 154572.0\n",
      "Loss after epoch 188: 154564.0\n",
      "Loss after epoch 189: 154092.0\n",
      "Loss after epoch 190: 154548.0\n",
      "Loss after epoch 191: 151620.0\n",
      "Loss after epoch 192: 153928.0\n",
      "Loss after epoch 193: 150388.0\n",
      "Loss after epoch 194: 153100.0\n",
      "Loss after epoch 195: 155004.0\n",
      "Loss after epoch 196: 153760.0\n",
      "Loss after epoch 197: 152728.0\n",
      "Loss after epoch 198: 150840.0\n",
      "Loss after epoch 199: 153196.0\n",
      "Loss after epoch 200: 152496.0\n",
      "Loss after epoch 201: 156368.0\n",
      "Loss after epoch 202: 152616.0\n",
      "Loss after epoch 203: 155940.0\n",
      "Loss after epoch 204: 152884.0\n",
      "Loss after epoch 205: 152540.0\n",
      "Loss after epoch 206: 154300.0\n",
      "Loss after epoch 207: 154384.0\n",
      "Loss after epoch 208: 154092.0\n",
      "Loss after epoch 209: 151080.0\n",
      "Loss after epoch 210: 123360.0\n",
      "Loss after epoch 211: 153764.0\n",
      "Loss after epoch 212: 151208.0\n",
      "Loss after epoch 213: 152748.0\n",
      "Loss after epoch 214: 152440.0\n",
      "Loss after epoch 215: 154864.0\n",
      "Loss after epoch 216: 151304.0\n",
      "Loss after epoch 217: 153312.0\n",
      "Loss after epoch 218: 151336.0\n",
      "Loss after epoch 219: 149620.0\n",
      "Loss after epoch 220: 151780.0\n",
      "Loss after epoch 221: 151300.0\n",
      "Loss after epoch 222: 150512.0\n",
      "Loss after epoch 223: 146324.0\n",
      "Loss after epoch 224: 148812.0\n",
      "Loss after epoch 225: 152200.0\n",
      "Loss after epoch 226: 152244.0\n",
      "Loss after epoch 227: 150020.0\n",
      "Loss after epoch 228: 150104.0\n",
      "Loss after epoch 229: 154028.0\n",
      "Loss after epoch 230: 151156.0\n",
      "Loss after epoch 231: 151104.0\n",
      "Loss after epoch 232: 151124.0\n",
      "Loss after epoch 233: 150524.0\n",
      "Loss after epoch 234: 148372.0\n",
      "Loss after epoch 235: 147552.0\n",
      "Loss after epoch 236: 151984.0\n",
      "Loss after epoch 237: 151660.0\n",
      "Loss after epoch 238: 148972.0\n",
      "Loss after epoch 239: 149104.0\n",
      "Loss after epoch 240: 151420.0\n",
      "Loss after epoch 241: 147988.0\n",
      "Loss after epoch 242: 148740.0\n",
      "Loss after epoch 243: 147128.0\n",
      "Loss after epoch 244: 151828.0\n",
      "Loss after epoch 245: 150136.0\n",
      "Loss after epoch 246: 147408.0\n",
      "Loss after epoch 247: 151348.0\n",
      "Loss after epoch 248: 147580.0\n",
      "Loss after epoch 249: 150636.0\n",
      "Loss after epoch 250: 148368.0\n",
      "Loss after epoch 251: 146400.0\n",
      "Loss after epoch 252: 147428.0\n",
      "Loss after epoch 253: 146132.0\n",
      "Loss after epoch 254: 145952.0\n",
      "Loss after epoch 255: 149268.0\n",
      "Loss after epoch 256: 149116.0\n",
      "Loss after epoch 257: 119360.0\n",
      "Loss after epoch 258: 147336.0\n",
      "Loss after epoch 259: 145540.0\n",
      "Loss after epoch 260: 149268.0\n",
      "Loss after epoch 261: 148204.0\n",
      "Loss after epoch 262: 145552.0\n",
      "Loss after epoch 263: 147852.0\n",
      "Loss after epoch 264: 149524.0\n",
      "Loss after epoch 265: 147304.0\n",
      "Loss after epoch 266: 116608.0\n",
      "Loss after epoch 267: 145256.0\n",
      "Loss after epoch 268: 149432.0\n",
      "Loss after epoch 269: 146788.0\n",
      "Loss after epoch 270: 146836.0\n",
      "Loss after epoch 271: 116656.0\n",
      "Loss after epoch 272: 146808.0\n",
      "Loss after epoch 273: 146340.0\n",
      "Loss after epoch 274: 149416.0\n",
      "Loss after epoch 275: 144772.0\n",
      "Loss after epoch 276: 145388.0\n",
      "Loss after epoch 277: 143640.0\n",
      "Loss after epoch 278: 144540.0\n",
      "Loss after epoch 279: 143628.0\n",
      "Loss after epoch 280: 145984.0\n",
      "Loss after epoch 281: 116816.0\n",
      "Loss after epoch 282: 119480.0\n",
      "Loss after epoch 283: 144324.0\n",
      "Loss after epoch 284: 142088.0\n",
      "Loss after epoch 285: 145132.0\n",
      "Loss after epoch 286: 146248.0\n",
      "Loss after epoch 287: 142412.0\n",
      "Loss after epoch 288: 143264.0\n",
      "Loss after epoch 289: 142120.0\n",
      "Loss after epoch 290: 144332.0\n",
      "Loss after epoch 291: 145736.0\n",
      "Loss after epoch 292: 142652.0\n",
      "Loss after epoch 293: 141900.0\n",
      "Loss after epoch 294: 143348.0\n",
      "Loss after epoch 295: 143392.0\n",
      "Loss after epoch 296: 142512.0\n",
      "Loss after epoch 297: 140668.0\n",
      "Loss after epoch 298: 143332.0\n",
      "Loss after epoch 299: 143356.0\n"
     ]
    },
    {
     "data": {
      "text/plain": [
       "(51445203, 81200400)"
      ]
     },
     "execution_count": 6,
     "metadata": {},
     "output_type": "execute_result"
    }
   ],
   "source": [
    "skipgram_model.train(\n",
    "    sentence_tokens,\n",
    "    total_examples=skipgram_model.corpus_count,\n",
    "    epochs=300,\n",
    "    compute_loss=True,\n",
    "    callbacks=[callback()],\n",
    ")"
   ]
  },
  {
   "cell_type": "markdown",
   "metadata": {},
   "source": [
    "Visualizamos los resultados para ciertas palabras de prueba."
   ]
  },
  {
   "cell_type": "code",
   "execution_count": 7,
   "metadata": {},
   "outputs": [],
   "source": [
    "def get_similars(model, words, topn):\n",
    "    return [model.wv.most_similar(positive=[word], topn=topn) for word in words]\n",
    "\n",
    "\n",
    "test_words = [\"space\", \"guide\", \"human\", \"planet\"]\n",
    "\n",
    "skipgram_similars = get_similars(skipgram_model, test_words, 10)"
   ]
  },
  {
   "cell_type": "code",
   "execution_count": 8,
   "metadata": {},
   "outputs": [
    {
     "name": "stdout",
     "output_type": "stream",
     "text": [
      "space\n"
     ]
    },
    {
     "data": {
      "text/plain": [
       "[('prostetnic', 0.2842663824558258),\n",
       " ('fabric', 0.268716424703598),\n",
       " ('depths', 0.25458142161369324),\n",
       " ('easy', 0.25336119532585144),\n",
       " ('void', 0.25129246711730957),\n",
       " ('string', 0.2506865859031677),\n",
       " ('mess', 0.23902928829193115),\n",
       " ('blackness', 0.23811087012290955),\n",
       " ('appalling', 0.23720991611480713),\n",
       " ('dragons', 0.2355571985244751)]"
      ]
     },
     "execution_count": 8,
     "metadata": {},
     "output_type": "execute_result"
    }
   ],
   "source": [
    "print(test_words[0])\n",
    "skipgram_similars[0]"
   ]
  },
  {
   "cell_type": "code",
   "execution_count": 9,
   "metadata": {},
   "outputs": [
    {
     "name": "stdout",
     "output_type": "stream",
     "text": [
      "guide\n"
     ]
    },
    {
     "data": {
      "text/plain": [
       "[(\"hitchhiker's\", 0.46618199348449707),\n",
       " ('douglas', 0.3374624252319336),\n",
       " ('edition', 0.32471340894699097),\n",
       " ('s', 0.2906302213668823),\n",
       " ('5', 0.2782394289970398),\n",
       " ('hiker', 0.2729685306549072),\n",
       " ('sirius', 0.27272969484329224),\n",
       " ('remarkable', 0.2675398290157318),\n",
       " ('17', 0.2620775103569031),\n",
       " ('galaxy', 0.2612919211387634)]"
      ]
     },
     "execution_count": 9,
     "metadata": {},
     "output_type": "execute_result"
    }
   ],
   "source": [
    "print(test_words[1])\n",
    "skipgram_similars[1]"
   ]
  },
  {
   "cell_type": "code",
   "execution_count": 10,
   "metadata": {},
   "outputs": [
    {
     "name": "stdout",
     "output_type": "stream",
     "text": [
      "human\n"
     ]
    },
    {
     "data": {
      "text/plain": [
       "[('beings', 0.4466100335121155),\n",
       " ('foolish', 0.26765668392181396),\n",
       " ('alert', 0.2674822211265564),\n",
       " ('video', 0.26567816734313965),\n",
       " ('race', 0.2636412978172302),\n",
       " ('smiling', 0.2620318531990051),\n",
       " ('remarkable', 0.2590775191783905),\n",
       " ('embarrassed', 0.2589922249317169),\n",
       " ('imagination', 0.2579191029071808),\n",
       " ('names', 0.25697314739227295)]"
      ]
     },
     "execution_count": 10,
     "metadata": {},
     "output_type": "execute_result"
    }
   ],
   "source": [
    "print(test_words[2])\n",
    "skipgram_similars[2]"
   ]
  },
  {
   "cell_type": "code",
   "execution_count": 11,
   "metadata": {},
   "outputs": [
    {
     "name": "stdout",
     "output_type": "stream",
     "text": [
      "planet\n"
     ]
    },
    {
     "data": {
      "text/plain": [
       "[(\"planet's\", 0.27888333797454834),\n",
       " ('section', 0.27513107657432556),\n",
       " ('daughter', 0.2724984288215637),\n",
       " ('race', 0.2540271282196045),\n",
       " ('yesterday', 0.25305086374282837),\n",
       " ('matches', 0.24764896929264069),\n",
       " ('land', 0.24588504433631897),\n",
       " ('surface', 0.2442721128463745),\n",
       " ('secret', 0.23974773287773132),\n",
       " ('wrecked', 0.23947396874427795)]"
      ]
     },
     "execution_count": 11,
     "metadata": {},
     "output_type": "execute_result"
    }
   ],
   "source": [
    "print(test_words[3])\n",
    "skipgram_similars[3]"
   ]
  },
  {
   "cell_type": "markdown",
   "metadata": {},
   "source": [
    "Se puede ver que algunas palabras, aunque no todas, guardan cierto sentido con la palabra dada como input.\n",
    "También podemos ver que los valores de relación son bajos, ninguno supera en 0.5.\n",
    "\n",
    "El resultado no es óptimo pero es aceptable.\n",
    "\n",
    "Probamos crear otro modelo pero utilizando el método CBOW."
   ]
  },
  {
   "cell_type": "code",
   "execution_count": 12,
   "metadata": {},
   "outputs": [
    {
     "name": "stdout",
     "output_type": "stream",
     "text": [
      "Cantidad de docs en el corpus: 20723\n",
      "Cantidad de words distintas en el corpus: 2966\n"
     ]
    }
   ],
   "source": [
    "cbow_model = Word2Vec(\n",
    "    min_count=8,\n",
    "    window=4,\n",
    "    size=300,\n",
    "    negative=20,\n",
    "    workers=6,\n",
    "    sg=0,  # CBOW\n",
    ")\n",
    "\n",
    "cbow_model.build_vocab(sentence_tokens)\n",
    "\n",
    "print(\"Cantidad de docs en el corpus:\", cbow_model.corpus_count)\n",
    "print(\"Cantidad de words distintas en el corpus:\", len(cbow_model.wv.vocab))"
   ]
  },
  {
   "cell_type": "code",
   "execution_count": 13,
   "metadata": {},
   "outputs": [
    {
     "name": "stdout",
     "output_type": "stream",
     "text": [
      "Loss after epoch 0: 114552.1875\n",
      "Loss after epoch 1: 103085.046875\n",
      "Loss after epoch 2: 123013.953125\n",
      "Loss after epoch 3: 120203.78125\n",
      "Loss after epoch 4: 116334.03125\n",
      "Loss after epoch 5: 91057.0\n",
      "Loss after epoch 6: 110308.875\n",
      "Loss after epoch 7: 109234.125\n",
      "Loss after epoch 8: 106210.0\n",
      "Loss after epoch 9: 100816.75\n",
      "Loss after epoch 10: 97616.625\n",
      "Loss after epoch 11: 77264.75\n",
      "Loss after epoch 12: 76891.25\n",
      "Loss after epoch 13: 93923.25\n",
      "Loss after epoch 14: 93038.625\n",
      "Loss after epoch 15: 91477.875\n",
      "Loss after epoch 16: 91712.125\n",
      "Loss after epoch 17: 90794.5\n",
      "Loss after epoch 18: 89881.375\n",
      "Loss after epoch 19: 87944.75\n",
      "Loss after epoch 20: 87599.75\n",
      "Loss after epoch 21: 83386.375\n",
      "Loss after epoch 22: 81275.5\n",
      "Loss after epoch 23: 80901.0\n",
      "Loss after epoch 24: 80839.5\n",
      "Loss after epoch 25: 79695.0\n",
      "Loss after epoch 26: 79580.25\n",
      "Loss after epoch 27: 79429.5\n",
      "Loss after epoch 28: 80022.5\n",
      "Loss after epoch 29: 79358.25\n",
      "Loss after epoch 30: 79824.5\n",
      "Loss after epoch 31: 79471.25\n",
      "Loss after epoch 32: 78894.25\n",
      "Loss after epoch 33: 79781.0\n",
      "Loss after epoch 34: 78760.75\n",
      "Loss after epoch 35: 78007.75\n",
      "Loss after epoch 36: 79226.0\n",
      "Loss after epoch 37: 78611.25\n",
      "Loss after epoch 38: 79259.75\n",
      "Loss after epoch 39: 77952.0\n",
      "Loss after epoch 40: 79922.5\n",
      "Loss after epoch 41: 80845.25\n",
      "Loss after epoch 42: 62827.5\n",
      "Loss after epoch 43: 78168.5\n",
      "Loss after epoch 44: 80886.75\n",
      "Loss after epoch 45: 77956.5\n",
      "Loss after epoch 46: 79895.25\n",
      "Loss after epoch 47: 77929.75\n",
      "Loss after epoch 48: 72695.0\n",
      "Loss after epoch 49: 71982.5\n",
      "Loss after epoch 50: 72594.5\n",
      "Loss after epoch 51: 74271.0\n",
      "Loss after epoch 52: 73717.5\n",
      "Loss after epoch 53: 73037.5\n",
      "Loss after epoch 54: 71905.5\n",
      "Loss after epoch 55: 73680.0\n",
      "Loss after epoch 56: 73452.0\n",
      "Loss after epoch 57: 73364.5\n",
      "Loss after epoch 58: 73082.5\n",
      "Loss after epoch 59: 73933.0\n",
      "Loss after epoch 60: 73734.0\n",
      "Loss after epoch 61: 72079.0\n",
      "Loss after epoch 62: 73287.5\n",
      "Loss after epoch 63: 44588.5\n",
      "Loss after epoch 64: 73920.0\n",
      "Loss after epoch 65: 74370.5\n",
      "Loss after epoch 66: 74073.5\n",
      "Loss after epoch 67: 74065.5\n",
      "Loss after epoch 68: 59921.5\n",
      "Loss after epoch 69: 73746.5\n",
      "Loss after epoch 70: 74166.5\n",
      "Loss after epoch 71: 60016.5\n",
      "Loss after epoch 72: 88494.0\n",
      "Loss after epoch 73: 75037.5\n",
      "Loss after epoch 74: 59563.0\n",
      "Loss after epoch 75: 59433.0\n",
      "Loss after epoch 76: 72146.5\n",
      "Loss after epoch 77: 74280.5\n",
      "Loss after epoch 78: 59958.0\n",
      "Loss after epoch 79: 75216.0\n",
      "Loss after epoch 80: 60113.5\n",
      "Loss after epoch 81: 88025.5\n",
      "Loss after epoch 82: 73815.5\n",
      "Loss after epoch 83: 72804.0\n",
      "Loss after epoch 84: 72982.5\n",
      "Loss after epoch 85: 75939.0\n",
      "Loss after epoch 86: 73734.0\n",
      "Loss after epoch 87: 57924.0\n",
      "Loss after epoch 88: 73936.5\n",
      "Loss after epoch 89: 73506.0\n",
      "Loss after epoch 90: 90234.5\n",
      "Loss after epoch 91: 60255.5\n",
      "Loss after epoch 92: 72534.5\n",
      "Loss after epoch 93: 73661.0\n",
      "Loss after epoch 94: 58183.5\n",
      "Loss after epoch 95: 72637.5\n",
      "Loss after epoch 96: 73043.0\n",
      "Loss after epoch 97: 73174.0\n",
      "Loss after epoch 98: 72347.5\n",
      "Loss after epoch 99: 72150.0\n",
      "Loss after epoch 100: 72098.5\n",
      "Loss after epoch 101: 72520.0\n",
      "Loss after epoch 102: 72634.5\n",
      "Loss after epoch 103: 73836.5\n",
      "Loss after epoch 104: 71547.0\n",
      "Loss after epoch 105: 73661.0\n",
      "Loss after epoch 106: 70378.5\n",
      "Loss after epoch 107: 69561.0\n",
      "Loss after epoch 108: 82347.0\n",
      "Loss after epoch 109: 70013.0\n",
      "Loss after epoch 110: 71042.0\n",
      "Loss after epoch 111: 58509.0\n",
      "Loss after epoch 112: 55312.0\n",
      "Loss after epoch 113: 69752.0\n",
      "Loss after epoch 114: 70154.0\n",
      "Loss after epoch 115: 71282.0\n",
      "Loss after epoch 116: 72087.0\n",
      "Loss after epoch 117: 70170.0\n",
      "Loss after epoch 118: 44581.0\n",
      "Loss after epoch 119: 57092.0\n",
      "Loss after epoch 120: 70383.0\n",
      "Loss after epoch 121: 55708.0\n",
      "Loss after epoch 122: 83416.0\n",
      "Loss after epoch 123: 69214.0\n",
      "Loss after epoch 124: 68212.0\n",
      "Loss after epoch 125: 42140.0\n",
      "Loss after epoch 126: 55397.0\n",
      "Loss after epoch 127: 54588.0\n",
      "Loss after epoch 128: 67459.0\n",
      "Loss after epoch 129: 56704.0\n",
      "Loss after epoch 130: 54331.0\n",
      "Loss after epoch 131: 80864.0\n",
      "Loss after epoch 132: 68704.0\n",
      "Loss after epoch 133: 55261.0\n",
      "Loss after epoch 134: 68503.0\n",
      "Loss after epoch 135: 54701.0\n",
      "Loss after epoch 136: 69149.0\n",
      "Loss after epoch 137: 83318.0\n",
      "Loss after epoch 138: 39836.0\n",
      "Loss after epoch 139: 69009.0\n",
      "Loss after epoch 140: 67868.0\n",
      "Loss after epoch 141: 68304.0\n",
      "Loss after epoch 142: 79631.0\n",
      "Loss after epoch 143: 79695.0\n",
      "Loss after epoch 144: 67193.0\n",
      "Loss after epoch 145: 68487.0\n",
      "Loss after epoch 146: 70372.0\n",
      "Loss after epoch 147: 84114.0\n",
      "Loss after epoch 148: 54020.0\n",
      "Loss after epoch 149: 55066.0\n",
      "Loss after epoch 150: 94081.0\n",
      "Loss after epoch 151: 54127.0\n",
      "Loss after epoch 152: 66689.0\n",
      "Loss after epoch 153: 54462.0\n",
      "Loss after epoch 154: 66131.0\n",
      "Loss after epoch 155: 66659.0\n",
      "Loss after epoch 156: 67284.0\n",
      "Loss after epoch 157: 52118.0\n",
      "Loss after epoch 158: 81859.0\n",
      "Loss after epoch 159: 67177.0\n",
      "Loss after epoch 160: 51936.0\n",
      "Loss after epoch 161: 63897.0\n",
      "Loss after epoch 162: 65535.0\n",
      "Loss after epoch 163: 51541.0\n",
      "Loss after epoch 164: 52828.0\n",
      "Loss after epoch 165: 76988.0\n",
      "Loss after epoch 166: 67578.0\n",
      "Loss after epoch 167: 66485.0\n",
      "Loss after epoch 168: 52668.0\n",
      "Loss after epoch 169: 66949.0\n",
      "Loss after epoch 170: 64639.0\n",
      "Loss after epoch 171: 52146.0\n",
      "Loss after epoch 172: 64856.0\n",
      "Loss after epoch 173: 54673.0\n",
      "Loss after epoch 174: 90263.0\n",
      "Loss after epoch 175: 65387.0\n",
      "Loss after epoch 176: 78966.0\n",
      "Loss after epoch 177: 63075.0\n",
      "Loss after epoch 178: 67541.0\n",
      "Loss after epoch 179: 52932.0\n",
      "Loss after epoch 180: 76442.0\n",
      "Loss after epoch 181: 51214.0\n",
      "Loss after epoch 182: 64176.0\n",
      "Loss after epoch 183: 53258.0\n",
      "Loss after epoch 184: 63191.0\n",
      "Loss after epoch 185: 64715.0\n",
      "Loss after epoch 186: 63230.0\n",
      "Loss after epoch 187: 63448.0\n",
      "Loss after epoch 188: 50415.0\n",
      "Loss after epoch 189: 62968.0\n",
      "Loss after epoch 190: 62254.0\n",
      "Loss after epoch 191: 52071.0\n",
      "Loss after epoch 192: 51598.0\n",
      "Loss after epoch 193: 64630.0\n",
      "Loss after epoch 194: 64281.0\n",
      "Loss after epoch 195: 62134.0\n",
      "Loss after epoch 196: 49204.0\n",
      "Loss after epoch 197: 61276.0\n",
      "Loss after epoch 198: 50397.0\n",
      "Loss after epoch 199: 61033.0\n",
      "Loss after epoch 200: 51095.0\n",
      "Loss after epoch 201: 61285.0\n",
      "Loss after epoch 202: 62815.0\n",
      "Loss after epoch 203: 49279.0\n",
      "Loss after epoch 204: 59846.0\n",
      "Loss after epoch 205: 60958.0\n",
      "Loss after epoch 206: 74863.0\n",
      "Loss after epoch 207: 62311.0\n",
      "Loss after epoch 208: 62401.0\n",
      "Loss after epoch 209: 47488.0\n",
      "Loss after epoch 210: 70627.0\n",
      "Loss after epoch 211: 72418.0\n",
      "Loss after epoch 212: 36711.0\n",
      "Loss after epoch 213: 49997.0\n",
      "Loss after epoch 214: 60503.0\n",
      "Loss after epoch 215: 58573.0\n",
      "Loss after epoch 216: 49946.0\n",
      "Loss after epoch 217: 58425.0\n",
      "Loss after epoch 218: 59283.0\n",
      "Loss after epoch 219: 50924.0\n",
      "Loss after epoch 220: 60424.0\n",
      "Loss after epoch 221: 83358.0\n",
      "Loss after epoch 222: 59151.0\n",
      "Loss after epoch 223: 58867.0\n",
      "Loss after epoch 224: 57628.0\n",
      "Loss after epoch 225: 57356.0\n",
      "Loss after epoch 226: 57794.0\n",
      "Loss after epoch 227: 57408.0\n",
      "Loss after epoch 228: 58113.0\n",
      "Loss after epoch 229: 56662.0\n",
      "Loss after epoch 230: 56156.0\n",
      "Loss after epoch 231: 46004.0\n",
      "Loss after epoch 232: 57301.0\n",
      "Loss after epoch 233: 56501.0\n",
      "Loss after epoch 234: 56242.0\n",
      "Loss after epoch 235: 56930.0\n",
      "Loss after epoch 236: 57787.0\n",
      "Loss after epoch 237: 56623.0\n",
      "Loss after epoch 238: 57716.0\n",
      "Loss after epoch 239: 55713.0\n",
      "Loss after epoch 240: 55389.0\n",
      "Loss after epoch 241: 48791.0\n",
      "Loss after epoch 242: 46226.0\n",
      "Loss after epoch 243: 45732.0\n",
      "Loss after epoch 244: 46012.0\n",
      "Loss after epoch 245: 44728.0\n",
      "Loss after epoch 246: 45016.0\n",
      "Loss after epoch 247: 44358.0\n",
      "Loss after epoch 248: 44686.0\n",
      "Loss after epoch 249: 44368.0\n",
      "Loss after epoch 250: 44424.0\n",
      "Loss after epoch 251: 44618.0\n",
      "Loss after epoch 252: 53060.0\n",
      "Loss after epoch 253: 43890.0\n",
      "Loss after epoch 254: 44728.0\n",
      "Loss after epoch 255: 43148.0\n",
      "Loss after epoch 256: 42846.0\n",
      "Loss after epoch 257: 43352.0\n",
      "Loss after epoch 258: 43196.0\n",
      "Loss after epoch 259: 34868.0\n",
      "Loss after epoch 260: 51656.0\n",
      "Loss after epoch 261: 42648.0\n",
      "Loss after epoch 262: 34376.0\n",
      "Loss after epoch 263: 42534.0\n",
      "Loss after epoch 264: 41110.0\n",
      "Loss after epoch 265: 33278.0\n",
      "Loss after epoch 266: 41922.0\n",
      "Loss after epoch 267: 42876.0\n",
      "Loss after epoch 268: 43460.0\n",
      "Loss after epoch 269: 35160.0\n",
      "Loss after epoch 270: 41182.0\n",
      "Loss after epoch 271: 34564.0\n",
      "Loss after epoch 272: 42544.0\n",
      "Loss after epoch 273: 49620.0\n",
      "Loss after epoch 274: 32886.0\n",
      "Loss after epoch 275: 41680.0\n",
      "Loss after epoch 276: 40196.0\n",
      "Loss after epoch 277: 40684.0\n",
      "Loss after epoch 278: 41082.0\n",
      "Loss after epoch 279: 40026.0\n",
      "Loss after epoch 280: 40258.0\n",
      "Loss after epoch 281: 48790.0\n",
      "Loss after epoch 282: 40806.0\n",
      "Loss after epoch 283: 47752.0\n",
      "Loss after epoch 284: 39634.0\n",
      "Loss after epoch 285: 40014.0\n",
      "Loss after epoch 286: 39506.0\n",
      "Loss after epoch 287: 31316.0\n",
      "Loss after epoch 288: 39636.0\n",
      "Loss after epoch 289: 39242.0\n",
      "Loss after epoch 290: 38530.0\n",
      "Loss after epoch 291: 32292.0\n",
      "Loss after epoch 292: 47236.0\n",
      "Loss after epoch 293: 39368.0\n",
      "Loss after epoch 294: 38564.0\n",
      "Loss after epoch 295: 38990.0\n",
      "Loss after epoch 296: 31172.0\n",
      "Loss after epoch 297: 38722.0\n",
      "Loss after epoch 298: 38968.0\n",
      "Loss after epoch 299: 38348.0\n"
     ]
    },
    {
     "data": {
      "text/plain": [
       "(51439895, 81200400)"
      ]
     },
     "execution_count": 13,
     "metadata": {},
     "output_type": "execute_result"
    }
   ],
   "source": [
    "cbow_model.train(\n",
    "    sentence_tokens,\n",
    "    total_examples=cbow_model.corpus_count,\n",
    "    epochs=300,\n",
    "    compute_loss=True,\n",
    "    callbacks=[callback()],\n",
    ")"
   ]
  },
  {
   "cell_type": "markdown",
   "metadata": {},
   "source": [
    "Vemos que en comparación con skipgram el valor de loss en CBOW es mucho menor, probemos con los mismos ejemplos."
   ]
  },
  {
   "cell_type": "code",
   "execution_count": 14,
   "metadata": {},
   "outputs": [],
   "source": [
    "cbow_similars = get_similars(cbow_model, test_words, 10)"
   ]
  },
  {
   "cell_type": "code",
   "execution_count": 15,
   "metadata": {},
   "outputs": [
    {
     "name": "stdout",
     "output_type": "stream",
     "text": [
      "space\n"
     ]
    },
    {
     "data": {
      "text/plain": [
       "[('void', 0.313744455575943),\n",
       " ('air', 0.26463520526885986),\n",
       " ('future', 0.2248440980911255),\n",
       " ('doorway', 0.2174740433692932),\n",
       " ('emerged', 0.21690744161605835),\n",
       " ('interstellar', 0.21497587859630585),\n",
       " ('bush', 0.21397343277931213),\n",
       " ('half', 0.20871347188949585),\n",
       " ('blackness', 0.20778340101242065),\n",
       " ('ether', 0.20614898204803467)]"
      ]
     },
     "execution_count": 15,
     "metadata": {},
     "output_type": "execute_result"
    }
   ],
   "source": [
    "print(test_words[0])\n",
    "cbow_similars[0]"
   ]
  },
  {
   "cell_type": "code",
   "execution_count": 16,
   "metadata": {},
   "outputs": [
    {
     "name": "stdout",
     "output_type": "stream",
     "text": [
      "guide\n"
     ]
    },
    {
     "data": {
      "text/plain": [
       "[(\"hitchhiker's\", 0.30212295055389404),\n",
       " ('edition', 0.25454458594322205),\n",
       " ('hiker', 0.22720062732696533),\n",
       " ('smashed', 0.22524258494377136),\n",
       " ('department', 0.21082064509391785),\n",
       " ('test', 0.20610305666923523),\n",
       " ('share', 0.20533165335655212),\n",
       " ('re', 0.19851428270339966),\n",
       " ('form', 0.19268806278705597),\n",
       " ('douglas', 0.19128835201263428)]"
      ]
     },
     "execution_count": 16,
     "metadata": {},
     "output_type": "execute_result"
    }
   ],
   "source": [
    "print(test_words[1])\n",
    "cbow_similars[1]"
   ]
  },
  {
   "cell_type": "code",
   "execution_count": 17,
   "metadata": {},
   "outputs": [
    {
     "name": "stdout",
     "output_type": "stream",
     "text": [
      "human\n"
     ]
    },
    {
     "data": {
      "text/plain": [
       "[('beings', 0.32553258538246155),\n",
       " ('properly', 0.20916011929512024),\n",
       " ('alert', 0.20582205057144165),\n",
       " ('intelligence', 0.2016240954399109),\n",
       " ('embarrassed', 0.20036527514457703),\n",
       " ('tea', 0.19660496711730957),\n",
       " (\"waiter's\", 0.19651682674884796),\n",
       " ('race', 0.18841463327407837),\n",
       " ('capable', 0.1881083846092224),\n",
       " ('merely', 0.18637681007385254)]"
      ]
     },
     "execution_count": 17,
     "metadata": {},
     "output_type": "execute_result"
    }
   ],
   "source": [
    "print(test_words[2])\n",
    "cbow_similars[2]"
   ]
  },
  {
   "cell_type": "code",
   "execution_count": 18,
   "metadata": {},
   "outputs": [
    {
     "name": "stdout",
     "output_type": "stream",
     "text": [
      "planet\n"
     ]
    },
    {
     "data": {
      "text/plain": [
       "[(\"planet's\", 0.32553794980049133),\n",
       " ('world', 0.2671772837638855),\n",
       " ('spacecraft', 0.2428017109632492),\n",
       " ('matches', 0.2262277603149414),\n",
       " ('ship', 0.22292262315750122),\n",
       " ('section', 0.21838359534740448),\n",
       " ('theory', 0.2171759009361267),\n",
       " ('race', 0.20825618505477905),\n",
       " ('galaxy', 0.2041124701499939),\n",
       " ('broadcast', 0.2007841169834137)]"
      ]
     },
     "execution_count": 18,
     "metadata": {},
     "output_type": "execute_result"
    }
   ],
   "source": [
    "print(test_words[3])\n",
    "cbow_similars[3]"
   ]
  },
  {
   "cell_type": "markdown",
   "metadata": {},
   "source": [
    "A pesar de tener un valor de loss menor sucede algo similar al caso de skipgram, ciertas palabras guardan relacion con el input mientras que otras no.\n",
    "\n",
    "Veamos la comparación de las palabras generadas por ambos métodos."
   ]
  },
  {
   "cell_type": "code",
   "execution_count": 19,
   "metadata": {},
   "outputs": [
    {
     "name": "stdout",
     "output_type": "stream",
     "text": [
      "Word: space\n",
      "SKIPGRAM - CBOW\n",
      "---------------\n",
      "prostetnic - void\n",
      "fabric - air\n",
      "depths - future\n",
      "easy - doorway\n",
      "void - emerged\n",
      "string - interstellar\n",
      "mess - bush\n",
      "blackness - half\n",
      "appalling - blackness\n",
      "dragons - ether\n"
     ]
    }
   ],
   "source": [
    "def print_comparison(idx):\n",
    "    print(f\"Word: {test_words[idx]}\")\n",
    "    print(\"SKIPGRAM - CBOW\")\n",
    "    print(\"---------------\")\n",
    "    for skipgram, cbow in zip(skipgram_similars[idx], cbow_similars[idx]):\n",
    "        print(f\"{skipgram[0]} - {cbow[0]}\")\n",
    "\n",
    "\n",
    "print_comparison(0)"
   ]
  },
  {
   "cell_type": "code",
   "execution_count": 20,
   "metadata": {},
   "outputs": [
    {
     "name": "stdout",
     "output_type": "stream",
     "text": [
      "Word: guide\n",
      "SKIPGRAM - CBOW\n",
      "---------------\n",
      "hitchhiker's - hitchhiker's\n",
      "douglas - edition\n",
      "edition - hiker\n",
      "s - smashed\n",
      "5 - department\n",
      "hiker - test\n",
      "sirius - share\n",
      "remarkable - re\n",
      "17 - form\n",
      "galaxy - douglas\n"
     ]
    }
   ],
   "source": [
    "print_comparison(1)"
   ]
  },
  {
   "cell_type": "code",
   "execution_count": 21,
   "metadata": {},
   "outputs": [
    {
     "name": "stdout",
     "output_type": "stream",
     "text": [
      "Word: human\n",
      "SKIPGRAM - CBOW\n",
      "---------------\n",
      "beings - beings\n",
      "foolish - properly\n",
      "alert - alert\n",
      "video - intelligence\n",
      "race - embarrassed\n",
      "smiling - tea\n",
      "remarkable - waiter's\n",
      "embarrassed - race\n",
      "imagination - capable\n",
      "names - merely\n"
     ]
    }
   ],
   "source": [
    "print_comparison(2)"
   ]
  },
  {
   "cell_type": "code",
   "execution_count": 22,
   "metadata": {},
   "outputs": [
    {
     "name": "stdout",
     "output_type": "stream",
     "text": [
      "Word: planet\n",
      "SKIPGRAM - CBOW\n",
      "---------------\n",
      "planet's - planet's\n",
      "section - world\n",
      "daughter - spacecraft\n",
      "race - matches\n",
      "yesterday - ship\n",
      "matches - section\n",
      "land - theory\n",
      "surface - race\n",
      "secret - galaxy\n",
      "wrecked - broadcast\n"
     ]
    }
   ],
   "source": [
    "print_comparison(3)"
   ]
  },
  {
   "cell_type": "markdown",
   "metadata": {},
   "source": [
    "A simple vista no podemos notar que uno tenga una performance claramente superior al otro. Ambos métodos arrojan resultados aceptables.\n",
    "\n",
    "Realizamos gráficas para ver la distribución espacial de las palabras."
   ]
  },
  {
   "cell_type": "code",
   "execution_count": 25,
   "metadata": {},
   "outputs": [],
   "source": [
    "def reduce_dimensions(model):\n",
    "    num_dimensions = 2\n",
    "\n",
    "    vectors = np.asarray(model.wv.vectors)\n",
    "    labels = np.asarray(model.wv.index2word)\n",
    "\n",
    "    tsne = TSNE(n_components=num_dimensions, random_state=0)\n",
    "    vectors = tsne.fit_transform(vectors)\n",
    "\n",
    "    x_vals = [v[0] for v in vectors]\n",
    "    y_vals = [v[1] for v in vectors]\n",
    "    return x_vals, y_vals, labels"
   ]
  },
  {
   "cell_type": "markdown",
   "metadata": {},
   "source": [
    "Para el modelo que utiliza Skipgram"
   ]
  },
  {
   "cell_type": "code",
   "execution_count": 33,
   "metadata": {},
   "outputs": [
    {
     "data": {
      "application/vnd.plotly.v1+json": {
       "config": {
        "plotlyServerURL": "https://plot.ly"
       },
       "data": [
        {
         "hovertemplate": "x=%{x}<br>y=%{y}<br>text=%{text}<extra></extra>",
         "legendgroup": "",
         "marker": {
          "color": "#636efa",
          "symbol": "circle"
         },
         "mode": "markers+text",
         "name": "",
         "orientation": "v",
         "showlegend": false,
         "text": [
          "the",
          "and",
          "of",
          "to",
          "a",
          "it",
          "he",
          "was",
          "in",
          "that",
          "said",
          "you",
          "i",
          "had",
          "his",
          "on",
          "at",
          "with",
          "this",
          "for",
          "they",
          "arthur",
          "is",
          "what",
          "as",
          "ford",
          "but",
          "all",
          "which",
          "be",
          "she",
          "up",
          "one",
          "out",
          "him",
          "from",
          "have",
          "not",
          "there",
          "were",
          "about",
          "just",
          "them",
          "so",
          "would",
          "into",
          "been",
          "an",
          "her",
          "do",
          "zaphod",
          "if",
          "no",
          "very",
          "by",
          "like",
          "or",
          "we",
          "are",
          "again",
          "then",
          "me",
          "know",
          "now",
          "time",
          "down",
          "its",
          "could",
          "some",
          "their",
          "see",
          "well",
          "through",
          "back",
          "who",
          "it's",
          "over",
          "way",
          "when",
          "something",
          "don't",
          "other",
          "little",
          "think",
          "looked",
          "where",
          "going",
          "get",
          "your",
          "thought",
          "off",
          "more",
          "can",
          "yes",
          "only",
          "because",
          "two",
          "didn't",
          "did",
          "moment",
          "got",
          "my",
          "how",
          "man",
          "thing",
          "good",
          "any",
          "people",
          "ship",
          "here",
          "around",
          "go",
          "say",
          "seemed",
          "himself",
          "i'm",
          "away",
          "things",
          "suddenly",
          "will",
          "right",
          "planet",
          "look",
          "universe",
          "much",
          "small",
          "being",
          "come",
          "round",
          "after",
          "most",
          "oh",
          "life",
          "head",
          "trillian",
          "want",
          "anything",
          "why",
          "still",
          "even",
          "voice",
          "than",
          "light",
          "before",
          "another",
          "made",
          "first",
          "galaxy",
          "eyes",
          "nothing",
          "old",
          "that's",
          "fact",
          "few",
          "wasn't",
          "turned",
          "quite",
          "went",
          "last",
          "mind",
          "long",
          "tell",
          "make",
          "rather",
          "point",
          "marvin",
          "really",
          "too",
          "never",
          "came",
          "great",
          "bit",
          "computer",
          "years",
          "sort",
          "has",
          "ever",
          "left",
          "air",
          "guide",
          "trying",
          "find",
          "mean",
          "take",
          "space",
          "put",
          "earth",
          "slowly",
          "every",
          "chapter",
          "fie",
          "doing",
          "these",
          "looking",
          "end",
          "knew",
          "own",
          "though",
          "whole",
          "new"
         ],
         "type": "scatter",
         "x": [
          -0.17322555,
          -2.7902784,
          -0.28529534,
          0.4154768,
          0.17001441,
          0.5080385,
          0.7391205,
          0.23700668,
          -0.029928606,
          0.3375498,
          1.2979795,
          0.8788276,
          0.9348361,
          0.23397312,
          0.39046082,
          0.03982836,
          0.29584616,
          0.21683207,
          0.36741835,
          0.16518736,
          0.19275443,
          1.0024683,
          0.37062275,
          0.7088643,
          0.36202598,
          1.0600799,
          0.40272364,
          -0.04697324,
          -0.25562698,
          0.33656806,
          0.7916734,
          0.34059608,
          0.05507186,
          0.045763332,
          0.42206573,
          -0.16207851,
          0.536384,
          0.43382743,
          0.2688718,
          -0.38787436,
          0.2497687,
          0.53636956,
          0.090493076,
          0.49714434,
          0.45562798,
          -0.14313252,
          0.11487282,
          0.062525116,
          0.3262348,
          0.6968843,
          1.2900786,
          0.50666004,
          0.6495551,
          0.29521057,
          -0.09808272,
          0.2784139,
          0.07905129,
          0.799998,
          0.050528646,
          0.7184028,
          0.4659245,
          0.95356345,
          0.8746706,
          0.24077384,
          0.06570677,
          0.1296594,
          -0.5359853,
          0.40253475,
          -0.23222704,
          -0.8015174,
          0.8002369,
          0.86439776,
          -0.28908476,
          0.20203349,
          0.50347906,
          0.95561785,
          -0.1622698,
          -0.18569727,
          0.42740154,
          0.37628657,
          1.1700726,
          -0.41547707,
          0.26942876,
          0.92645425,
          0.66173065,
          0.17456155,
          0.44943637,
          0.5868567,
          -0.03996971,
          0.6809334,
          0.28950825,
          -0.06836423,
          0.8697503,
          1.6295074,
          0.294208,
          0.30985513,
          -0.945309,
          0.632429,
          1.0180595,
          0.37049764,
          0.71517307,
          1.166795,
          0.6567552,
          1.3463758,
          0.38240254,
          0.60407436,
          0.075953126,
          -0.85223144,
          -0.027149038,
          0.35402697,
          -0.51221895,
          0.9440397,
          0.7557641,
          -0.14670175,
          0.70388615,
          1.2765852,
          -0.4290415,
          -0.30275565,
          0.7154715,
          0.7733234,
          0.851009,
          -1.2376666,
          1.1201464,
          -0.43330353,
          0.5406697,
          -0.6545109,
          -0.5436756,
          0.9603891,
          -0.0013413345,
          0.17148186,
          -0.55110675,
          1.5819974,
          -0.38391456,
          0.7466314,
          1.4522309,
          1.1043748,
          0.64000183,
          1.3560265,
          0.762503,
          0.52453995,
          2.3759267,
          -0.56107944,
          -1.5843033,
          0.0119512165,
          0.09286352,
          -0.40347472,
          -0.7589006,
          -0.93029475,
          0.19071631,
          0.6729956,
          2.1067293,
          1.5094547,
          0.091014184,
          1.3929641,
          0.252127,
          0.012809889,
          0.3867246,
          0.039261285,
          2.4399905,
          -0.34010234,
          -1.5375081,
          1.000427,
          0.027800985,
          0.48107135,
          0.5553101,
          2.371009,
          0.90707654,
          2.362774,
          0.84434474,
          -0.6794726,
          -1.5017338,
          1.467017,
          3.3094108,
          -2.3728788,
          1.3408147,
          0.036503166,
          0.12203918,
          -0.1346578,
          -1.0001979,
          1.5101936,
          -0.12719075,
          0.8684406,
          1.3264773,
          1.1391397,
          -1.0192889,
          0.6269911,
          0.29952073,
          -0.28403533,
          -2.0603368,
          3.182324,
          1.2013608,
          1.3529687,
          0.120624796,
          0.66912746,
          -1.3951783,
          0.29959443,
          -0.80787385,
          1.3916227,
          -1.3952363,
          -2.8072538
         ],
         "xaxis": "x",
         "y": [
          -3.4886358,
          0.10577476,
          0.06455591,
          -0.24965128,
          0.16233575,
          -0.10147671,
          0.037249677,
          0.07788635,
          0.29707763,
          -0.42602882,
          -0.50125784,
          -0.88345826,
          -0.64391965,
          -0.0021555107,
          0.90561086,
          0.36188146,
          0.46053126,
          0.29798925,
          -0.32632875,
          -0.11000333,
          -0.16764686,
          0.175107,
          -0.71208584,
          -0.5808826,
          0.112790614,
          0.3103165,
          -0.11202198,
          -0.34167904,
          0.0378498,
          -0.51299405,
          0.1416631,
          0.57709247,
          -0.039681807,
          0.5009484,
          0.5169501,
          0.3365184,
          -0.68615586,
          -0.49007183,
          -0.11589214,
          -0.03139624,
          -0.27981153,
          -0.3157804,
          0.283928,
          -0.38116717,
          -0.49940434,
          0.882105,
          -0.16628529,
          0.120978475,
          0.8903973,
          -0.8574338,
          0.17214441,
          -0.34107587,
          -0.4536323,
          -0.03835246,
          0.20006946,
          -0.17471503,
          -0.28371057,
          -0.86279684,
          -0.6708876,
          0.8657078,
          0.47714835,
          -0.56029797,
          -0.96783924,
          -0.10845676,
          -0.28074896,
          0.9039895,
          1.0120196,
          -0.26751086,
          -0.098862566,
          -0.1873628,
          -0.37896758,
          -0.5050166,
          0.82699335,
          0.9892075,
          -0.20071663,
          -0.735517,
          0.7001254,
          0.17526223,
          -0.21768007,
          -0.17649429,
          -1.2529558,
          0.019927574,
          0.48623067,
          -0.89431715,
          1.4957532,
          -0.25148073,
          -0.5844115,
          -0.53580195,
          -0.8714674,
          -0.16367896,
          0.9930376,
          -0.089008436,
          -1.0862373,
          -0.8405265,
          -0.18080877,
          -0.39213812,
          1.0273166,
          -0.6661811,
          -0.49953833,
          0.385768,
          -0.32611114,
          -0.26644555,
          -0.93944466,
          0.23487845,
          -0.31716475,
          -0.26474917,
          -0.58911175,
          -0.874445,
          0.19594336,
          -0.53009355,
          0.7338908,
          -0.90371686,
          -0.7923685,
          0.2558228,
          0.8543844,
          -0.84047323,
          1.4639717,
          -0.6606527,
          0.68608046,
          -1.9203217,
          -0.33432698,
          -0.33615774,
          -0.20512988,
          -1.1295656,
          -0.6308993,
          1.117637,
          -1.087218,
          -0.6301463,
          2.0315952,
          0.2807962,
          -0.43366298,
          -0.888862,
          -0.5930267,
          1.2172679,
          0.17468543,
          -1.1836482,
          -0.5429478,
          -0.6380874,
          0.39781424,
          -0.43504485,
          0.61214143,
          -1.2265133,
          0.66563475,
          0.08420345,
          0.80731446,
          -0.05890096,
          -1.5122358,
          -0.4359997,
          1.6788521,
          -0.26427394,
          0.31470516,
          -1.2800485,
          -0.34512562,
          3.561403,
          -0.08541397,
          2.558281,
          -0.120633885,
          2.010584,
          -0.15279822,
          -0.43522447,
          0.15799522,
          -1.0823672,
          -0.9470046,
          0.41301522,
          -0.32921752,
          -0.22660205,
          -0.7278143,
          -1.8770096,
          -0.6045833,
          2.2761667,
          -0.9228708,
          0.094763145,
          0.5893853,
          -1.4198897,
          -2.3910832,
          -0.13595825,
          -1.9373708,
          0.53450096,
          1.5268791,
          3.5274148,
          -1.7647802,
          -1.7773756,
          -0.99304533,
          -2.0184016,
          -0.2510558,
          0.8172419,
          -0.36143458,
          1.8649123,
          -1.1637688,
          1.7859057,
          0.4594088,
          -0.31941727,
          -3.162603,
          2.0627074,
          0.23674649,
          -0.1940522,
          2.1513872,
          -2.3041356,
          -0.8976149,
          -2.2534523
         ],
         "yaxis": "y"
        }
       ],
       "layout": {
        "legend": {
         "tracegroupgap": 0
        },
        "margin": {
         "t": 60
        },
        "template": {
         "data": {
          "bar": [
           {
            "error_x": {
             "color": "#2a3f5f"
            },
            "error_y": {
             "color": "#2a3f5f"
            },
            "marker": {
             "line": {
              "color": "#E5ECF6",
              "width": 0.5
             },
             "pattern": {
              "fillmode": "overlay",
              "size": 10,
              "solidity": 0.2
             }
            },
            "type": "bar"
           }
          ],
          "barpolar": [
           {
            "marker": {
             "line": {
              "color": "#E5ECF6",
              "width": 0.5
             },
             "pattern": {
              "fillmode": "overlay",
              "size": 10,
              "solidity": 0.2
             }
            },
            "type": "barpolar"
           }
          ],
          "carpet": [
           {
            "aaxis": {
             "endlinecolor": "#2a3f5f",
             "gridcolor": "white",
             "linecolor": "white",
             "minorgridcolor": "white",
             "startlinecolor": "#2a3f5f"
            },
            "baxis": {
             "endlinecolor": "#2a3f5f",
             "gridcolor": "white",
             "linecolor": "white",
             "minorgridcolor": "white",
             "startlinecolor": "#2a3f5f"
            },
            "type": "carpet"
           }
          ],
          "choropleth": [
           {
            "colorbar": {
             "outlinewidth": 0,
             "ticks": ""
            },
            "type": "choropleth"
           }
          ],
          "contour": [
           {
            "colorbar": {
             "outlinewidth": 0,
             "ticks": ""
            },
            "colorscale": [
             [
              0,
              "#0d0887"
             ],
             [
              0.1111111111111111,
              "#46039f"
             ],
             [
              0.2222222222222222,
              "#7201a8"
             ],
             [
              0.3333333333333333,
              "#9c179e"
             ],
             [
              0.4444444444444444,
              "#bd3786"
             ],
             [
              0.5555555555555556,
              "#d8576b"
             ],
             [
              0.6666666666666666,
              "#ed7953"
             ],
             [
              0.7777777777777778,
              "#fb9f3a"
             ],
             [
              0.8888888888888888,
              "#fdca26"
             ],
             [
              1,
              "#f0f921"
             ]
            ],
            "type": "contour"
           }
          ],
          "contourcarpet": [
           {
            "colorbar": {
             "outlinewidth": 0,
             "ticks": ""
            },
            "type": "contourcarpet"
           }
          ],
          "heatmap": [
           {
            "colorbar": {
             "outlinewidth": 0,
             "ticks": ""
            },
            "colorscale": [
             [
              0,
              "#0d0887"
             ],
             [
              0.1111111111111111,
              "#46039f"
             ],
             [
              0.2222222222222222,
              "#7201a8"
             ],
             [
              0.3333333333333333,
              "#9c179e"
             ],
             [
              0.4444444444444444,
              "#bd3786"
             ],
             [
              0.5555555555555556,
              "#d8576b"
             ],
             [
              0.6666666666666666,
              "#ed7953"
             ],
             [
              0.7777777777777778,
              "#fb9f3a"
             ],
             [
              0.8888888888888888,
              "#fdca26"
             ],
             [
              1,
              "#f0f921"
             ]
            ],
            "type": "heatmap"
           }
          ],
          "heatmapgl": [
           {
            "colorbar": {
             "outlinewidth": 0,
             "ticks": ""
            },
            "colorscale": [
             [
              0,
              "#0d0887"
             ],
             [
              0.1111111111111111,
              "#46039f"
             ],
             [
              0.2222222222222222,
              "#7201a8"
             ],
             [
              0.3333333333333333,
              "#9c179e"
             ],
             [
              0.4444444444444444,
              "#bd3786"
             ],
             [
              0.5555555555555556,
              "#d8576b"
             ],
             [
              0.6666666666666666,
              "#ed7953"
             ],
             [
              0.7777777777777778,
              "#fb9f3a"
             ],
             [
              0.8888888888888888,
              "#fdca26"
             ],
             [
              1,
              "#f0f921"
             ]
            ],
            "type": "heatmapgl"
           }
          ],
          "histogram": [
           {
            "marker": {
             "pattern": {
              "fillmode": "overlay",
              "size": 10,
              "solidity": 0.2
             }
            },
            "type": "histogram"
           }
          ],
          "histogram2d": [
           {
            "colorbar": {
             "outlinewidth": 0,
             "ticks": ""
            },
            "colorscale": [
             [
              0,
              "#0d0887"
             ],
             [
              0.1111111111111111,
              "#46039f"
             ],
             [
              0.2222222222222222,
              "#7201a8"
             ],
             [
              0.3333333333333333,
              "#9c179e"
             ],
             [
              0.4444444444444444,
              "#bd3786"
             ],
             [
              0.5555555555555556,
              "#d8576b"
             ],
             [
              0.6666666666666666,
              "#ed7953"
             ],
             [
              0.7777777777777778,
              "#fb9f3a"
             ],
             [
              0.8888888888888888,
              "#fdca26"
             ],
             [
              1,
              "#f0f921"
             ]
            ],
            "type": "histogram2d"
           }
          ],
          "histogram2dcontour": [
           {
            "colorbar": {
             "outlinewidth": 0,
             "ticks": ""
            },
            "colorscale": [
             [
              0,
              "#0d0887"
             ],
             [
              0.1111111111111111,
              "#46039f"
             ],
             [
              0.2222222222222222,
              "#7201a8"
             ],
             [
              0.3333333333333333,
              "#9c179e"
             ],
             [
              0.4444444444444444,
              "#bd3786"
             ],
             [
              0.5555555555555556,
              "#d8576b"
             ],
             [
              0.6666666666666666,
              "#ed7953"
             ],
             [
              0.7777777777777778,
              "#fb9f3a"
             ],
             [
              0.8888888888888888,
              "#fdca26"
             ],
             [
              1,
              "#f0f921"
             ]
            ],
            "type": "histogram2dcontour"
           }
          ],
          "mesh3d": [
           {
            "colorbar": {
             "outlinewidth": 0,
             "ticks": ""
            },
            "type": "mesh3d"
           }
          ],
          "parcoords": [
           {
            "line": {
             "colorbar": {
              "outlinewidth": 0,
              "ticks": ""
             }
            },
            "type": "parcoords"
           }
          ],
          "pie": [
           {
            "automargin": true,
            "type": "pie"
           }
          ],
          "scatter": [
           {
            "fillpattern": {
             "fillmode": "overlay",
             "size": 10,
             "solidity": 0.2
            },
            "type": "scatter"
           }
          ],
          "scatter3d": [
           {
            "line": {
             "colorbar": {
              "outlinewidth": 0,
              "ticks": ""
             }
            },
            "marker": {
             "colorbar": {
              "outlinewidth": 0,
              "ticks": ""
             }
            },
            "type": "scatter3d"
           }
          ],
          "scattercarpet": [
           {
            "marker": {
             "colorbar": {
              "outlinewidth": 0,
              "ticks": ""
             }
            },
            "type": "scattercarpet"
           }
          ],
          "scattergeo": [
           {
            "marker": {
             "colorbar": {
              "outlinewidth": 0,
              "ticks": ""
             }
            },
            "type": "scattergeo"
           }
          ],
          "scattergl": [
           {
            "marker": {
             "colorbar": {
              "outlinewidth": 0,
              "ticks": ""
             }
            },
            "type": "scattergl"
           }
          ],
          "scattermapbox": [
           {
            "marker": {
             "colorbar": {
              "outlinewidth": 0,
              "ticks": ""
             }
            },
            "type": "scattermapbox"
           }
          ],
          "scatterpolar": [
           {
            "marker": {
             "colorbar": {
              "outlinewidth": 0,
              "ticks": ""
             }
            },
            "type": "scatterpolar"
           }
          ],
          "scatterpolargl": [
           {
            "marker": {
             "colorbar": {
              "outlinewidth": 0,
              "ticks": ""
             }
            },
            "type": "scatterpolargl"
           }
          ],
          "scatterternary": [
           {
            "marker": {
             "colorbar": {
              "outlinewidth": 0,
              "ticks": ""
             }
            },
            "type": "scatterternary"
           }
          ],
          "surface": [
           {
            "colorbar": {
             "outlinewidth": 0,
             "ticks": ""
            },
            "colorscale": [
             [
              0,
              "#0d0887"
             ],
             [
              0.1111111111111111,
              "#46039f"
             ],
             [
              0.2222222222222222,
              "#7201a8"
             ],
             [
              0.3333333333333333,
              "#9c179e"
             ],
             [
              0.4444444444444444,
              "#bd3786"
             ],
             [
              0.5555555555555556,
              "#d8576b"
             ],
             [
              0.6666666666666666,
              "#ed7953"
             ],
             [
              0.7777777777777778,
              "#fb9f3a"
             ],
             [
              0.8888888888888888,
              "#fdca26"
             ],
             [
              1,
              "#f0f921"
             ]
            ],
            "type": "surface"
           }
          ],
          "table": [
           {
            "cells": {
             "fill": {
              "color": "#EBF0F8"
             },
             "line": {
              "color": "white"
             }
            },
            "header": {
             "fill": {
              "color": "#C8D4E3"
             },
             "line": {
              "color": "white"
             }
            },
            "type": "table"
           }
          ]
         },
         "layout": {
          "annotationdefaults": {
           "arrowcolor": "#2a3f5f",
           "arrowhead": 0,
           "arrowwidth": 1
          },
          "autotypenumbers": "strict",
          "coloraxis": {
           "colorbar": {
            "outlinewidth": 0,
            "ticks": ""
           }
          },
          "colorscale": {
           "diverging": [
            [
             0,
             "#8e0152"
            ],
            [
             0.1,
             "#c51b7d"
            ],
            [
             0.2,
             "#de77ae"
            ],
            [
             0.3,
             "#f1b6da"
            ],
            [
             0.4,
             "#fde0ef"
            ],
            [
             0.5,
             "#f7f7f7"
            ],
            [
             0.6,
             "#e6f5d0"
            ],
            [
             0.7,
             "#b8e186"
            ],
            [
             0.8,
             "#7fbc41"
            ],
            [
             0.9,
             "#4d9221"
            ],
            [
             1,
             "#276419"
            ]
           ],
           "sequential": [
            [
             0,
             "#0d0887"
            ],
            [
             0.1111111111111111,
             "#46039f"
            ],
            [
             0.2222222222222222,
             "#7201a8"
            ],
            [
             0.3333333333333333,
             "#9c179e"
            ],
            [
             0.4444444444444444,
             "#bd3786"
            ],
            [
             0.5555555555555556,
             "#d8576b"
            ],
            [
             0.6666666666666666,
             "#ed7953"
            ],
            [
             0.7777777777777778,
             "#fb9f3a"
            ],
            [
             0.8888888888888888,
             "#fdca26"
            ],
            [
             1,
             "#f0f921"
            ]
           ],
           "sequentialminus": [
            [
             0,
             "#0d0887"
            ],
            [
             0.1111111111111111,
             "#46039f"
            ],
            [
             0.2222222222222222,
             "#7201a8"
            ],
            [
             0.3333333333333333,
             "#9c179e"
            ],
            [
             0.4444444444444444,
             "#bd3786"
            ],
            [
             0.5555555555555556,
             "#d8576b"
            ],
            [
             0.6666666666666666,
             "#ed7953"
            ],
            [
             0.7777777777777778,
             "#fb9f3a"
            ],
            [
             0.8888888888888888,
             "#fdca26"
            ],
            [
             1,
             "#f0f921"
            ]
           ]
          },
          "colorway": [
           "#636efa",
           "#EF553B",
           "#00cc96",
           "#ab63fa",
           "#FFA15A",
           "#19d3f3",
           "#FF6692",
           "#B6E880",
           "#FF97FF",
           "#FECB52"
          ],
          "font": {
           "color": "#2a3f5f"
          },
          "geo": {
           "bgcolor": "white",
           "lakecolor": "white",
           "landcolor": "#E5ECF6",
           "showlakes": true,
           "showland": true,
           "subunitcolor": "white"
          },
          "hoverlabel": {
           "align": "left"
          },
          "hovermode": "closest",
          "mapbox": {
           "style": "light"
          },
          "paper_bgcolor": "white",
          "plot_bgcolor": "#E5ECF6",
          "polar": {
           "angularaxis": {
            "gridcolor": "white",
            "linecolor": "white",
            "ticks": ""
           },
           "bgcolor": "#E5ECF6",
           "radialaxis": {
            "gridcolor": "white",
            "linecolor": "white",
            "ticks": ""
           }
          },
          "scene": {
           "xaxis": {
            "backgroundcolor": "#E5ECF6",
            "gridcolor": "white",
            "gridwidth": 2,
            "linecolor": "white",
            "showbackground": true,
            "ticks": "",
            "zerolinecolor": "white"
           },
           "yaxis": {
            "backgroundcolor": "#E5ECF6",
            "gridcolor": "white",
            "gridwidth": 2,
            "linecolor": "white",
            "showbackground": true,
            "ticks": "",
            "zerolinecolor": "white"
           },
           "zaxis": {
            "backgroundcolor": "#E5ECF6",
            "gridcolor": "white",
            "gridwidth": 2,
            "linecolor": "white",
            "showbackground": true,
            "ticks": "",
            "zerolinecolor": "white"
           }
          },
          "shapedefaults": {
           "line": {
            "color": "#2a3f5f"
           }
          },
          "ternary": {
           "aaxis": {
            "gridcolor": "white",
            "linecolor": "white",
            "ticks": ""
           },
           "baxis": {
            "gridcolor": "white",
            "linecolor": "white",
            "ticks": ""
           },
           "bgcolor": "#E5ECF6",
           "caxis": {
            "gridcolor": "white",
            "linecolor": "white",
            "ticks": ""
           }
          },
          "title": {
           "x": 0.05
          },
          "xaxis": {
           "automargin": true,
           "gridcolor": "white",
           "linecolor": "white",
           "ticks": "",
           "title": {
            "standoff": 15
           },
           "zerolinecolor": "white",
           "zerolinewidth": 2
          },
          "yaxis": {
           "automargin": true,
           "gridcolor": "white",
           "linecolor": "white",
           "ticks": "",
           "title": {
            "standoff": 15
           },
           "zerolinecolor": "white",
           "zerolinewidth": 2
          }
         }
        },
        "xaxis": {
         "anchor": "y",
         "domain": [
          0,
          1
         ],
         "title": {
          "text": "x"
         }
        },
        "yaxis": {
         "anchor": "x",
         "domain": [
          0,
          1
         ],
         "title": {
          "text": "y"
         }
        }
       }
      },
      "text/html": [
       "<div>                            <div id=\"7bb3f784-36bd-44c5-9fb3-835bf0cc48bc\" class=\"plotly-graph-div\" style=\"height:525px; width:100%;\"></div>            <script type=\"text/javascript\">                require([\"plotly\"], function(Plotly) {                    window.PLOTLYENV=window.PLOTLYENV || {};                                    if (document.getElementById(\"7bb3f784-36bd-44c5-9fb3-835bf0cc48bc\")) {                    Plotly.newPlot(                        \"7bb3f784-36bd-44c5-9fb3-835bf0cc48bc\",                        [{\"hovertemplate\":\"x=%{x}<br>y=%{y}<br>text=%{text}<extra></extra>\",\"legendgroup\":\"\",\"marker\":{\"color\":\"#636efa\",\"symbol\":\"circle\"},\"mode\":\"markers+text\",\"name\":\"\",\"orientation\":\"v\",\"showlegend\":false,\"text\":[\"the\",\"and\",\"of\",\"to\",\"a\",\"it\",\"he\",\"was\",\"in\",\"that\",\"said\",\"you\",\"i\",\"had\",\"his\",\"on\",\"at\",\"with\",\"this\",\"for\",\"they\",\"arthur\",\"is\",\"what\",\"as\",\"ford\",\"but\",\"all\",\"which\",\"be\",\"she\",\"up\",\"one\",\"out\",\"him\",\"from\",\"have\",\"not\",\"there\",\"were\",\"about\",\"just\",\"them\",\"so\",\"would\",\"into\",\"been\",\"an\",\"her\",\"do\",\"zaphod\",\"if\",\"no\",\"very\",\"by\",\"like\",\"or\",\"we\",\"are\",\"again\",\"then\",\"me\",\"know\",\"now\",\"time\",\"down\",\"its\",\"could\",\"some\",\"their\",\"see\",\"well\",\"through\",\"back\",\"who\",\"it's\",\"over\",\"way\",\"when\",\"something\",\"don't\",\"other\",\"little\",\"think\",\"looked\",\"where\",\"going\",\"get\",\"your\",\"thought\",\"off\",\"more\",\"can\",\"yes\",\"only\",\"because\",\"two\",\"didn't\",\"did\",\"moment\",\"got\",\"my\",\"how\",\"man\",\"thing\",\"good\",\"any\",\"people\",\"ship\",\"here\",\"around\",\"go\",\"say\",\"seemed\",\"himself\",\"i'm\",\"away\",\"things\",\"suddenly\",\"will\",\"right\",\"planet\",\"look\",\"universe\",\"much\",\"small\",\"being\",\"come\",\"round\",\"after\",\"most\",\"oh\",\"life\",\"head\",\"trillian\",\"want\",\"anything\",\"why\",\"still\",\"even\",\"voice\",\"than\",\"light\",\"before\",\"another\",\"made\",\"first\",\"galaxy\",\"eyes\",\"nothing\",\"old\",\"that's\",\"fact\",\"few\",\"wasn't\",\"turned\",\"quite\",\"went\",\"last\",\"mind\",\"long\",\"tell\",\"make\",\"rather\",\"point\",\"marvin\",\"really\",\"too\",\"never\",\"came\",\"great\",\"bit\",\"computer\",\"years\",\"sort\",\"has\",\"ever\",\"left\",\"air\",\"guide\",\"trying\",\"find\",\"mean\",\"take\",\"space\",\"put\",\"earth\",\"slowly\",\"every\",\"chapter\",\"fie\",\"doing\",\"these\",\"looking\",\"end\",\"knew\",\"own\",\"though\",\"whole\",\"new\"],\"x\":[-0.17322555,-2.7902784,-0.28529534,0.4154768,0.17001441,0.5080385,0.7391205,0.23700668,-0.029928606,0.3375498,1.2979795,0.8788276,0.9348361,0.23397312,0.39046082,0.03982836,0.29584616,0.21683207,0.36741835,0.16518736,0.19275443,1.0024683,0.37062275,0.7088643,0.36202598,1.0600799,0.40272364,-0.04697324,-0.25562698,0.33656806,0.7916734,0.34059608,0.05507186,0.045763332,0.42206573,-0.16207851,0.536384,0.43382743,0.2688718,-0.38787436,0.2497687,0.53636956,0.090493076,0.49714434,0.45562798,-0.14313252,0.11487282,0.062525116,0.3262348,0.6968843,1.2900786,0.50666004,0.6495551,0.29521057,-0.09808272,0.2784139,0.07905129,0.799998,0.050528646,0.7184028,0.4659245,0.95356345,0.8746706,0.24077384,0.06570677,0.1296594,-0.5359853,0.40253475,-0.23222704,-0.8015174,0.8002369,0.86439776,-0.28908476,0.20203349,0.50347906,0.95561785,-0.1622698,-0.18569727,0.42740154,0.37628657,1.1700726,-0.41547707,0.26942876,0.92645425,0.66173065,0.17456155,0.44943637,0.5868567,-0.03996971,0.6809334,0.28950825,-0.06836423,0.8697503,1.6295074,0.294208,0.30985513,-0.945309,0.632429,1.0180595,0.37049764,0.71517307,1.166795,0.6567552,1.3463758,0.38240254,0.60407436,0.075953126,-0.85223144,-0.027149038,0.35402697,-0.51221895,0.9440397,0.7557641,-0.14670175,0.70388615,1.2765852,-0.4290415,-0.30275565,0.7154715,0.7733234,0.851009,-1.2376666,1.1201464,-0.43330353,0.5406697,-0.6545109,-0.5436756,0.9603891,-0.0013413345,0.17148186,-0.55110675,1.5819974,-0.38391456,0.7466314,1.4522309,1.1043748,0.64000183,1.3560265,0.762503,0.52453995,2.3759267,-0.56107944,-1.5843033,0.0119512165,0.09286352,-0.40347472,-0.7589006,-0.93029475,0.19071631,0.6729956,2.1067293,1.5094547,0.091014184,1.3929641,0.252127,0.012809889,0.3867246,0.039261285,2.4399905,-0.34010234,-1.5375081,1.000427,0.027800985,0.48107135,0.5553101,2.371009,0.90707654,2.362774,0.84434474,-0.6794726,-1.5017338,1.467017,3.3094108,-2.3728788,1.3408147,0.036503166,0.12203918,-0.1346578,-1.0001979,1.5101936,-0.12719075,0.8684406,1.3264773,1.1391397,-1.0192889,0.6269911,0.29952073,-0.28403533,-2.0603368,3.182324,1.2013608,1.3529687,0.120624796,0.66912746,-1.3951783,0.29959443,-0.80787385,1.3916227,-1.3952363,-2.8072538],\"xaxis\":\"x\",\"y\":[-3.4886358,0.10577476,0.06455591,-0.24965128,0.16233575,-0.10147671,0.037249677,0.07788635,0.29707763,-0.42602882,-0.50125784,-0.88345826,-0.64391965,-0.0021555107,0.90561086,0.36188146,0.46053126,0.29798925,-0.32632875,-0.11000333,-0.16764686,0.175107,-0.71208584,-0.5808826,0.112790614,0.3103165,-0.11202198,-0.34167904,0.0378498,-0.51299405,0.1416631,0.57709247,-0.039681807,0.5009484,0.5169501,0.3365184,-0.68615586,-0.49007183,-0.11589214,-0.03139624,-0.27981153,-0.3157804,0.283928,-0.38116717,-0.49940434,0.882105,-0.16628529,0.120978475,0.8903973,-0.8574338,0.17214441,-0.34107587,-0.4536323,-0.03835246,0.20006946,-0.17471503,-0.28371057,-0.86279684,-0.6708876,0.8657078,0.47714835,-0.56029797,-0.96783924,-0.10845676,-0.28074896,0.9039895,1.0120196,-0.26751086,-0.098862566,-0.1873628,-0.37896758,-0.5050166,0.82699335,0.9892075,-0.20071663,-0.735517,0.7001254,0.17526223,-0.21768007,-0.17649429,-1.2529558,0.019927574,0.48623067,-0.89431715,1.4957532,-0.25148073,-0.5844115,-0.53580195,-0.8714674,-0.16367896,0.9930376,-0.089008436,-1.0862373,-0.8405265,-0.18080877,-0.39213812,1.0273166,-0.6661811,-0.49953833,0.385768,-0.32611114,-0.26644555,-0.93944466,0.23487845,-0.31716475,-0.26474917,-0.58911175,-0.874445,0.19594336,-0.53009355,0.7338908,-0.90371686,-0.7923685,0.2558228,0.8543844,-0.84047323,1.4639717,-0.6606527,0.68608046,-1.9203217,-0.33432698,-0.33615774,-0.20512988,-1.1295656,-0.6308993,1.117637,-1.087218,-0.6301463,2.0315952,0.2807962,-0.43366298,-0.888862,-0.5930267,1.2172679,0.17468543,-1.1836482,-0.5429478,-0.6380874,0.39781424,-0.43504485,0.61214143,-1.2265133,0.66563475,0.08420345,0.80731446,-0.05890096,-1.5122358,-0.4359997,1.6788521,-0.26427394,0.31470516,-1.2800485,-0.34512562,3.561403,-0.08541397,2.558281,-0.120633885,2.010584,-0.15279822,-0.43522447,0.15799522,-1.0823672,-0.9470046,0.41301522,-0.32921752,-0.22660205,-0.7278143,-1.8770096,-0.6045833,2.2761667,-0.9228708,0.094763145,0.5893853,-1.4198897,-2.3910832,-0.13595825,-1.9373708,0.53450096,1.5268791,3.5274148,-1.7647802,-1.7773756,-0.99304533,-2.0184016,-0.2510558,0.8172419,-0.36143458,1.8649123,-1.1637688,1.7859057,0.4594088,-0.31941727,-3.162603,2.0627074,0.23674649,-0.1940522,2.1513872,-2.3041356,-0.8976149,-2.2534523],\"yaxis\":\"y\",\"type\":\"scatter\"}],                        {\"template\":{\"data\":{\"histogram2dcontour\":[{\"type\":\"histogram2dcontour\",\"colorbar\":{\"outlinewidth\":0,\"ticks\":\"\"},\"colorscale\":[[0.0,\"#0d0887\"],[0.1111111111111111,\"#46039f\"],[0.2222222222222222,\"#7201a8\"],[0.3333333333333333,\"#9c179e\"],[0.4444444444444444,\"#bd3786\"],[0.5555555555555556,\"#d8576b\"],[0.6666666666666666,\"#ed7953\"],[0.7777777777777778,\"#fb9f3a\"],[0.8888888888888888,\"#fdca26\"],[1.0,\"#f0f921\"]]}],\"choropleth\":[{\"type\":\"choropleth\",\"colorbar\":{\"outlinewidth\":0,\"ticks\":\"\"}}],\"histogram2d\":[{\"type\":\"histogram2d\",\"colorbar\":{\"outlinewidth\":0,\"ticks\":\"\"},\"colorscale\":[[0.0,\"#0d0887\"],[0.1111111111111111,\"#46039f\"],[0.2222222222222222,\"#7201a8\"],[0.3333333333333333,\"#9c179e\"],[0.4444444444444444,\"#bd3786\"],[0.5555555555555556,\"#d8576b\"],[0.6666666666666666,\"#ed7953\"],[0.7777777777777778,\"#fb9f3a\"],[0.8888888888888888,\"#fdca26\"],[1.0,\"#f0f921\"]]}],\"heatmap\":[{\"type\":\"heatmap\",\"colorbar\":{\"outlinewidth\":0,\"ticks\":\"\"},\"colorscale\":[[0.0,\"#0d0887\"],[0.1111111111111111,\"#46039f\"],[0.2222222222222222,\"#7201a8\"],[0.3333333333333333,\"#9c179e\"],[0.4444444444444444,\"#bd3786\"],[0.5555555555555556,\"#d8576b\"],[0.6666666666666666,\"#ed7953\"],[0.7777777777777778,\"#fb9f3a\"],[0.8888888888888888,\"#fdca26\"],[1.0,\"#f0f921\"]]}],\"heatmapgl\":[{\"type\":\"heatmapgl\",\"colorbar\":{\"outlinewidth\":0,\"ticks\":\"\"},\"colorscale\":[[0.0,\"#0d0887\"],[0.1111111111111111,\"#46039f\"],[0.2222222222222222,\"#7201a8\"],[0.3333333333333333,\"#9c179e\"],[0.4444444444444444,\"#bd3786\"],[0.5555555555555556,\"#d8576b\"],[0.6666666666666666,\"#ed7953\"],[0.7777777777777778,\"#fb9f3a\"],[0.8888888888888888,\"#fdca26\"],[1.0,\"#f0f921\"]]}],\"contourcarpet\":[{\"type\":\"contourcarpet\",\"colorbar\":{\"outlinewidth\":0,\"ticks\":\"\"}}],\"contour\":[{\"type\":\"contour\",\"colorbar\":{\"outlinewidth\":0,\"ticks\":\"\"},\"colorscale\":[[0.0,\"#0d0887\"],[0.1111111111111111,\"#46039f\"],[0.2222222222222222,\"#7201a8\"],[0.3333333333333333,\"#9c179e\"],[0.4444444444444444,\"#bd3786\"],[0.5555555555555556,\"#d8576b\"],[0.6666666666666666,\"#ed7953\"],[0.7777777777777778,\"#fb9f3a\"],[0.8888888888888888,\"#fdca26\"],[1.0,\"#f0f921\"]]}],\"surface\":[{\"type\":\"surface\",\"colorbar\":{\"outlinewidth\":0,\"ticks\":\"\"},\"colorscale\":[[0.0,\"#0d0887\"],[0.1111111111111111,\"#46039f\"],[0.2222222222222222,\"#7201a8\"],[0.3333333333333333,\"#9c179e\"],[0.4444444444444444,\"#bd3786\"],[0.5555555555555556,\"#d8576b\"],[0.6666666666666666,\"#ed7953\"],[0.7777777777777778,\"#fb9f3a\"],[0.8888888888888888,\"#fdca26\"],[1.0,\"#f0f921\"]]}],\"mesh3d\":[{\"type\":\"mesh3d\",\"colorbar\":{\"outlinewidth\":0,\"ticks\":\"\"}}],\"scatter\":[{\"fillpattern\":{\"fillmode\":\"overlay\",\"size\":10,\"solidity\":0.2},\"type\":\"scatter\"}],\"parcoords\":[{\"type\":\"parcoords\",\"line\":{\"colorbar\":{\"outlinewidth\":0,\"ticks\":\"\"}}}],\"scatterpolargl\":[{\"type\":\"scatterpolargl\",\"marker\":{\"colorbar\":{\"outlinewidth\":0,\"ticks\":\"\"}}}],\"bar\":[{\"error_x\":{\"color\":\"#2a3f5f\"},\"error_y\":{\"color\":\"#2a3f5f\"},\"marker\":{\"line\":{\"color\":\"#E5ECF6\",\"width\":0.5},\"pattern\":{\"fillmode\":\"overlay\",\"size\":10,\"solidity\":0.2}},\"type\":\"bar\"}],\"scattergeo\":[{\"type\":\"scattergeo\",\"marker\":{\"colorbar\":{\"outlinewidth\":0,\"ticks\":\"\"}}}],\"scatterpolar\":[{\"type\":\"scatterpolar\",\"marker\":{\"colorbar\":{\"outlinewidth\":0,\"ticks\":\"\"}}}],\"histogram\":[{\"marker\":{\"pattern\":{\"fillmode\":\"overlay\",\"size\":10,\"solidity\":0.2}},\"type\":\"histogram\"}],\"scattergl\":[{\"type\":\"scattergl\",\"marker\":{\"colorbar\":{\"outlinewidth\":0,\"ticks\":\"\"}}}],\"scatter3d\":[{\"type\":\"scatter3d\",\"line\":{\"colorbar\":{\"outlinewidth\":0,\"ticks\":\"\"}},\"marker\":{\"colorbar\":{\"outlinewidth\":0,\"ticks\":\"\"}}}],\"scattermapbox\":[{\"type\":\"scattermapbox\",\"marker\":{\"colorbar\":{\"outlinewidth\":0,\"ticks\":\"\"}}}],\"scatterternary\":[{\"type\":\"scatterternary\",\"marker\":{\"colorbar\":{\"outlinewidth\":0,\"ticks\":\"\"}}}],\"scattercarpet\":[{\"type\":\"scattercarpet\",\"marker\":{\"colorbar\":{\"outlinewidth\":0,\"ticks\":\"\"}}}],\"carpet\":[{\"aaxis\":{\"endlinecolor\":\"#2a3f5f\",\"gridcolor\":\"white\",\"linecolor\":\"white\",\"minorgridcolor\":\"white\",\"startlinecolor\":\"#2a3f5f\"},\"baxis\":{\"endlinecolor\":\"#2a3f5f\",\"gridcolor\":\"white\",\"linecolor\":\"white\",\"minorgridcolor\":\"white\",\"startlinecolor\":\"#2a3f5f\"},\"type\":\"carpet\"}],\"table\":[{\"cells\":{\"fill\":{\"color\":\"#EBF0F8\"},\"line\":{\"color\":\"white\"}},\"header\":{\"fill\":{\"color\":\"#C8D4E3\"},\"line\":{\"color\":\"white\"}},\"type\":\"table\"}],\"barpolar\":[{\"marker\":{\"line\":{\"color\":\"#E5ECF6\",\"width\":0.5},\"pattern\":{\"fillmode\":\"overlay\",\"size\":10,\"solidity\":0.2}},\"type\":\"barpolar\"}],\"pie\":[{\"automargin\":true,\"type\":\"pie\"}]},\"layout\":{\"autotypenumbers\":\"strict\",\"colorway\":[\"#636efa\",\"#EF553B\",\"#00cc96\",\"#ab63fa\",\"#FFA15A\",\"#19d3f3\",\"#FF6692\",\"#B6E880\",\"#FF97FF\",\"#FECB52\"],\"font\":{\"color\":\"#2a3f5f\"},\"hovermode\":\"closest\",\"hoverlabel\":{\"align\":\"left\"},\"paper_bgcolor\":\"white\",\"plot_bgcolor\":\"#E5ECF6\",\"polar\":{\"bgcolor\":\"#E5ECF6\",\"angularaxis\":{\"gridcolor\":\"white\",\"linecolor\":\"white\",\"ticks\":\"\"},\"radialaxis\":{\"gridcolor\":\"white\",\"linecolor\":\"white\",\"ticks\":\"\"}},\"ternary\":{\"bgcolor\":\"#E5ECF6\",\"aaxis\":{\"gridcolor\":\"white\",\"linecolor\":\"white\",\"ticks\":\"\"},\"baxis\":{\"gridcolor\":\"white\",\"linecolor\":\"white\",\"ticks\":\"\"},\"caxis\":{\"gridcolor\":\"white\",\"linecolor\":\"white\",\"ticks\":\"\"}},\"coloraxis\":{\"colorbar\":{\"outlinewidth\":0,\"ticks\":\"\"}},\"colorscale\":{\"sequential\":[[0.0,\"#0d0887\"],[0.1111111111111111,\"#46039f\"],[0.2222222222222222,\"#7201a8\"],[0.3333333333333333,\"#9c179e\"],[0.4444444444444444,\"#bd3786\"],[0.5555555555555556,\"#d8576b\"],[0.6666666666666666,\"#ed7953\"],[0.7777777777777778,\"#fb9f3a\"],[0.8888888888888888,\"#fdca26\"],[1.0,\"#f0f921\"]],\"sequentialminus\":[[0.0,\"#0d0887\"],[0.1111111111111111,\"#46039f\"],[0.2222222222222222,\"#7201a8\"],[0.3333333333333333,\"#9c179e\"],[0.4444444444444444,\"#bd3786\"],[0.5555555555555556,\"#d8576b\"],[0.6666666666666666,\"#ed7953\"],[0.7777777777777778,\"#fb9f3a\"],[0.8888888888888888,\"#fdca26\"],[1.0,\"#f0f921\"]],\"diverging\":[[0,\"#8e0152\"],[0.1,\"#c51b7d\"],[0.2,\"#de77ae\"],[0.3,\"#f1b6da\"],[0.4,\"#fde0ef\"],[0.5,\"#f7f7f7\"],[0.6,\"#e6f5d0\"],[0.7,\"#b8e186\"],[0.8,\"#7fbc41\"],[0.9,\"#4d9221\"],[1,\"#276419\"]]},\"xaxis\":{\"gridcolor\":\"white\",\"linecolor\":\"white\",\"ticks\":\"\",\"title\":{\"standoff\":15},\"zerolinecolor\":\"white\",\"automargin\":true,\"zerolinewidth\":2},\"yaxis\":{\"gridcolor\":\"white\",\"linecolor\":\"white\",\"ticks\":\"\",\"title\":{\"standoff\":15},\"zerolinecolor\":\"white\",\"automargin\":true,\"zerolinewidth\":2},\"scene\":{\"xaxis\":{\"backgroundcolor\":\"#E5ECF6\",\"gridcolor\":\"white\",\"linecolor\":\"white\",\"showbackground\":true,\"ticks\":\"\",\"zerolinecolor\":\"white\",\"gridwidth\":2},\"yaxis\":{\"backgroundcolor\":\"#E5ECF6\",\"gridcolor\":\"white\",\"linecolor\":\"white\",\"showbackground\":true,\"ticks\":\"\",\"zerolinecolor\":\"white\",\"gridwidth\":2},\"zaxis\":{\"backgroundcolor\":\"#E5ECF6\",\"gridcolor\":\"white\",\"linecolor\":\"white\",\"showbackground\":true,\"ticks\":\"\",\"zerolinecolor\":\"white\",\"gridwidth\":2}},\"shapedefaults\":{\"line\":{\"color\":\"#2a3f5f\"}},\"annotationdefaults\":{\"arrowcolor\":\"#2a3f5f\",\"arrowhead\":0,\"arrowwidth\":1},\"geo\":{\"bgcolor\":\"white\",\"landcolor\":\"#E5ECF6\",\"subunitcolor\":\"white\",\"showland\":true,\"showlakes\":true,\"lakecolor\":\"white\"},\"title\":{\"x\":0.05},\"mapbox\":{\"style\":\"light\"}}},\"xaxis\":{\"anchor\":\"y\",\"domain\":[0.0,1.0],\"title\":{\"text\":\"x\"}},\"yaxis\":{\"anchor\":\"x\",\"domain\":[0.0,1.0],\"title\":{\"text\":\"y\"}},\"legend\":{\"tracegroupgap\":0},\"margin\":{\"t\":60}},                        {\"responsive\": true}                    ).then(function(){\n",
       "                            \n",
       "var gd = document.getElementById('7bb3f784-36bd-44c5-9fb3-835bf0cc48bc');\n",
       "var x = new MutationObserver(function (mutations, observer) {{\n",
       "        var display = window.getComputedStyle(gd).display;\n",
       "        if (!display || display === 'none') {{\n",
       "            console.log([gd, 'removed!']);\n",
       "            Plotly.purge(gd);\n",
       "            observer.disconnect();\n",
       "        }}\n",
       "}});\n",
       "\n",
       "// Listen for the removal of the full notebook cells\n",
       "var notebookContainer = gd.closest('#notebook-container');\n",
       "if (notebookContainer) {{\n",
       "    x.observe(notebookContainer, {childList: true});\n",
       "}}\n",
       "\n",
       "// Listen for the clearing of the current output cell\n",
       "var outputEl = gd.closest('.output');\n",
       "if (outputEl) {{\n",
       "    x.observe(outputEl, {childList: true});\n",
       "}}\n",
       "\n",
       "                        })                };                });            </script>        </div>"
      ]
     },
     "metadata": {},
     "output_type": "display_data"
    }
   ],
   "source": [
    "x_vals, y_vals, labels = reduce_dimensions(skipgram_model)\n",
    "\n",
    "MAX_WORDS = 200\n",
    "fig = px.scatter(x=x_vals[:MAX_WORDS], y=y_vals[:MAX_WORDS], text=labels[:MAX_WORDS])\n",
    "fig.show()"
   ]
  },
  {
   "cell_type": "markdown",
   "metadata": {},
   "source": [
    "<img src=\"./plots/skipgram.png\" width=\"900\" align=\"center\">"
   ]
  },
  {
   "cell_type": "markdown",
   "metadata": {},
   "source": [
    "Zoom\n",
    "\n",
    "<img src=\"./plots/skipgram-zoom.png\" width=\"900\" align=\"center\">"
   ]
  },
  {
   "cell_type": "markdown",
   "metadata": {},
   "source": [
    "Es dificil encontrar palabras relacionadas, parecen estar todas muy juntas, pero se pueden ver algunas agrupaciones con palabras que guardan cierto sentido. Como por ejemplo en el rango x=[0, 1] y y=[1, 2] palabras como eyes, looking, looked, head que tienen cierta relación. También podemos ver en el rango de x=[-1.5, -0.5] y y=[-1, 0] se encuentran agrupadas palabras como planet, space, y galaxy.\n",
    "\n",
    "Para el modelo que utiliza CBOW"
   ]
  },
  {
   "cell_type": "code",
   "execution_count": 36,
   "metadata": {},
   "outputs": [
    {
     "data": {
      "application/vnd.plotly.v1+json": {
       "config": {
        "plotlyServerURL": "https://plot.ly"
       },
       "data": [
        {
         "hovertemplate": "x=%{x}<br>y=%{y}<br>text=%{text}<extra></extra>",
         "legendgroup": "",
         "marker": {
          "color": "#636efa",
          "symbol": "circle"
         },
         "mode": "markers+text",
         "name": "",
         "orientation": "v",
         "showlegend": false,
         "text": [
          "the",
          "and",
          "of",
          "to",
          "a",
          "it",
          "he",
          "was",
          "in",
          "that",
          "said",
          "you",
          "i",
          "had",
          "his",
          "on",
          "at",
          "with",
          "this",
          "for",
          "they",
          "arthur",
          "is",
          "what",
          "as",
          "ford",
          "but",
          "all",
          "which",
          "be",
          "she",
          "up",
          "one",
          "out",
          "him",
          "from",
          "have",
          "not",
          "there",
          "were",
          "about",
          "just",
          "them",
          "so",
          "would",
          "into",
          "been",
          "an",
          "her",
          "do",
          "zaphod",
          "if",
          "no",
          "very",
          "by",
          "like",
          "or",
          "we",
          "are",
          "again",
          "then",
          "me",
          "know",
          "now",
          "time",
          "down",
          "its",
          "could",
          "some",
          "their",
          "see",
          "well",
          "through",
          "back",
          "who",
          "it's",
          "over",
          "way",
          "when",
          "something",
          "don't",
          "other",
          "little",
          "think",
          "looked",
          "where",
          "going",
          "get",
          "your",
          "thought",
          "off",
          "more",
          "can",
          "yes",
          "only",
          "because",
          "two",
          "didn't",
          "did",
          "moment",
          "got",
          "my",
          "how",
          "man",
          "thing",
          "good",
          "any",
          "people",
          "ship",
          "here",
          "around",
          "go",
          "say",
          "seemed",
          "himself",
          "i'm",
          "away",
          "things",
          "suddenly",
          "will",
          "right",
          "planet",
          "look",
          "universe",
          "much",
          "small",
          "being",
          "come",
          "round",
          "after",
          "most",
          "oh",
          "life",
          "head",
          "trillian",
          "want",
          "anything",
          "why",
          "still",
          "even",
          "voice",
          "than",
          "light",
          "before",
          "another",
          "made",
          "first",
          "galaxy",
          "eyes",
          "nothing",
          "old",
          "that's",
          "fact",
          "few",
          "wasn't",
          "turned",
          "quite",
          "went",
          "last",
          "mind",
          "long",
          "tell",
          "make",
          "rather",
          "point",
          "marvin",
          "really",
          "too",
          "never",
          "came",
          "great",
          "bit",
          "computer",
          "years",
          "sort",
          "has",
          "ever",
          "left",
          "air",
          "guide",
          "trying",
          "find",
          "mean",
          "take",
          "space",
          "put",
          "earth",
          "slowly",
          "every",
          "chapter",
          "fie",
          "doing",
          "these",
          "looking",
          "end",
          "knew",
          "own",
          "though",
          "whole",
          "new"
         ],
         "type": "scatter",
         "x": [
          -1.6090491,
          -0.97387785,
          -1.7121465,
          3.04439,
          -1.7753475,
          0.5472811,
          1.2690773,
          4.0545783,
          -1.4843978,
          0.68826914,
          2.4040043,
          2.9825575,
          2.8968234,
          4.543048,
          -5.3701463,
          -1.6571323,
          -2.137529,
          -0.6244112,
          0.5311072,
          -0.39000922,
          1.4849256,
          1.5075806,
          3.99269,
          1.3753438,
          1.3896093,
          1.5891391,
          0.8482597,
          -0.20460565,
          -2.1141784,
          1.1956897,
          1.4823401,
          -1.3579186,
          -0.90813535,
          -1.7645772,
          1.9045335,
          -1.9294814,
          1.2101607,
          0.9837331,
          0.7643196,
          4.2309046,
          1.7966018,
          1.5109031,
          1.9106259,
          1.3038371,
          3.495928,
          -2.0646236,
          -3.6794877,
          -2.2540843,
          -5.412687,
          2.8496125,
          1.6082484,
          1.1853355,
          0.7174364,
          0.8746005,
          -2.1552463,
          1.9957778,
          0.5358299,
          2.9590192,
          4.2650213,
          -0.75823593,
          -0.7991967,
          2.9439619,
          2.9496758,
          0.55908805,
          -1.4355559,
          -1.5568945,
          -5.197964,
          3.6487644,
          -2.2709413,
          -2.1788502,
          2.9708154,
          1.9094801,
          -2.0949905,
          -1.1373073,
          1.147885,
          4.020212,
          -1.5277717,
          -3.2671883,
          1.1374763,
          1.27503,
          3.6889517,
          -1.9545345,
          -0.63206965,
          2.8484662,
          2.1512463,
          1.205151,
          2.1470525,
          3.0255764,
          -5.6822596,
          2.6767492,
          -1.6239576,
          0.7284014,
          3.69335,
          1.9131998,
          0.38684276,
          0.879415,
          -3.2482455,
          3.6763544,
          3.59478,
          1.7897184,
          2.185914,
          -5.710946,
          1.5463808,
          1.5363508,
          0.49184248,
          0.6193416,
          -1.1892365,
          -2.9279974,
          -1.8866801,
          2.518527,
          -2.3851042,
          2.8259728,
          2.9259076,
          4.145584,
          2.0068448,
          4.1119895,
          -1.1643618,
          0.78526384,
          -2.732931,
          3.5402498,
          -2.7674932,
          -1.4411856,
          1.9676682,
          -1.4547627,
          0.8590758,
          -2.0216203,
          -2.382033,
          2.758383,
          -2.7719963,
          -0.45085633,
          -1.3570431,
          2.3601182,
          -1.3589524,
          -0.59171873,
          1.1821136,
          2.4481354,
          1.1918483,
          1.753885,
          -4.2216897,
          1.1687351,
          -0.8822697,
          -2.2665746,
          -2.2669768,
          0.2621376,
          -2.204631,
          -4.8364816,
          -1.9525181,
          -2.3614173,
          -0.6798005,
          1.0309688,
          2.317077,
          3.856359,
          -0.46581444,
          3.265146,
          4.1699376,
          0.8041719,
          0.7384844,
          1.4310273,
          -4.586585,
          -0.81914866,
          -2.505866,
          3.114906,
          1.6741192,
          -3.7112231,
          -0.2993282,
          1.6146775,
          1.1301882,
          1.2865958,
          0.9614645,
          1.345352,
          2.8995662,
          0.7341544,
          2.8446128,
          -5.13539,
          -0.29847258,
          4.6337566,
          0.76948905,
          2.1648023,
          -1.8645339,
          -1.0004008,
          1.852177,
          3.0961938,
          2.5672128,
          3.12459,
          -3.0458333,
          1.9612912,
          -0.10711177,
          -1.157339,
          -2.2391138,
          -0.54738116,
          1.5224527,
          1.3227232,
          -3.0394664,
          2.158863,
          -2.5754921,
          4.15472,
          -0.89596546,
          0.7654787,
          -2.1628191,
          -0.32457817
         ],
         "xaxis": "x",
         "y": [
          0.7780401,
          0.8506458,
          0.34759992,
          -3.0978186,
          0.5668943,
          -1.7166041,
          -2.1094148,
          -2.168596,
          0.25165543,
          -2.2176557,
          -0.11871334,
          -3.3136659,
          -3.2940512,
          -2.4984837,
          2.6988058,
          0.6820705,
          0.18626486,
          0.640164,
          -2.0378416,
          -3.4572728,
          -2.5791702,
          -2.0298107,
          -2.1840858,
          -2.96206,
          -2.8557782,
          -2.0338073,
          -2.3682728,
          -1.7907165,
          0.5994443,
          -2.6053312,
          -2.353854,
          1.1890674,
          -1.2481717,
          0.847693,
          -2.9582791,
          0.61059004,
          -2.5757766,
          -2.4964507,
          -2.5355947,
          -2.151558,
          -2.826676,
          -2.3452673,
          -3.0026705,
          -2.9569826,
          -3.392018,
          0.55367976,
          -1.8770983,
          0.66201526,
          2.7235703,
          -1.1334196,
          -2.2122536,
          -2.6315992,
          -2.0590367,
          -3.165331,
          0.26436034,
          -2.0895336,
          -2.7011125,
          -3.3766718,
          -2.1522155,
          1.43179,
          1.3357671,
          -3.3364751,
          -1.0401772,
          -2.50924,
          -2.3392417,
          1.1446265,
          2.6140065,
          -3.322216,
          0.69487154,
          1.0397147,
          -1.0437366,
          -1.927715,
          0.6727148,
          1.6201255,
          -2.7298324,
          -2.158498,
          0.89455885,
          -0.34477043,
          -3.2635028,
          -2.882959,
          -3.4799516,
          0.99572694,
          1.0654948,
          -1.0436269,
          2.315458,
          -3.0706763,
          -3.777748,
          -0.5046878,
          2.6104224,
          -0.7672253,
          1.1336501,
          -3.6393385,
          -3.4206884,
          -0.634755,
          -2.2279837,
          -2.585588,
          1.0272435,
          -3.428397,
          -2.9867592,
          1.2643169,
          -0.0684105,
          2.6264622,
          -3.1891463,
          -1.8265817,
          -2.1910124,
          -2.6599312,
          -0.8711268,
          0.24763373,
          4.046465,
          -2.486847,
          1.1437318,
          -0.29758292,
          -1.0579072,
          -2.1696823,
          -2.7259927,
          -2.2119765,
          0.95844984,
          -2.9628358,
          -4.459628,
          -3.3687768,
          -3.5850267,
          -2.4577734,
          0.47330785,
          -1.3502082,
          -2.2599778,
          0.9837521,
          0.21068098,
          -0.23128766,
          1.2036773,
          -3.7303,
          -0.81192493,
          -0.41413832,
          -2.873769,
          3.0314121,
          -0.52132225,
          -0.7036477,
          -2.786893,
          -3.216161,
          -2.4333355,
          -2.859384,
          -3.8464422,
          -0.6957474,
          1.4993203,
          -3.805897,
          0.7016028,
          -1.0966318,
          -3.2044237,
          0.035099052,
          2.7509372,
          -2.559804,
          -1.9271663,
          -2.0033545,
          -1.9070305,
          2.2400959,
          -2.2081034,
          3.3639123,
          -2.4799147,
          2.8843753,
          3.3317208,
          3.4766161,
          -0.14510897,
          -1.0832832,
          -2.658365,
          -0.31183487,
          -1.961809,
          -1.4872812,
          -2.574798,
          -3.146039,
          -2.5730863,
          4.2358246,
          1.4989511,
          -0.12911817,
          1.9240254,
          1.5467769,
          -0.022777893,
          -2.5303693,
          -2.3659246,
          2.7252152,
          2.5307736,
          -0.8697455,
          -3.9045248,
          -0.84840584,
          -0.79774284,
          -0.27963507,
          2.8416774,
          2.5629857,
          -2.503607,
          2.5822587,
          0.6375677,
          -0.68543655,
          -2.3769794,
          -0.33069956,
          -1.1918479,
          2.0081544,
          -1.6423246,
          -2.1520665,
          2.1910865,
          -2.5055795,
          0.59418213,
          -4.288178
         ],
         "yaxis": "y"
        }
       ],
       "layout": {
        "legend": {
         "tracegroupgap": 0
        },
        "margin": {
         "t": 60
        },
        "template": {
         "data": {
          "bar": [
           {
            "error_x": {
             "color": "#2a3f5f"
            },
            "error_y": {
             "color": "#2a3f5f"
            },
            "marker": {
             "line": {
              "color": "#E5ECF6",
              "width": 0.5
             },
             "pattern": {
              "fillmode": "overlay",
              "size": 10,
              "solidity": 0.2
             }
            },
            "type": "bar"
           }
          ],
          "barpolar": [
           {
            "marker": {
             "line": {
              "color": "#E5ECF6",
              "width": 0.5
             },
             "pattern": {
              "fillmode": "overlay",
              "size": 10,
              "solidity": 0.2
             }
            },
            "type": "barpolar"
           }
          ],
          "carpet": [
           {
            "aaxis": {
             "endlinecolor": "#2a3f5f",
             "gridcolor": "white",
             "linecolor": "white",
             "minorgridcolor": "white",
             "startlinecolor": "#2a3f5f"
            },
            "baxis": {
             "endlinecolor": "#2a3f5f",
             "gridcolor": "white",
             "linecolor": "white",
             "minorgridcolor": "white",
             "startlinecolor": "#2a3f5f"
            },
            "type": "carpet"
           }
          ],
          "choropleth": [
           {
            "colorbar": {
             "outlinewidth": 0,
             "ticks": ""
            },
            "type": "choropleth"
           }
          ],
          "contour": [
           {
            "colorbar": {
             "outlinewidth": 0,
             "ticks": ""
            },
            "colorscale": [
             [
              0,
              "#0d0887"
             ],
             [
              0.1111111111111111,
              "#46039f"
             ],
             [
              0.2222222222222222,
              "#7201a8"
             ],
             [
              0.3333333333333333,
              "#9c179e"
             ],
             [
              0.4444444444444444,
              "#bd3786"
             ],
             [
              0.5555555555555556,
              "#d8576b"
             ],
             [
              0.6666666666666666,
              "#ed7953"
             ],
             [
              0.7777777777777778,
              "#fb9f3a"
             ],
             [
              0.8888888888888888,
              "#fdca26"
             ],
             [
              1,
              "#f0f921"
             ]
            ],
            "type": "contour"
           }
          ],
          "contourcarpet": [
           {
            "colorbar": {
             "outlinewidth": 0,
             "ticks": ""
            },
            "type": "contourcarpet"
           }
          ],
          "heatmap": [
           {
            "colorbar": {
             "outlinewidth": 0,
             "ticks": ""
            },
            "colorscale": [
             [
              0,
              "#0d0887"
             ],
             [
              0.1111111111111111,
              "#46039f"
             ],
             [
              0.2222222222222222,
              "#7201a8"
             ],
             [
              0.3333333333333333,
              "#9c179e"
             ],
             [
              0.4444444444444444,
              "#bd3786"
             ],
             [
              0.5555555555555556,
              "#d8576b"
             ],
             [
              0.6666666666666666,
              "#ed7953"
             ],
             [
              0.7777777777777778,
              "#fb9f3a"
             ],
             [
              0.8888888888888888,
              "#fdca26"
             ],
             [
              1,
              "#f0f921"
             ]
            ],
            "type": "heatmap"
           }
          ],
          "heatmapgl": [
           {
            "colorbar": {
             "outlinewidth": 0,
             "ticks": ""
            },
            "colorscale": [
             [
              0,
              "#0d0887"
             ],
             [
              0.1111111111111111,
              "#46039f"
             ],
             [
              0.2222222222222222,
              "#7201a8"
             ],
             [
              0.3333333333333333,
              "#9c179e"
             ],
             [
              0.4444444444444444,
              "#bd3786"
             ],
             [
              0.5555555555555556,
              "#d8576b"
             ],
             [
              0.6666666666666666,
              "#ed7953"
             ],
             [
              0.7777777777777778,
              "#fb9f3a"
             ],
             [
              0.8888888888888888,
              "#fdca26"
             ],
             [
              1,
              "#f0f921"
             ]
            ],
            "type": "heatmapgl"
           }
          ],
          "histogram": [
           {
            "marker": {
             "pattern": {
              "fillmode": "overlay",
              "size": 10,
              "solidity": 0.2
             }
            },
            "type": "histogram"
           }
          ],
          "histogram2d": [
           {
            "colorbar": {
             "outlinewidth": 0,
             "ticks": ""
            },
            "colorscale": [
             [
              0,
              "#0d0887"
             ],
             [
              0.1111111111111111,
              "#46039f"
             ],
             [
              0.2222222222222222,
              "#7201a8"
             ],
             [
              0.3333333333333333,
              "#9c179e"
             ],
             [
              0.4444444444444444,
              "#bd3786"
             ],
             [
              0.5555555555555556,
              "#d8576b"
             ],
             [
              0.6666666666666666,
              "#ed7953"
             ],
             [
              0.7777777777777778,
              "#fb9f3a"
             ],
             [
              0.8888888888888888,
              "#fdca26"
             ],
             [
              1,
              "#f0f921"
             ]
            ],
            "type": "histogram2d"
           }
          ],
          "histogram2dcontour": [
           {
            "colorbar": {
             "outlinewidth": 0,
             "ticks": ""
            },
            "colorscale": [
             [
              0,
              "#0d0887"
             ],
             [
              0.1111111111111111,
              "#46039f"
             ],
             [
              0.2222222222222222,
              "#7201a8"
             ],
             [
              0.3333333333333333,
              "#9c179e"
             ],
             [
              0.4444444444444444,
              "#bd3786"
             ],
             [
              0.5555555555555556,
              "#d8576b"
             ],
             [
              0.6666666666666666,
              "#ed7953"
             ],
             [
              0.7777777777777778,
              "#fb9f3a"
             ],
             [
              0.8888888888888888,
              "#fdca26"
             ],
             [
              1,
              "#f0f921"
             ]
            ],
            "type": "histogram2dcontour"
           }
          ],
          "mesh3d": [
           {
            "colorbar": {
             "outlinewidth": 0,
             "ticks": ""
            },
            "type": "mesh3d"
           }
          ],
          "parcoords": [
           {
            "line": {
             "colorbar": {
              "outlinewidth": 0,
              "ticks": ""
             }
            },
            "type": "parcoords"
           }
          ],
          "pie": [
           {
            "automargin": true,
            "type": "pie"
           }
          ],
          "scatter": [
           {
            "fillpattern": {
             "fillmode": "overlay",
             "size": 10,
             "solidity": 0.2
            },
            "type": "scatter"
           }
          ],
          "scatter3d": [
           {
            "line": {
             "colorbar": {
              "outlinewidth": 0,
              "ticks": ""
             }
            },
            "marker": {
             "colorbar": {
              "outlinewidth": 0,
              "ticks": ""
             }
            },
            "type": "scatter3d"
           }
          ],
          "scattercarpet": [
           {
            "marker": {
             "colorbar": {
              "outlinewidth": 0,
              "ticks": ""
             }
            },
            "type": "scattercarpet"
           }
          ],
          "scattergeo": [
           {
            "marker": {
             "colorbar": {
              "outlinewidth": 0,
              "ticks": ""
             }
            },
            "type": "scattergeo"
           }
          ],
          "scattergl": [
           {
            "marker": {
             "colorbar": {
              "outlinewidth": 0,
              "ticks": ""
             }
            },
            "type": "scattergl"
           }
          ],
          "scattermapbox": [
           {
            "marker": {
             "colorbar": {
              "outlinewidth": 0,
              "ticks": ""
             }
            },
            "type": "scattermapbox"
           }
          ],
          "scatterpolar": [
           {
            "marker": {
             "colorbar": {
              "outlinewidth": 0,
              "ticks": ""
             }
            },
            "type": "scatterpolar"
           }
          ],
          "scatterpolargl": [
           {
            "marker": {
             "colorbar": {
              "outlinewidth": 0,
              "ticks": ""
             }
            },
            "type": "scatterpolargl"
           }
          ],
          "scatterternary": [
           {
            "marker": {
             "colorbar": {
              "outlinewidth": 0,
              "ticks": ""
             }
            },
            "type": "scatterternary"
           }
          ],
          "surface": [
           {
            "colorbar": {
             "outlinewidth": 0,
             "ticks": ""
            },
            "colorscale": [
             [
              0,
              "#0d0887"
             ],
             [
              0.1111111111111111,
              "#46039f"
             ],
             [
              0.2222222222222222,
              "#7201a8"
             ],
             [
              0.3333333333333333,
              "#9c179e"
             ],
             [
              0.4444444444444444,
              "#bd3786"
             ],
             [
              0.5555555555555556,
              "#d8576b"
             ],
             [
              0.6666666666666666,
              "#ed7953"
             ],
             [
              0.7777777777777778,
              "#fb9f3a"
             ],
             [
              0.8888888888888888,
              "#fdca26"
             ],
             [
              1,
              "#f0f921"
             ]
            ],
            "type": "surface"
           }
          ],
          "table": [
           {
            "cells": {
             "fill": {
              "color": "#EBF0F8"
             },
             "line": {
              "color": "white"
             }
            },
            "header": {
             "fill": {
              "color": "#C8D4E3"
             },
             "line": {
              "color": "white"
             }
            },
            "type": "table"
           }
          ]
         },
         "layout": {
          "annotationdefaults": {
           "arrowcolor": "#2a3f5f",
           "arrowhead": 0,
           "arrowwidth": 1
          },
          "autotypenumbers": "strict",
          "coloraxis": {
           "colorbar": {
            "outlinewidth": 0,
            "ticks": ""
           }
          },
          "colorscale": {
           "diverging": [
            [
             0,
             "#8e0152"
            ],
            [
             0.1,
             "#c51b7d"
            ],
            [
             0.2,
             "#de77ae"
            ],
            [
             0.3,
             "#f1b6da"
            ],
            [
             0.4,
             "#fde0ef"
            ],
            [
             0.5,
             "#f7f7f7"
            ],
            [
             0.6,
             "#e6f5d0"
            ],
            [
             0.7,
             "#b8e186"
            ],
            [
             0.8,
             "#7fbc41"
            ],
            [
             0.9,
             "#4d9221"
            ],
            [
             1,
             "#276419"
            ]
           ],
           "sequential": [
            [
             0,
             "#0d0887"
            ],
            [
             0.1111111111111111,
             "#46039f"
            ],
            [
             0.2222222222222222,
             "#7201a8"
            ],
            [
             0.3333333333333333,
             "#9c179e"
            ],
            [
             0.4444444444444444,
             "#bd3786"
            ],
            [
             0.5555555555555556,
             "#d8576b"
            ],
            [
             0.6666666666666666,
             "#ed7953"
            ],
            [
             0.7777777777777778,
             "#fb9f3a"
            ],
            [
             0.8888888888888888,
             "#fdca26"
            ],
            [
             1,
             "#f0f921"
            ]
           ],
           "sequentialminus": [
            [
             0,
             "#0d0887"
            ],
            [
             0.1111111111111111,
             "#46039f"
            ],
            [
             0.2222222222222222,
             "#7201a8"
            ],
            [
             0.3333333333333333,
             "#9c179e"
            ],
            [
             0.4444444444444444,
             "#bd3786"
            ],
            [
             0.5555555555555556,
             "#d8576b"
            ],
            [
             0.6666666666666666,
             "#ed7953"
            ],
            [
             0.7777777777777778,
             "#fb9f3a"
            ],
            [
             0.8888888888888888,
             "#fdca26"
            ],
            [
             1,
             "#f0f921"
            ]
           ]
          },
          "colorway": [
           "#636efa",
           "#EF553B",
           "#00cc96",
           "#ab63fa",
           "#FFA15A",
           "#19d3f3",
           "#FF6692",
           "#B6E880",
           "#FF97FF",
           "#FECB52"
          ],
          "font": {
           "color": "#2a3f5f"
          },
          "geo": {
           "bgcolor": "white",
           "lakecolor": "white",
           "landcolor": "#E5ECF6",
           "showlakes": true,
           "showland": true,
           "subunitcolor": "white"
          },
          "hoverlabel": {
           "align": "left"
          },
          "hovermode": "closest",
          "mapbox": {
           "style": "light"
          },
          "paper_bgcolor": "white",
          "plot_bgcolor": "#E5ECF6",
          "polar": {
           "angularaxis": {
            "gridcolor": "white",
            "linecolor": "white",
            "ticks": ""
           },
           "bgcolor": "#E5ECF6",
           "radialaxis": {
            "gridcolor": "white",
            "linecolor": "white",
            "ticks": ""
           }
          },
          "scene": {
           "xaxis": {
            "backgroundcolor": "#E5ECF6",
            "gridcolor": "white",
            "gridwidth": 2,
            "linecolor": "white",
            "showbackground": true,
            "ticks": "",
            "zerolinecolor": "white"
           },
           "yaxis": {
            "backgroundcolor": "#E5ECF6",
            "gridcolor": "white",
            "gridwidth": 2,
            "linecolor": "white",
            "showbackground": true,
            "ticks": "",
            "zerolinecolor": "white"
           },
           "zaxis": {
            "backgroundcolor": "#E5ECF6",
            "gridcolor": "white",
            "gridwidth": 2,
            "linecolor": "white",
            "showbackground": true,
            "ticks": "",
            "zerolinecolor": "white"
           }
          },
          "shapedefaults": {
           "line": {
            "color": "#2a3f5f"
           }
          },
          "ternary": {
           "aaxis": {
            "gridcolor": "white",
            "linecolor": "white",
            "ticks": ""
           },
           "baxis": {
            "gridcolor": "white",
            "linecolor": "white",
            "ticks": ""
           },
           "bgcolor": "#E5ECF6",
           "caxis": {
            "gridcolor": "white",
            "linecolor": "white",
            "ticks": ""
           }
          },
          "title": {
           "x": 0.05
          },
          "xaxis": {
           "automargin": true,
           "gridcolor": "white",
           "linecolor": "white",
           "ticks": "",
           "title": {
            "standoff": 15
           },
           "zerolinecolor": "white",
           "zerolinewidth": 2
          },
          "yaxis": {
           "automargin": true,
           "gridcolor": "white",
           "linecolor": "white",
           "ticks": "",
           "title": {
            "standoff": 15
           },
           "zerolinecolor": "white",
           "zerolinewidth": 2
          }
         }
        },
        "xaxis": {
         "anchor": "y",
         "domain": [
          0,
          1
         ],
         "title": {
          "text": "x"
         }
        },
        "yaxis": {
         "anchor": "x",
         "domain": [
          0,
          1
         ],
         "title": {
          "text": "y"
         }
        }
       }
      },
      "text/html": [
       "<div>                            <div id=\"aa8540bb-8431-4259-895b-c545776859be\" class=\"plotly-graph-div\" style=\"height:525px; width:100%;\"></div>            <script type=\"text/javascript\">                require([\"plotly\"], function(Plotly) {                    window.PLOTLYENV=window.PLOTLYENV || {};                                    if (document.getElementById(\"aa8540bb-8431-4259-895b-c545776859be\")) {                    Plotly.newPlot(                        \"aa8540bb-8431-4259-895b-c545776859be\",                        [{\"hovertemplate\":\"x=%{x}<br>y=%{y}<br>text=%{text}<extra></extra>\",\"legendgroup\":\"\",\"marker\":{\"color\":\"#636efa\",\"symbol\":\"circle\"},\"mode\":\"markers+text\",\"name\":\"\",\"orientation\":\"v\",\"showlegend\":false,\"text\":[\"the\",\"and\",\"of\",\"to\",\"a\",\"it\",\"he\",\"was\",\"in\",\"that\",\"said\",\"you\",\"i\",\"had\",\"his\",\"on\",\"at\",\"with\",\"this\",\"for\",\"they\",\"arthur\",\"is\",\"what\",\"as\",\"ford\",\"but\",\"all\",\"which\",\"be\",\"she\",\"up\",\"one\",\"out\",\"him\",\"from\",\"have\",\"not\",\"there\",\"were\",\"about\",\"just\",\"them\",\"so\",\"would\",\"into\",\"been\",\"an\",\"her\",\"do\",\"zaphod\",\"if\",\"no\",\"very\",\"by\",\"like\",\"or\",\"we\",\"are\",\"again\",\"then\",\"me\",\"know\",\"now\",\"time\",\"down\",\"its\",\"could\",\"some\",\"their\",\"see\",\"well\",\"through\",\"back\",\"who\",\"it's\",\"over\",\"way\",\"when\",\"something\",\"don't\",\"other\",\"little\",\"think\",\"looked\",\"where\",\"going\",\"get\",\"your\",\"thought\",\"off\",\"more\",\"can\",\"yes\",\"only\",\"because\",\"two\",\"didn't\",\"did\",\"moment\",\"got\",\"my\",\"how\",\"man\",\"thing\",\"good\",\"any\",\"people\",\"ship\",\"here\",\"around\",\"go\",\"say\",\"seemed\",\"himself\",\"i'm\",\"away\",\"things\",\"suddenly\",\"will\",\"right\",\"planet\",\"look\",\"universe\",\"much\",\"small\",\"being\",\"come\",\"round\",\"after\",\"most\",\"oh\",\"life\",\"head\",\"trillian\",\"want\",\"anything\",\"why\",\"still\",\"even\",\"voice\",\"than\",\"light\",\"before\",\"another\",\"made\",\"first\",\"galaxy\",\"eyes\",\"nothing\",\"old\",\"that's\",\"fact\",\"few\",\"wasn't\",\"turned\",\"quite\",\"went\",\"last\",\"mind\",\"long\",\"tell\",\"make\",\"rather\",\"point\",\"marvin\",\"really\",\"too\",\"never\",\"came\",\"great\",\"bit\",\"computer\",\"years\",\"sort\",\"has\",\"ever\",\"left\",\"air\",\"guide\",\"trying\",\"find\",\"mean\",\"take\",\"space\",\"put\",\"earth\",\"slowly\",\"every\",\"chapter\",\"fie\",\"doing\",\"these\",\"looking\",\"end\",\"knew\",\"own\",\"though\",\"whole\",\"new\"],\"x\":[-1.6090491,-0.97387785,-1.7121465,3.04439,-1.7753475,0.5472811,1.2690773,4.0545783,-1.4843978,0.68826914,2.4040043,2.9825575,2.8968234,4.543048,-5.3701463,-1.6571323,-2.137529,-0.6244112,0.5311072,-0.39000922,1.4849256,1.5075806,3.99269,1.3753438,1.3896093,1.5891391,0.8482597,-0.20460565,-2.1141784,1.1956897,1.4823401,-1.3579186,-0.90813535,-1.7645772,1.9045335,-1.9294814,1.2101607,0.9837331,0.7643196,4.2309046,1.7966018,1.5109031,1.9106259,1.3038371,3.495928,-2.0646236,-3.6794877,-2.2540843,-5.412687,2.8496125,1.6082484,1.1853355,0.7174364,0.8746005,-2.1552463,1.9957778,0.5358299,2.9590192,4.2650213,-0.75823593,-0.7991967,2.9439619,2.9496758,0.55908805,-1.4355559,-1.5568945,-5.197964,3.6487644,-2.2709413,-2.1788502,2.9708154,1.9094801,-2.0949905,-1.1373073,1.147885,4.020212,-1.5277717,-3.2671883,1.1374763,1.27503,3.6889517,-1.9545345,-0.63206965,2.8484662,2.1512463,1.205151,2.1470525,3.0255764,-5.6822596,2.6767492,-1.6239576,0.7284014,3.69335,1.9131998,0.38684276,0.879415,-3.2482455,3.6763544,3.59478,1.7897184,2.185914,-5.710946,1.5463808,1.5363508,0.49184248,0.6193416,-1.1892365,-2.9279974,-1.8866801,2.518527,-2.3851042,2.8259728,2.9259076,4.145584,2.0068448,4.1119895,-1.1643618,0.78526384,-2.732931,3.5402498,-2.7674932,-1.4411856,1.9676682,-1.4547627,0.8590758,-2.0216203,-2.382033,2.758383,-2.7719963,-0.45085633,-1.3570431,2.3601182,-1.3589524,-0.59171873,1.1821136,2.4481354,1.1918483,1.753885,-4.2216897,1.1687351,-0.8822697,-2.2665746,-2.2669768,0.2621376,-2.204631,-4.8364816,-1.9525181,-2.3614173,-0.6798005,1.0309688,2.317077,3.856359,-0.46581444,3.265146,4.1699376,0.8041719,0.7384844,1.4310273,-4.586585,-0.81914866,-2.505866,3.114906,1.6741192,-3.7112231,-0.2993282,1.6146775,1.1301882,1.2865958,0.9614645,1.345352,2.8995662,0.7341544,2.8446128,-5.13539,-0.29847258,4.6337566,0.76948905,2.1648023,-1.8645339,-1.0004008,1.852177,3.0961938,2.5672128,3.12459,-3.0458333,1.9612912,-0.10711177,-1.157339,-2.2391138,-0.54738116,1.5224527,1.3227232,-3.0394664,2.158863,-2.5754921,4.15472,-0.89596546,0.7654787,-2.1628191,-0.32457817],\"xaxis\":\"x\",\"y\":[0.7780401,0.8506458,0.34759992,-3.0978186,0.5668943,-1.7166041,-2.1094148,-2.168596,0.25165543,-2.2176557,-0.11871334,-3.3136659,-3.2940512,-2.4984837,2.6988058,0.6820705,0.18626486,0.640164,-2.0378416,-3.4572728,-2.5791702,-2.0298107,-2.1840858,-2.96206,-2.8557782,-2.0338073,-2.3682728,-1.7907165,0.5994443,-2.6053312,-2.353854,1.1890674,-1.2481717,0.847693,-2.9582791,0.61059004,-2.5757766,-2.4964507,-2.5355947,-2.151558,-2.826676,-2.3452673,-3.0026705,-2.9569826,-3.392018,0.55367976,-1.8770983,0.66201526,2.7235703,-1.1334196,-2.2122536,-2.6315992,-2.0590367,-3.165331,0.26436034,-2.0895336,-2.7011125,-3.3766718,-2.1522155,1.43179,1.3357671,-3.3364751,-1.0401772,-2.50924,-2.3392417,1.1446265,2.6140065,-3.322216,0.69487154,1.0397147,-1.0437366,-1.927715,0.6727148,1.6201255,-2.7298324,-2.158498,0.89455885,-0.34477043,-3.2635028,-2.882959,-3.4799516,0.99572694,1.0654948,-1.0436269,2.315458,-3.0706763,-3.777748,-0.5046878,2.6104224,-0.7672253,1.1336501,-3.6393385,-3.4206884,-0.634755,-2.2279837,-2.585588,1.0272435,-3.428397,-2.9867592,1.2643169,-0.0684105,2.6264622,-3.1891463,-1.8265817,-2.1910124,-2.6599312,-0.8711268,0.24763373,4.046465,-2.486847,1.1437318,-0.29758292,-1.0579072,-2.1696823,-2.7259927,-2.2119765,0.95844984,-2.9628358,-4.459628,-3.3687768,-3.5850267,-2.4577734,0.47330785,-1.3502082,-2.2599778,0.9837521,0.21068098,-0.23128766,1.2036773,-3.7303,-0.81192493,-0.41413832,-2.873769,3.0314121,-0.52132225,-0.7036477,-2.786893,-3.216161,-2.4333355,-2.859384,-3.8464422,-0.6957474,1.4993203,-3.805897,0.7016028,-1.0966318,-3.2044237,0.035099052,2.7509372,-2.559804,-1.9271663,-2.0033545,-1.9070305,2.2400959,-2.2081034,3.3639123,-2.4799147,2.8843753,3.3317208,3.4766161,-0.14510897,-1.0832832,-2.658365,-0.31183487,-1.961809,-1.4872812,-2.574798,-3.146039,-2.5730863,4.2358246,1.4989511,-0.12911817,1.9240254,1.5467769,-0.022777893,-2.5303693,-2.3659246,2.7252152,2.5307736,-0.8697455,-3.9045248,-0.84840584,-0.79774284,-0.27963507,2.8416774,2.5629857,-2.503607,2.5822587,0.6375677,-0.68543655,-2.3769794,-0.33069956,-1.1918479,2.0081544,-1.6423246,-2.1520665,2.1910865,-2.5055795,0.59418213,-4.288178],\"yaxis\":\"y\",\"type\":\"scatter\"}],                        {\"template\":{\"data\":{\"histogram2dcontour\":[{\"type\":\"histogram2dcontour\",\"colorbar\":{\"outlinewidth\":0,\"ticks\":\"\"},\"colorscale\":[[0.0,\"#0d0887\"],[0.1111111111111111,\"#46039f\"],[0.2222222222222222,\"#7201a8\"],[0.3333333333333333,\"#9c179e\"],[0.4444444444444444,\"#bd3786\"],[0.5555555555555556,\"#d8576b\"],[0.6666666666666666,\"#ed7953\"],[0.7777777777777778,\"#fb9f3a\"],[0.8888888888888888,\"#fdca26\"],[1.0,\"#f0f921\"]]}],\"choropleth\":[{\"type\":\"choropleth\",\"colorbar\":{\"outlinewidth\":0,\"ticks\":\"\"}}],\"histogram2d\":[{\"type\":\"histogram2d\",\"colorbar\":{\"outlinewidth\":0,\"ticks\":\"\"},\"colorscale\":[[0.0,\"#0d0887\"],[0.1111111111111111,\"#46039f\"],[0.2222222222222222,\"#7201a8\"],[0.3333333333333333,\"#9c179e\"],[0.4444444444444444,\"#bd3786\"],[0.5555555555555556,\"#d8576b\"],[0.6666666666666666,\"#ed7953\"],[0.7777777777777778,\"#fb9f3a\"],[0.8888888888888888,\"#fdca26\"],[1.0,\"#f0f921\"]]}],\"heatmap\":[{\"type\":\"heatmap\",\"colorbar\":{\"outlinewidth\":0,\"ticks\":\"\"},\"colorscale\":[[0.0,\"#0d0887\"],[0.1111111111111111,\"#46039f\"],[0.2222222222222222,\"#7201a8\"],[0.3333333333333333,\"#9c179e\"],[0.4444444444444444,\"#bd3786\"],[0.5555555555555556,\"#d8576b\"],[0.6666666666666666,\"#ed7953\"],[0.7777777777777778,\"#fb9f3a\"],[0.8888888888888888,\"#fdca26\"],[1.0,\"#f0f921\"]]}],\"heatmapgl\":[{\"type\":\"heatmapgl\",\"colorbar\":{\"outlinewidth\":0,\"ticks\":\"\"},\"colorscale\":[[0.0,\"#0d0887\"],[0.1111111111111111,\"#46039f\"],[0.2222222222222222,\"#7201a8\"],[0.3333333333333333,\"#9c179e\"],[0.4444444444444444,\"#bd3786\"],[0.5555555555555556,\"#d8576b\"],[0.6666666666666666,\"#ed7953\"],[0.7777777777777778,\"#fb9f3a\"],[0.8888888888888888,\"#fdca26\"],[1.0,\"#f0f921\"]]}],\"contourcarpet\":[{\"type\":\"contourcarpet\",\"colorbar\":{\"outlinewidth\":0,\"ticks\":\"\"}}],\"contour\":[{\"type\":\"contour\",\"colorbar\":{\"outlinewidth\":0,\"ticks\":\"\"},\"colorscale\":[[0.0,\"#0d0887\"],[0.1111111111111111,\"#46039f\"],[0.2222222222222222,\"#7201a8\"],[0.3333333333333333,\"#9c179e\"],[0.4444444444444444,\"#bd3786\"],[0.5555555555555556,\"#d8576b\"],[0.6666666666666666,\"#ed7953\"],[0.7777777777777778,\"#fb9f3a\"],[0.8888888888888888,\"#fdca26\"],[1.0,\"#f0f921\"]]}],\"surface\":[{\"type\":\"surface\",\"colorbar\":{\"outlinewidth\":0,\"ticks\":\"\"},\"colorscale\":[[0.0,\"#0d0887\"],[0.1111111111111111,\"#46039f\"],[0.2222222222222222,\"#7201a8\"],[0.3333333333333333,\"#9c179e\"],[0.4444444444444444,\"#bd3786\"],[0.5555555555555556,\"#d8576b\"],[0.6666666666666666,\"#ed7953\"],[0.7777777777777778,\"#fb9f3a\"],[0.8888888888888888,\"#fdca26\"],[1.0,\"#f0f921\"]]}],\"mesh3d\":[{\"type\":\"mesh3d\",\"colorbar\":{\"outlinewidth\":0,\"ticks\":\"\"}}],\"scatter\":[{\"fillpattern\":{\"fillmode\":\"overlay\",\"size\":10,\"solidity\":0.2},\"type\":\"scatter\"}],\"parcoords\":[{\"type\":\"parcoords\",\"line\":{\"colorbar\":{\"outlinewidth\":0,\"ticks\":\"\"}}}],\"scatterpolargl\":[{\"type\":\"scatterpolargl\",\"marker\":{\"colorbar\":{\"outlinewidth\":0,\"ticks\":\"\"}}}],\"bar\":[{\"error_x\":{\"color\":\"#2a3f5f\"},\"error_y\":{\"color\":\"#2a3f5f\"},\"marker\":{\"line\":{\"color\":\"#E5ECF6\",\"width\":0.5},\"pattern\":{\"fillmode\":\"overlay\",\"size\":10,\"solidity\":0.2}},\"type\":\"bar\"}],\"scattergeo\":[{\"type\":\"scattergeo\",\"marker\":{\"colorbar\":{\"outlinewidth\":0,\"ticks\":\"\"}}}],\"scatterpolar\":[{\"type\":\"scatterpolar\",\"marker\":{\"colorbar\":{\"outlinewidth\":0,\"ticks\":\"\"}}}],\"histogram\":[{\"marker\":{\"pattern\":{\"fillmode\":\"overlay\",\"size\":10,\"solidity\":0.2}},\"type\":\"histogram\"}],\"scattergl\":[{\"type\":\"scattergl\",\"marker\":{\"colorbar\":{\"outlinewidth\":0,\"ticks\":\"\"}}}],\"scatter3d\":[{\"type\":\"scatter3d\",\"line\":{\"colorbar\":{\"outlinewidth\":0,\"ticks\":\"\"}},\"marker\":{\"colorbar\":{\"outlinewidth\":0,\"ticks\":\"\"}}}],\"scattermapbox\":[{\"type\":\"scattermapbox\",\"marker\":{\"colorbar\":{\"outlinewidth\":0,\"ticks\":\"\"}}}],\"scatterternary\":[{\"type\":\"scatterternary\",\"marker\":{\"colorbar\":{\"outlinewidth\":0,\"ticks\":\"\"}}}],\"scattercarpet\":[{\"type\":\"scattercarpet\",\"marker\":{\"colorbar\":{\"outlinewidth\":0,\"ticks\":\"\"}}}],\"carpet\":[{\"aaxis\":{\"endlinecolor\":\"#2a3f5f\",\"gridcolor\":\"white\",\"linecolor\":\"white\",\"minorgridcolor\":\"white\",\"startlinecolor\":\"#2a3f5f\"},\"baxis\":{\"endlinecolor\":\"#2a3f5f\",\"gridcolor\":\"white\",\"linecolor\":\"white\",\"minorgridcolor\":\"white\",\"startlinecolor\":\"#2a3f5f\"},\"type\":\"carpet\"}],\"table\":[{\"cells\":{\"fill\":{\"color\":\"#EBF0F8\"},\"line\":{\"color\":\"white\"}},\"header\":{\"fill\":{\"color\":\"#C8D4E3\"},\"line\":{\"color\":\"white\"}},\"type\":\"table\"}],\"barpolar\":[{\"marker\":{\"line\":{\"color\":\"#E5ECF6\",\"width\":0.5},\"pattern\":{\"fillmode\":\"overlay\",\"size\":10,\"solidity\":0.2}},\"type\":\"barpolar\"}],\"pie\":[{\"automargin\":true,\"type\":\"pie\"}]},\"layout\":{\"autotypenumbers\":\"strict\",\"colorway\":[\"#636efa\",\"#EF553B\",\"#00cc96\",\"#ab63fa\",\"#FFA15A\",\"#19d3f3\",\"#FF6692\",\"#B6E880\",\"#FF97FF\",\"#FECB52\"],\"font\":{\"color\":\"#2a3f5f\"},\"hovermode\":\"closest\",\"hoverlabel\":{\"align\":\"left\"},\"paper_bgcolor\":\"white\",\"plot_bgcolor\":\"#E5ECF6\",\"polar\":{\"bgcolor\":\"#E5ECF6\",\"angularaxis\":{\"gridcolor\":\"white\",\"linecolor\":\"white\",\"ticks\":\"\"},\"radialaxis\":{\"gridcolor\":\"white\",\"linecolor\":\"white\",\"ticks\":\"\"}},\"ternary\":{\"bgcolor\":\"#E5ECF6\",\"aaxis\":{\"gridcolor\":\"white\",\"linecolor\":\"white\",\"ticks\":\"\"},\"baxis\":{\"gridcolor\":\"white\",\"linecolor\":\"white\",\"ticks\":\"\"},\"caxis\":{\"gridcolor\":\"white\",\"linecolor\":\"white\",\"ticks\":\"\"}},\"coloraxis\":{\"colorbar\":{\"outlinewidth\":0,\"ticks\":\"\"}},\"colorscale\":{\"sequential\":[[0.0,\"#0d0887\"],[0.1111111111111111,\"#46039f\"],[0.2222222222222222,\"#7201a8\"],[0.3333333333333333,\"#9c179e\"],[0.4444444444444444,\"#bd3786\"],[0.5555555555555556,\"#d8576b\"],[0.6666666666666666,\"#ed7953\"],[0.7777777777777778,\"#fb9f3a\"],[0.8888888888888888,\"#fdca26\"],[1.0,\"#f0f921\"]],\"sequentialminus\":[[0.0,\"#0d0887\"],[0.1111111111111111,\"#46039f\"],[0.2222222222222222,\"#7201a8\"],[0.3333333333333333,\"#9c179e\"],[0.4444444444444444,\"#bd3786\"],[0.5555555555555556,\"#d8576b\"],[0.6666666666666666,\"#ed7953\"],[0.7777777777777778,\"#fb9f3a\"],[0.8888888888888888,\"#fdca26\"],[1.0,\"#f0f921\"]],\"diverging\":[[0,\"#8e0152\"],[0.1,\"#c51b7d\"],[0.2,\"#de77ae\"],[0.3,\"#f1b6da\"],[0.4,\"#fde0ef\"],[0.5,\"#f7f7f7\"],[0.6,\"#e6f5d0\"],[0.7,\"#b8e186\"],[0.8,\"#7fbc41\"],[0.9,\"#4d9221\"],[1,\"#276419\"]]},\"xaxis\":{\"gridcolor\":\"white\",\"linecolor\":\"white\",\"ticks\":\"\",\"title\":{\"standoff\":15},\"zerolinecolor\":\"white\",\"automargin\":true,\"zerolinewidth\":2},\"yaxis\":{\"gridcolor\":\"white\",\"linecolor\":\"white\",\"ticks\":\"\",\"title\":{\"standoff\":15},\"zerolinecolor\":\"white\",\"automargin\":true,\"zerolinewidth\":2},\"scene\":{\"xaxis\":{\"backgroundcolor\":\"#E5ECF6\",\"gridcolor\":\"white\",\"linecolor\":\"white\",\"showbackground\":true,\"ticks\":\"\",\"zerolinecolor\":\"white\",\"gridwidth\":2},\"yaxis\":{\"backgroundcolor\":\"#E5ECF6\",\"gridcolor\":\"white\",\"linecolor\":\"white\",\"showbackground\":true,\"ticks\":\"\",\"zerolinecolor\":\"white\",\"gridwidth\":2},\"zaxis\":{\"backgroundcolor\":\"#E5ECF6\",\"gridcolor\":\"white\",\"linecolor\":\"white\",\"showbackground\":true,\"ticks\":\"\",\"zerolinecolor\":\"white\",\"gridwidth\":2}},\"shapedefaults\":{\"line\":{\"color\":\"#2a3f5f\"}},\"annotationdefaults\":{\"arrowcolor\":\"#2a3f5f\",\"arrowhead\":0,\"arrowwidth\":1},\"geo\":{\"bgcolor\":\"white\",\"landcolor\":\"#E5ECF6\",\"subunitcolor\":\"white\",\"showland\":true,\"showlakes\":true,\"lakecolor\":\"white\"},\"title\":{\"x\":0.05},\"mapbox\":{\"style\":\"light\"}}},\"xaxis\":{\"anchor\":\"y\",\"domain\":[0.0,1.0],\"title\":{\"text\":\"x\"}},\"yaxis\":{\"anchor\":\"x\",\"domain\":[0.0,1.0],\"title\":{\"text\":\"y\"}},\"legend\":{\"tracegroupgap\":0},\"margin\":{\"t\":60}},                        {\"responsive\": true}                    ).then(function(){\n",
       "                            \n",
       "var gd = document.getElementById('aa8540bb-8431-4259-895b-c545776859be');\n",
       "var x = new MutationObserver(function (mutations, observer) {{\n",
       "        var display = window.getComputedStyle(gd).display;\n",
       "        if (!display || display === 'none') {{\n",
       "            console.log([gd, 'removed!']);\n",
       "            Plotly.purge(gd);\n",
       "            observer.disconnect();\n",
       "        }}\n",
       "}});\n",
       "\n",
       "// Listen for the removal of the full notebook cells\n",
       "var notebookContainer = gd.closest('#notebook-container');\n",
       "if (notebookContainer) {{\n",
       "    x.observe(notebookContainer, {childList: true});\n",
       "}}\n",
       "\n",
       "// Listen for the clearing of the current output cell\n",
       "var outputEl = gd.closest('.output');\n",
       "if (outputEl) {{\n",
       "    x.observe(outputEl, {childList: true});\n",
       "}}\n",
       "\n",
       "                        })                };                });            </script>        </div>"
      ]
     },
     "metadata": {},
     "output_type": "display_data"
    }
   ],
   "source": [
    "x_vals, y_vals, labels = reduce_dimensions(cbow_model)\n",
    "\n",
    "MAX_WORDS = 200\n",
    "fig = px.scatter(x=x_vals[:MAX_WORDS], y=y_vals[:MAX_WORDS], text=labels[:MAX_WORDS])\n",
    "fig.show()"
   ]
  },
  {
   "cell_type": "markdown",
   "metadata": {},
   "source": [
    "<img src=\"./plots/cbow.png\" width=\"900\" align=\"center\">"
   ]
  },
  {
   "cell_type": "markdown",
   "metadata": {},
   "source": [
    "Zoom\n",
    "\n",
    "<img src=\"./plots/cbow.png\" width=\"900\" align=\"center\">"
   ]
  },
  {
   "cell_type": "markdown",
   "metadata": {},
   "source": [
    "En este caso vemos que las palabras se encuentran un poco más separadas y forman dos clusters principales. Sin embargo es difícil encontrar grupos de palabras muy relacionadas. Algo interesante se observa en x=[0, 3] y y=[2, 4], hay una agrupación de verbos en pasado: turned, went, put, left, looked. Esto indica que el algoritmo no solo aprendió a relacionar palabras con significado similar sino también los tipos de palabras como los verbos y su tiempo verbal."
   ]
  }
 ],
 "metadata": {
  "kernelspec": {
   "display_name": "Python 3 (ipykernel)",
   "language": "python",
   "name": "python3"
  },
  "language_info": {
   "codemirror_mode": {
    "name": "ipython",
    "version": 3
   },
   "file_extension": ".py",
   "mimetype": "text/x-python",
   "name": "python",
   "nbconvert_exporter": "python",
   "pygments_lexer": "ipython3",
   "version": "3.10.4"
  },
  "vscode": {
   "interpreter": {
    "hash": "916dbcbb3f70747c44a77c7bcd40155683ae19c65e1c03b4aa3499c5328201f1"
   }
  }
 },
 "nbformat": 4,
 "nbformat_minor": 2
}
