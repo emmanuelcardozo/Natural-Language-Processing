{
 "cells": [
  {
   "cell_type": "markdown",
   "metadata": {
    "id": "Ue5hxxkdAQJg"
   },
   "source": [
    "<img src=\"..\\Desafio 1\\img\\img.png\" width=\"500\" align=\"right\">\n",
    "\n",
    "# Procesamiento de lenguaje natural\n",
    "\n",
    "\n",
    "## TP1\n",
    "\n",
    "### Alumno: Emmanuel Cardozo"
   ]
  },
  {
   "cell_type": "markdown",
   "metadata": {},
   "source": [
    "#### Objetivos:\n",
    "\n",
    "Word2vect se tratarán los siguientes temas:\n",
    "\n",
    "- Obtener el vocabulario de un Corpus.\n",
    "- Codificarlo con el método One-hot Encoding\n",
    "- Codificarlo con el método de Vector de Frecuencia o Term Frequency (TF)\n",
    "- Codificarlo con el método TF-IDF (Term Frequency – Inverse Document Frequency)\n",
    "- Comparación de similitud de los documentos de un Corpus mediante la similutd del coseno"
   ]
  },
  {
   "cell_type": "code",
   "execution_count": 61,
   "metadata": {
    "id": "kCED1hh-Ioyf"
   },
   "outputs": [],
   "source": [
    "import numpy as np\n",
    "import pandas as pd"
   ]
  },
  {
   "cell_type": "code",
   "execution_count": 62,
   "metadata": {
    "id": "PUbfVnzIIoMj"
   },
   "outputs": [],
   "source": [
    "def cos_similarity(a, b):\n",
    "    return np.dot(a, b) / (np.linalg.norm(a) * (np.linalg.norm(b)))"
   ]
  },
  {
   "cell_type": "markdown",
   "metadata": {
    "id": "DMOa4JPSCJ29"
   },
   "source": [
    "### Datos"
   ]
  },
  {
   "cell_type": "code",
   "execution_count": 63,
   "metadata": {
    "id": "RIO7b8GjAC17"
   },
   "outputs": [],
   "source": [
    "corpus = np.array(\n",
    "    [\"que dia es hoy\", \"martes el dia de hoy es martes\", \"martes muchas gracias\"]\n",
    ")"
   ]
  },
  {
   "cell_type": "markdown",
   "metadata": {
    "id": "8WqdaTmO8P1r"
   },
   "source": [
    "Documento 1--> que dia es hoy \\\n",
    "Documento 2--> martes el dia de hoy es martes \\\n",
    "Documento 3--> martes muchas gracias"
   ]
  },
  {
   "cell_type": "markdown",
   "metadata": {
    "id": "FVHxBRNzCMOS"
   },
   "source": [
    "### 1 - Obtener el vocabulario del corpus (los términos utilizados)\n",
    "- Cada documento transformarlo en una lista de términos\n",
    "- Armar un vector de términos no repetidos de todos los documentos"
   ]
  },
  {
   "cell_type": "code",
   "execution_count": 64,
   "metadata": {},
   "outputs": [
    {
     "name": "stdout",
     "output_type": "stream",
     "text": [
      "que\n",
      "es\n",
      "gracias\n",
      "muchas\n",
      "martes\n",
      "el\n",
      "hoy\n",
      "dia\n",
      "de\n"
     ]
    }
   ],
   "source": [
    "vocabulary = set(\" \".join(corpus).split())\n",
    "for word in vocab:\n",
    "    print(f\"{word}\")"
   ]
  },
  {
   "cell_type": "markdown",
   "metadata": {
    "id": "RUhH983FI7It"
   },
   "source": [
    "### 2- OneHot encoding\n",
    "Dada una lista de textos, devolver una matriz con la representación oneHotEncoding de estos"
   ]
  },
  {
   "cell_type": "code",
   "execution_count": 54,
   "metadata": {},
   "outputs": [],
   "source": [
    "calculate_vocabulary = lambda corpus: set(\" \".join(corpus).split())"
   ]
  },
  {
   "cell_type": "code",
   "execution_count": 73,
   "metadata": {
    "id": "Os0AAQo6I6Z1"
   },
   "outputs": [
    {
     "data": {
      "text/html": [
       "<div>\n",
       "<style scoped>\n",
       "    .dataframe tbody tr th:only-of-type {\n",
       "        vertical-align: middle;\n",
       "    }\n",
       "\n",
       "    .dataframe tbody tr th {\n",
       "        vertical-align: top;\n",
       "    }\n",
       "\n",
       "    .dataframe thead th {\n",
       "        text-align: right;\n",
       "    }\n",
       "</style>\n",
       "<table border=\"1\" class=\"dataframe\">\n",
       "  <thead>\n",
       "    <tr style=\"text-align: right;\">\n",
       "      <th></th>\n",
       "      <th>que</th>\n",
       "      <th>es</th>\n",
       "      <th>gracias</th>\n",
       "      <th>muchas</th>\n",
       "      <th>martes</th>\n",
       "      <th>el</th>\n",
       "      <th>hoy</th>\n",
       "      <th>dia</th>\n",
       "      <th>de</th>\n",
       "    </tr>\n",
       "  </thead>\n",
       "  <tbody>\n",
       "    <tr>\n",
       "      <th>que dia es hoy</th>\n",
       "      <td>1</td>\n",
       "      <td>1</td>\n",
       "      <td>0</td>\n",
       "      <td>0</td>\n",
       "      <td>0</td>\n",
       "      <td>0</td>\n",
       "      <td>1</td>\n",
       "      <td>1</td>\n",
       "      <td>0</td>\n",
       "    </tr>\n",
       "    <tr>\n",
       "      <th>martes el dia de hoy es martes</th>\n",
       "      <td>0</td>\n",
       "      <td>1</td>\n",
       "      <td>0</td>\n",
       "      <td>0</td>\n",
       "      <td>1</td>\n",
       "      <td>1</td>\n",
       "      <td>1</td>\n",
       "      <td>1</td>\n",
       "      <td>1</td>\n",
       "    </tr>\n",
       "    <tr>\n",
       "      <th>martes muchas gracias</th>\n",
       "      <td>0</td>\n",
       "      <td>0</td>\n",
       "      <td>1</td>\n",
       "      <td>1</td>\n",
       "      <td>1</td>\n",
       "      <td>0</td>\n",
       "      <td>0</td>\n",
       "      <td>0</td>\n",
       "      <td>0</td>\n",
       "    </tr>\n",
       "  </tbody>\n",
       "</table>\n",
       "</div>"
      ],
      "text/plain": [
       "                                que  es  gracias  muchas  martes  el  hoy  \\\n",
       "que dia es hoy                    1   1        0       0       0   0    1   \n",
       "martes el dia de hoy es martes    0   1        0       0       1   1    1   \n",
       "martes muchas gracias             0   0        1       1       1   0    0   \n",
       "\n",
       "                                dia  de  \n",
       "que dia es hoy                    1   0  \n",
       "martes el dia de hoy es martes    1   1  \n",
       "martes muchas gracias             0   0  "
      ]
     },
     "execution_count": 73,
     "metadata": {},
     "output_type": "execute_result"
    }
   ],
   "source": [
    "def one_hot(corp):\n",
    "    vocabulary = calculate_vocabulary(corp)\n",
    "    matrix = []\n",
    "\n",
    "    for doc in corp:\n",
    "        row = []\n",
    "        splitted_doc = doc.split()\n",
    "        for word in vocab:\n",
    "            row.append(1 if word in splitted_doc else 0)\n",
    "        matrix.append(row)\n",
    "\n",
    "    return np.array(one_hot_matrix)\n",
    "\n",
    "\n",
    "one_hot_matrix = one_hot(corpus)\n",
    "pd.DataFrame(one_hot_matrix, columns=vocabulary, index=corpus)"
   ]
  },
  {
   "cell_type": "markdown",
   "metadata": {
    "id": "IIyWGmCpJVQL"
   },
   "source": [
    "### 3- Vectores de frecuencia\n",
    "Data una lista de textos, devolver una matriz con la representación de frecuencia de estos"
   ]
  },
  {
   "cell_type": "code",
   "execution_count": 81,
   "metadata": {
    "id": "yqij_7eHJbUi"
   },
   "outputs": [
    {
     "data": {
      "text/html": [
       "<div>\n",
       "<style scoped>\n",
       "    .dataframe tbody tr th:only-of-type {\n",
       "        vertical-align: middle;\n",
       "    }\n",
       "\n",
       "    .dataframe tbody tr th {\n",
       "        vertical-align: top;\n",
       "    }\n",
       "\n",
       "    .dataframe thead th {\n",
       "        text-align: right;\n",
       "    }\n",
       "</style>\n",
       "<table border=\"1\" class=\"dataframe\">\n",
       "  <thead>\n",
       "    <tr style=\"text-align: right;\">\n",
       "      <th></th>\n",
       "      <th>que</th>\n",
       "      <th>es</th>\n",
       "      <th>gracias</th>\n",
       "      <th>muchas</th>\n",
       "      <th>martes</th>\n",
       "      <th>el</th>\n",
       "      <th>hoy</th>\n",
       "      <th>dia</th>\n",
       "      <th>de</th>\n",
       "    </tr>\n",
       "  </thead>\n",
       "  <tbody>\n",
       "    <tr>\n",
       "      <th>que dia es hoy</th>\n",
       "      <td>1</td>\n",
       "      <td>1</td>\n",
       "      <td>0</td>\n",
       "      <td>0</td>\n",
       "      <td>0</td>\n",
       "      <td>0</td>\n",
       "      <td>1</td>\n",
       "      <td>1</td>\n",
       "      <td>0</td>\n",
       "    </tr>\n",
       "    <tr>\n",
       "      <th>martes el dia de hoy es martes</th>\n",
       "      <td>0</td>\n",
       "      <td>1</td>\n",
       "      <td>0</td>\n",
       "      <td>0</td>\n",
       "      <td>2</td>\n",
       "      <td>1</td>\n",
       "      <td>1</td>\n",
       "      <td>1</td>\n",
       "      <td>1</td>\n",
       "    </tr>\n",
       "    <tr>\n",
       "      <th>martes muchas gracias</th>\n",
       "      <td>0</td>\n",
       "      <td>0</td>\n",
       "      <td>1</td>\n",
       "      <td>1</td>\n",
       "      <td>1</td>\n",
       "      <td>0</td>\n",
       "      <td>0</td>\n",
       "      <td>0</td>\n",
       "      <td>0</td>\n",
       "    </tr>\n",
       "  </tbody>\n",
       "</table>\n",
       "</div>"
      ],
      "text/plain": [
       "                                que  es  gracias  muchas  martes  el  hoy  \\\n",
       "que dia es hoy                    1   1        0       0       0   0    1   \n",
       "martes el dia de hoy es martes    0   1        0       0       2   1    1   \n",
       "martes muchas gracias             0   0        1       1       1   0    0   \n",
       "\n",
       "                                dia  de  \n",
       "que dia es hoy                    1   0  \n",
       "martes el dia de hoy es martes    1   1  \n",
       "martes muchas gracias             0   0  "
      ]
     },
     "execution_count": 81,
     "metadata": {},
     "output_type": "execute_result"
    }
   ],
   "source": [
    "def freq(corp):\n",
    "    vocabulary = calculate_vocabulary(corp)\n",
    "    matrix = []\n",
    "\n",
    "    for doc in corpus:\n",
    "        row = []\n",
    "        splitted_doc = doc.split()\n",
    "        for word in vocabulary:\n",
    "            row.append(splitted_doc.count(word))\n",
    "        matrix.append(row)\n",
    "\n",
    "    return np.array(matrix)\n",
    "\n",
    "freq_matrix = freq(corpus)\n",
    "pd.DataFrame(freq_matrix, columns=vocabulary, index=corpus)"
   ]
  },
  {
   "cell_type": "markdown",
   "metadata": {
    "id": "z_Ot8HvWJcBu"
   },
   "source": [
    "### 4- TF-IDF\n",
    "Data una lista de textos, devolver una matriz con la representacion TFIDF"
   ]
  },
  {
   "cell_type": "code",
   "execution_count": 153,
   "metadata": {
    "id": "waG_oWtpJjRw"
   },
   "outputs": [
    {
     "data": {
      "text/html": [
       "<div>\n",
       "<style scoped>\n",
       "    .dataframe tbody tr th:only-of-type {\n",
       "        vertical-align: middle;\n",
       "    }\n",
       "\n",
       "    .dataframe tbody tr th {\n",
       "        vertical-align: top;\n",
       "    }\n",
       "\n",
       "    .dataframe thead th {\n",
       "        text-align: right;\n",
       "    }\n",
       "</style>\n",
       "<table border=\"1\" class=\"dataframe\">\n",
       "  <thead>\n",
       "    <tr style=\"text-align: right;\">\n",
       "      <th></th>\n",
       "      <th>que</th>\n",
       "      <th>es</th>\n",
       "      <th>gracias</th>\n",
       "      <th>muchas</th>\n",
       "      <th>martes</th>\n",
       "      <th>el</th>\n",
       "      <th>hoy</th>\n",
       "      <th>dia</th>\n",
       "      <th>de</th>\n",
       "    </tr>\n",
       "  </thead>\n",
       "  <tbody>\n",
       "    <tr>\n",
       "      <th>IDF</th>\n",
       "      <td>&lt;function idf at 0x0000025D7DA416C0&gt;</td>\n",
       "      <td>&lt;function idf at 0x0000025D7DA416C0&gt;</td>\n",
       "      <td>&lt;function idf at 0x0000025D7DA416C0&gt;</td>\n",
       "      <td>&lt;function idf at 0x0000025D7DA416C0&gt;</td>\n",
       "      <td>&lt;function idf at 0x0000025D7DA416C0&gt;</td>\n",
       "      <td>&lt;function idf at 0x0000025D7DA416C0&gt;</td>\n",
       "      <td>&lt;function idf at 0x0000025D7DA416C0&gt;</td>\n",
       "      <td>&lt;function idf at 0x0000025D7DA416C0&gt;</td>\n",
       "      <td>&lt;function idf at 0x0000025D7DA416C0&gt;</td>\n",
       "    </tr>\n",
       "  </tbody>\n",
       "</table>\n",
       "</div>"
      ],
      "text/plain": [
       "                                      que  \\\n",
       "IDF  <function idf at 0x0000025D7DA416C0>   \n",
       "\n",
       "                                       es  \\\n",
       "IDF  <function idf at 0x0000025D7DA416C0>   \n",
       "\n",
       "                                  gracias  \\\n",
       "IDF  <function idf at 0x0000025D7DA416C0>   \n",
       "\n",
       "                                   muchas  \\\n",
       "IDF  <function idf at 0x0000025D7DA416C0>   \n",
       "\n",
       "                                   martes  \\\n",
       "IDF  <function idf at 0x0000025D7DA416C0>   \n",
       "\n",
       "                                       el  \\\n",
       "IDF  <function idf at 0x0000025D7DA416C0>   \n",
       "\n",
       "                                      hoy  \\\n",
       "IDF  <function idf at 0x0000025D7DA416C0>   \n",
       "\n",
       "                                      dia  \\\n",
       "IDF  <function idf at 0x0000025D7DA416C0>   \n",
       "\n",
       "                                       de  \n",
       "IDF  <function idf at 0x0000025D7DA416C0>  "
      ]
     },
     "execution_count": 153,
     "metadata": {},
     "output_type": "execute_result"
    }
   ],
   "source": [
    "def idf(corpus):\n",
    "    df = one_hot(corpus).sum(axis=0)\n",
    "    return np.log10(corpus.shape[0] / df).reshape(1, -1)\n",
    "\n",
    "\n",
    "IDF = idf(corpus)\n",
    "\n",
    "pd.DataFrame(idf, columns=vocabulary, index=[\"IDF\"])"
   ]
  },
  {
   "cell_type": "code",
   "execution_count": 154,
   "metadata": {},
   "outputs": [
    {
     "name": "stdout",
     "output_type": "stream",
     "text": [
      "Matriz con la representación TF-IDF de las palabras en el documento:\n"
     ]
    },
    {
     "data": {
      "text/html": [
       "<div>\n",
       "<style scoped>\n",
       "    .dataframe tbody tr th:only-of-type {\n",
       "        vertical-align: middle;\n",
       "    }\n",
       "\n",
       "    .dataframe tbody tr th {\n",
       "        vertical-align: top;\n",
       "    }\n",
       "\n",
       "    .dataframe thead th {\n",
       "        text-align: right;\n",
       "    }\n",
       "</style>\n",
       "<table border=\"1\" class=\"dataframe\">\n",
       "  <thead>\n",
       "    <tr style=\"text-align: right;\">\n",
       "      <th></th>\n",
       "      <th>que</th>\n",
       "      <th>es</th>\n",
       "      <th>gracias</th>\n",
       "      <th>muchas</th>\n",
       "      <th>martes</th>\n",
       "      <th>el</th>\n",
       "      <th>hoy</th>\n",
       "      <th>dia</th>\n",
       "      <th>de</th>\n",
       "    </tr>\n",
       "  </thead>\n",
       "  <tbody>\n",
       "    <tr>\n",
       "      <th>que dia es hoy</th>\n",
       "      <td>&lt;function tf_idf at 0x0000025D7D868310&gt;</td>\n",
       "      <td>&lt;function tf_idf at 0x0000025D7D868310&gt;</td>\n",
       "      <td>&lt;function tf_idf at 0x0000025D7D868310&gt;</td>\n",
       "      <td>&lt;function tf_idf at 0x0000025D7D868310&gt;</td>\n",
       "      <td>&lt;function tf_idf at 0x0000025D7D868310&gt;</td>\n",
       "      <td>&lt;function tf_idf at 0x0000025D7D868310&gt;</td>\n",
       "      <td>&lt;function tf_idf at 0x0000025D7D868310&gt;</td>\n",
       "      <td>&lt;function tf_idf at 0x0000025D7D868310&gt;</td>\n",
       "      <td>&lt;function tf_idf at 0x0000025D7D868310&gt;</td>\n",
       "    </tr>\n",
       "    <tr>\n",
       "      <th>martes el dia de hoy es martes</th>\n",
       "      <td>&lt;function tf_idf at 0x0000025D7D868310&gt;</td>\n",
       "      <td>&lt;function tf_idf at 0x0000025D7D868310&gt;</td>\n",
       "      <td>&lt;function tf_idf at 0x0000025D7D868310&gt;</td>\n",
       "      <td>&lt;function tf_idf at 0x0000025D7D868310&gt;</td>\n",
       "      <td>&lt;function tf_idf at 0x0000025D7D868310&gt;</td>\n",
       "      <td>&lt;function tf_idf at 0x0000025D7D868310&gt;</td>\n",
       "      <td>&lt;function tf_idf at 0x0000025D7D868310&gt;</td>\n",
       "      <td>&lt;function tf_idf at 0x0000025D7D868310&gt;</td>\n",
       "      <td>&lt;function tf_idf at 0x0000025D7D868310&gt;</td>\n",
       "    </tr>\n",
       "    <tr>\n",
       "      <th>martes muchas gracias</th>\n",
       "      <td>&lt;function tf_idf at 0x0000025D7D868310&gt;</td>\n",
       "      <td>&lt;function tf_idf at 0x0000025D7D868310&gt;</td>\n",
       "      <td>&lt;function tf_idf at 0x0000025D7D868310&gt;</td>\n",
       "      <td>&lt;function tf_idf at 0x0000025D7D868310&gt;</td>\n",
       "      <td>&lt;function tf_idf at 0x0000025D7D868310&gt;</td>\n",
       "      <td>&lt;function tf_idf at 0x0000025D7D868310&gt;</td>\n",
       "      <td>&lt;function tf_idf at 0x0000025D7D868310&gt;</td>\n",
       "      <td>&lt;function tf_idf at 0x0000025D7D868310&gt;</td>\n",
       "      <td>&lt;function tf_idf at 0x0000025D7D868310&gt;</td>\n",
       "    </tr>\n",
       "  </tbody>\n",
       "</table>\n",
       "</div>"
      ],
      "text/plain": [
       "                                                                    que  \\\n",
       "que dia es hoy                  <function tf_idf at 0x0000025D7D868310>   \n",
       "martes el dia de hoy es martes  <function tf_idf at 0x0000025D7D868310>   \n",
       "martes muchas gracias           <function tf_idf at 0x0000025D7D868310>   \n",
       "\n",
       "                                                                     es  \\\n",
       "que dia es hoy                  <function tf_idf at 0x0000025D7D868310>   \n",
       "martes el dia de hoy es martes  <function tf_idf at 0x0000025D7D868310>   \n",
       "martes muchas gracias           <function tf_idf at 0x0000025D7D868310>   \n",
       "\n",
       "                                                                gracias  \\\n",
       "que dia es hoy                  <function tf_idf at 0x0000025D7D868310>   \n",
       "martes el dia de hoy es martes  <function tf_idf at 0x0000025D7D868310>   \n",
       "martes muchas gracias           <function tf_idf at 0x0000025D7D868310>   \n",
       "\n",
       "                                                                 muchas  \\\n",
       "que dia es hoy                  <function tf_idf at 0x0000025D7D868310>   \n",
       "martes el dia de hoy es martes  <function tf_idf at 0x0000025D7D868310>   \n",
       "martes muchas gracias           <function tf_idf at 0x0000025D7D868310>   \n",
       "\n",
       "                                                                 martes  \\\n",
       "que dia es hoy                  <function tf_idf at 0x0000025D7D868310>   \n",
       "martes el dia de hoy es martes  <function tf_idf at 0x0000025D7D868310>   \n",
       "martes muchas gracias           <function tf_idf at 0x0000025D7D868310>   \n",
       "\n",
       "                                                                     el  \\\n",
       "que dia es hoy                  <function tf_idf at 0x0000025D7D868310>   \n",
       "martes el dia de hoy es martes  <function tf_idf at 0x0000025D7D868310>   \n",
       "martes muchas gracias           <function tf_idf at 0x0000025D7D868310>   \n",
       "\n",
       "                                                                    hoy  \\\n",
       "que dia es hoy                  <function tf_idf at 0x0000025D7D868310>   \n",
       "martes el dia de hoy es martes  <function tf_idf at 0x0000025D7D868310>   \n",
       "martes muchas gracias           <function tf_idf at 0x0000025D7D868310>   \n",
       "\n",
       "                                                                    dia  \\\n",
       "que dia es hoy                  <function tf_idf at 0x0000025D7D868310>   \n",
       "martes el dia de hoy es martes  <function tf_idf at 0x0000025D7D868310>   \n",
       "martes muchas gracias           <function tf_idf at 0x0000025D7D868310>   \n",
       "\n",
       "                                                                     de  \n",
       "que dia es hoy                  <function tf_idf at 0x0000025D7D868310>  \n",
       "martes el dia de hoy es martes  <function tf_idf at 0x0000025D7D868310>  \n",
       "martes muchas gracias           <function tf_idf at 0x0000025D7D868310>  "
      ]
     },
     "execution_count": 154,
     "metadata": {},
     "output_type": "execute_result"
    }
   ],
   "source": [
    "TF_IDF = freq_matrix * IDF\n",
    "\n",
    "print(\"Matriz con la representación TF-IDF de las palabras en el documento:\")\n",
    "pd.DataFrame(tf_idf, columns=vocabulary, index=corpus)"
   ]
  },
  {
   "cell_type": "markdown",
   "metadata": {
    "id": "xMcsfndWJjm_"
   },
   "source": [
    "### 5 - Comparación de documentos\n",
    "Realizar una funcion que reciba el corpus y el índice de un documento y devuelva los documentos ordenados por la similitud coseno"
   ]
  },
  {
   "cell_type": "code",
   "execution_count": 189,
   "metadata": {},
   "outputs": [],
   "source": [
    "def sort_cos_similarity(corp, doc_index):\n",
    "    tf = freq(corpus)\n",
    "    scores = []\n",
    "    for i in range(len(tf)):\n",
    "        scores.append(cos_similarity(np.array(tf[doc_index]), np.array(tf[i])))\n",
    "    return [x for x, x in sorted(zip(scores, corp), reverse=True)]"
   ]
  },
  {
   "cell_type": "code",
   "execution_count": 190,
   "metadata": {},
   "outputs": [
    {
     "name": "stdout",
     "output_type": "stream",
     "text": [
      "Documentos ordenados según su similitud de coseno, para el corpus trabajado e índice 1:\n",
      " ['martes el dia de hoy es martes', 'que dia es hoy', 'martes muchas gracias']\n"
     ]
    }
   ],
   "source": [
    "print(\"Documentos ordenados según su similitud de coseno, para el corpus trabajado e índice 1:\\n\", sort_cos_similarity(corpus, 1))"
   ]
  },
  {
   "cell_type": "code",
   "execution_count": 191,
   "metadata": {},
   "outputs": [
    {
     "name": "stdout",
     "output_type": "stream",
     "text": [
      "Documentos ordenados según su similitud de coseno, para el corpus trabajado e índice 2:\n",
      " ['martes muchas gracias', 'martes el dia de hoy es martes', 'que dia es hoy']\n"
     ]
    }
   ],
   "source": [
    "print(\"Documentos ordenados según su similitud de coseno, para el corpus trabajado e índice 2:\\n\", sort_cos_similarity(corpus, 2))"
   ]
  },
  {
   "cell_type": "code",
   "execution_count": 188,
   "metadata": {},
   "outputs": [
    {
     "name": "stdout",
     "output_type": "stream",
     "text": [
      "Documentos ordenados según su similitud de coseno, para el corpus trabajado e índice 3:\n",
      " ['martes muchas gracias', 'martes el dia de hoy es martes', 'que dia es hoy']\n"
     ]
    }
   ],
   "source": [
    "print(\"Documentos ordenados según su similitud de coseno, para el corpus trabajado e índice 3:\\n\", sort_cos_similarity(corpus, 0))"
   ]
  },
  {
   "cell_type": "code",
   "execution_count": null,
   "metadata": {},
   "outputs": [],
   "source": []
  }
 ],
 "metadata": {
  "colab": {
   "authorship_tag": "ABX9TyO5fRYTpympAwJSVbric6dW",
   "collapsed_sections": [],
   "name": "1a - word2vec.ipynb",
   "provenance": []
  },
  "kernelspec": {
   "display_name": "Python 3 (ipykernel)",
   "language": "python",
   "name": "python3"
  },
  "language_info": {
   "codemirror_mode": {
    "name": "ipython",
    "version": 3
   },
   "file_extension": ".py",
   "mimetype": "text/x-python",
   "name": "python",
   "nbconvert_exporter": "python",
   "pygments_lexer": "ipython3",
   "version": "3.10.4"
  }
 },
 "nbformat": 4,
 "nbformat_minor": 1
}
